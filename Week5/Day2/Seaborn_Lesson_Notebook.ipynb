{
  "cells": [
    {
      "cell_type": "markdown",
      "id": "b94c5cdb",
      "metadata": {
        "id": "b94c5cdb"
      },
      "source": [
        "# Introduction To Seaborn’s API\n",
        "\n",
        "### Overview Of Seaborn’s Capabilities And Syntax\n",
        "**Seaborn is a Python data visualization library that offers an interface to create a wide variety of statistical graphics easily. It’s built on top of Matplotlib and integrates well with pandas data structures. Here’s an overview of what Seaborn brings to the table:**\n",
        "\n",
        "**Enhanced Visualization:**  Seaborn extends the capabilities of Matplotlib by providing a rich set of options for visualizing statistical data. It includes functions for creating complex plots like heatmaps, pair plots, and facet grids with minimal coding.\n",
        "\n",
        "**Simplified Syntax:**  One of the key features of Seaborn is its high-level interface, which simplifies the process of creating elaborate visualizations. For example, you can create a histogram with KDE (Kernel Density Estimate) overlay with just one line of code.\n",
        "\n",
        "**Advanced Plot Types:**  Seaborn specializes in statistical visualizations and offers plot types that are not natively available in Matplotlib, such as violin plots and swarm plots.\n",
        "\n",
        "**Attractive Default Styles:**  Seaborn comes with aesthetically pleasing default styles that make the visualizations more appealing without needing extensive customization.\n",
        "\n",
        "**Easy Integration with Pandas:**  Seaborn works seamlessly with pandas DataFrames, making it easier to visualize data directly from CSVs, Excel spreadsheets, or SQL databases.\n",
        "\n",
        "**Customization and Styling:**  While offering beautiful defaults, Seaborn also provides extensive customization options for color palettes, themes, and plot styles to suit different requirements and preferences.\n",
        "\n",
        "\n",
        "\n",
        "### Understanding The Difference Between Seaborn And Matplotlib\n",
        "\n",
        "\n",
        "**While Seaborn Is Built On Matplotlib, There Are Distinct Differences Between The Two Libraries:**\n",
        "\n",
        "**Purpose and Design Philosophy:**  Matplotlib is a versatile library designed for creating a wide array of graphs with a lot of room for customization. Seaborn, on the other hand, focuses more on providing a streamlined approach for statistical data visualization.\n",
        "\n",
        "**Ease of Use:**  Seaborn simplifies the creation of many common plot types. For instance, generating a box plot or a violin plot is more straightforward in Seaborn than in Matplotlib.\n",
        "\n",
        "**Customization:**  While Matplotlib excels in the flexibility of customizing plots, Seaborn offers more coherent and easy-to-set aesthetics and themes.\n",
        "\n",
        "**Data Handling:**  Seaborn integrates more closely with pandas DataFrames, making it more convenient for data analysis tasks straight from DataFrame structures.\n",
        "\n",
        "**Statistical Functionality:**  Seaborn provides built-in functions for creating complex statistical visualizations, whereas Matplotlib relies more on the user’s knowledge to create these from scratch.\n",
        "\n",
        "Overall, Seaborn is often preferred for statistical data visualization for its simplicity and attractive visuals, while Matplotlib is the go-to for more customized and intricate graphic designs.\n",
        "\n",
        "\n",
        "\n",
        "**✅ Knowledge Check:**  Understanding Seaborn’s API\n",
        "\n",
        "**After exploring the introduction to Seaborn’s API, let’s test your understanding with a few questions:**\n",
        "\n",
        "How does Seaborn’s purpose and design philosophy differ from Matplotlib?\n",
        "\n",
        "What makes Seaborn’s syntax simpler and more user-friendly compared to Matplotlib, especially for statistical data visualization?\n",
        "\n",
        "Name at least two plot types that Seaborn offers which are not natively available in Matplotlib.\n",
        "\n",
        "How does Seaborn’s integration with pandas DataFrames enhance its usability for data analysis?\n",
        "\n",
        "Discuss the customization options in Seaborn. How does it provide more attractive default styles compared to Matplotlib?\n",
        "\n",
        "\n",
        "\n",
        "# Distribution Plots\n",
        "In this section, we delve into creating and customizing distribution plots using Seaborn. These plots are fundamental for exploring and understanding the distribution of your data, whether it’s univariate (one variable) or bivariate (two variables).\n",
        "\n",
        "\n",
        "\n",
        "### Creating Histograms\n",
        "Histograms are one of the most common ways to visualize the distribution of a dataset. Seaborn makes creating and customizing histograms straightforward.\n",
        "\n",
        "### Basic Histogram: To create a basic histogram, you can use the histplot function."
      ]
    },
    {
      "cell_type": "code",
      "execution_count": null,
      "id": "c1bcf3a6",
      "metadata": {
        "id": "c1bcf3a6"
      },
      "outputs": [],
      "source": [
        "import seaborn as sns\n",
        "import matplotlib.pyplot as plt\n",
        "\n",
        "# Load sample data\n",
        "data = sns.load_dataset('tips')\n",
        "sns.histplot(data['total_bill'])\n",
        "plt.title('Histogram of Total Bill')\n",
        "plt.show()\n"
      ]
    },
    {
      "cell_type": "markdown",
      "source": [
        "Customization: You can customize the number of bins, color, and more, to better understand the data distribution."
      ],
      "metadata": {
        "id": "RUyw2SHqdpjg"
      },
      "id": "RUyw2SHqdpjg"
    },
    {
      "cell_type": "code",
      "source": [
        "sns.histplot(data['total_bill'], bins=20, color='skyblue')\n",
        "plt.title('Histogram of Total Bill with Custom Bins and Color')\n",
        "plt.show()"
      ],
      "metadata": {
        "id": "6elAgrEZdsBU"
      },
      "id": "6elAgrEZdsBU",
      "execution_count": null,
      "outputs": []
    },
    {
      "cell_type": "markdown",
      "id": "c5757620",
      "metadata": {
        "id": "c5757620"
      },
      "source": [
        "\n",
        "### Kernel Density Estimation (KDE) Plots\n",
        "KDE plots are useful for visualizing the probability density of a continuous variable. Seaborn’s kdeplot function allows you to create these plots easily.\n",
        "**Creating a KDE Plot:**"
      ]
    },
    {
      "cell_type": "code",
      "execution_count": null,
      "id": "a2bf3f2c",
      "metadata": {
        "id": "a2bf3f2c"
      },
      "outputs": [],
      "source": [
        "sns.kdeplot(data['total_bill'], fill=True)\n",
        "plt.title('KDE of Total Bill')\n",
        "plt.show()"
      ]
    },
    {
      "cell_type": "markdown",
      "source": [
        "\n",
        "Customization: Adjust the bandwidth, color, or add a histogram to your KDE plot."
      ],
      "metadata": {
        "id": "l38fxwoRfUhM"
      },
      "id": "l38fxwoRfUhM"
    },
    {
      "cell_type": "code",
      "source": [
        "sns.kdeplot(data['total_bill'], bw_adjust=0.5, color='red', shade=True)\n",
        "plt.title('Customized KDE of Total Bill')\n",
        "plt.show()"
      ],
      "metadata": {
        "id": "8Be7Z20AfZZL"
      },
      "id": "8Be7Z20AfZZL",
      "execution_count": null,
      "outputs": []
    },
    {
      "cell_type": "markdown",
      "id": "7af79ec4",
      "metadata": {
        "id": "7af79ec4"
      },
      "source": [
        "\n",
        "### Exploring Univariate And Bivariate Distributions\n",
        "Seaborn provides functions to explore both univariate and bivariate distributions.\n",
        "\n",
        "**Univariate Distribution:**  Using displot, you can create a histogram with a KDE overlay for univariate distribution."
      ]
    },
    {
      "cell_type": "code",
      "execution_count": null,
      "id": "2d06e268",
      "metadata": {
        "id": "2d06e268"
      },
      "outputs": [],
      "source": [
        "sns.displot(data['total_bill'], color='navy', kde=True, alpha=0.6)\n",
        "plt.title('Univariate Distribution of Total Bill')\n",
        "plt.show()"
      ]
    },
    {
      "cell_type": "markdown",
      "source": [
        "Bivariate Distribution: jointplot is used to visualize bivariate distributions, showing the relationship between two different variables."
      ],
      "metadata": {
        "id": "vKA6pNjrfmrr"
      },
      "id": "vKA6pNjrfmrr"
    },
    {
      "cell_type": "code",
      "source": [
        "sns.jointplot(x='total_bill', y='tip', data=data, kind='scatter')\n",
        "plt.title('Bivariate Distribution of Total Bill and Tips', pad=70)\n",
        "plt.show()"
      ],
      "metadata": {
        "id": "DzVo9zjNfoz6"
      },
      "id": "DzVo9zjNfoz6",
      "execution_count": null,
      "outputs": []
    },
    {
      "cell_type": "markdown",
      "id": "e21827a2",
      "metadata": {
        "id": "e21827a2"
      },
      "source": [
        "\n",
        "### Customizing Plot Styles And Colors\n",
        "Seaborn allows extensive customization to suit your needs or preferences. You can change the overall theme, color palettes, and more.\n",
        "**Changing Themes:**  Use set_style to change the background and grid style."
      ]
    },
    {
      "cell_type": "code",
      "execution_count": null,
      "id": "d8c6ebbf",
      "metadata": {
        "id": "d8c6ebbf"
      },
      "outputs": [],
      "source": [
        "sns.set_style('darkgrid')\n",
        "sns.histplot(data['total_bill'])\n",
        "plt.show()"
      ]
    },
    {
      "cell_type": "markdown",
      "source": [
        "Color Palettes: Leverage Seaborn’s rich palette options to make your plots more visually appealing."
      ],
      "metadata": {
        "id": "4y1SmBVmHiUU"
      },
      "id": "4y1SmBVmHiUU"
    },
    {
      "cell_type": "code",
      "source": [
        "sns.set_palette('bright')\n",
        "sns.kdeplot(data['total_bill'], fill=True)\n",
        "plt.show()"
      ],
      "metadata": {
        "id": "Lct83gJvHmPe"
      },
      "id": "Lct83gJvHmPe",
      "execution_count": null,
      "outputs": []
    },
    {
      "cell_type": "markdown",
      "id": "a3eea8a9",
      "metadata": {
        "id": "a3eea8a9"
      },
      "source": [
        "\n",
        "✅ Knowledge Check\n",
        "\n",
        "**Now that you have learned about distribution plots in Seaborn, let’s check your understanding:**\n",
        "What is the primary purpose of a histogram in data visualization?\n",
        "\n",
        "A. To show relationships between two variables.\n",
        "\n",
        "B. To visualize the frequency distribution of a single variable.\n",
        "\n",
        "C. To display the median and quartiles of a dataset.\n",
        "\n",
        "How does a KDE plot differ from a histogram?\n",
        "\n",
        "A. A KDE plot shows categorical data, while a histogram shows numerical data.\n",
        "\n",
        "B. A KDE plot is used for bivariate distributions only, while a histogram is not.\n",
        "\n",
        "C. A KDE plot provides a smooth estimation of a dataset’s probability density function, while a histogram shows discrete bins.\n",
        "\n",
        "What does the shade/fill parameter do in a KDE plot?\n",
        "\n",
        "A. It changes the color of the plot.\n",
        "\n",
        "B. It fills the area under the KDE curve.\n",
        "\n",
        "C. It adjusts the bandwidth of the KDE.\n",
        "\n",
        "\n",
        "##🚀 Challenge\n",
        "**Scenario:**  You are a data analyst working with a dataset that contains information on restaurant tips.\n",
        "\n",
        "**Tasks:**\n",
        "\n",
        "**1. Create a Histogram:**  Generate a histogram for the size of party column to understand its distribution.\n",
        "\n",
        "**2. Overlay a KDE Plot:**  On the same histogram, overlay a KDE plot to provide a smooth estimation of the distribution.\n",
        "\n",
        "**3. Customize Your Plot:**  Customize your plot by adding an appropriate title, changing the color of the histogram, and adjusting the number of bins.\n",
        "\n",
        "**4. Create a Joint Plot with Tip Size:**  Generate a separate plot to show the effect of party size on the size of the tip.\n",
        "\n",
        "Share your code and briefly explain your observations from the plots.\n",
        "\n"
      ]
    },
    {
      "cell_type": "code",
      "source": [
        "data.head()"
      ],
      "metadata": {
        "id": "cYwKyhsdZSYv"
      },
      "id": "cYwKyhsdZSYv",
      "execution_count": null,
      "outputs": []
    },
    {
      "cell_type": "code",
      "source": [
        "sns.displot(data=data, x='size',kde=True)\n",
        "plt.show()"
      ],
      "metadata": {
        "id": "gEPhD77aZxD9"
      },
      "id": "gEPhD77aZxD9",
      "execution_count": null,
      "outputs": []
    },
    {
      "cell_type": "code",
      "source": [
        "sns.jointplot(data,x='size', y='tip')"
      ],
      "metadata": {
        "id": "56OACjfMajVK"
      },
      "id": "56OACjfMajVK",
      "execution_count": null,
      "outputs": []
    },
    {
      "cell_type": "markdown",
      "source": [
        "\n",
        "### Categorical Data Visualization\n",
        "In this section, we explore how Seaborn enables effective visualization of categorical data. Seaborn simplifies the creation of complex visualizations for categorical data analysis, such as bar plots, box plots, and violin plots. Understanding these plots and customizing them can provide deeper insights into your data.\n",
        "\n",
        "### Generating Bar Plots, Box Plots, And Violin Plots\n",
        "**1. Bar Plots:**  Bar plots are used for displaying the distribution of a categorical variable. They show the frequency or count of each category using bars."
      ],
      "metadata": {
        "id": "GFoOSKZvZQ7f"
      },
      "id": "GFoOSKZvZQ7f"
    },
    {
      "cell_type": "code",
      "execution_count": null,
      "id": "bef88fec",
      "metadata": {
        "id": "bef88fec"
      },
      "outputs": [],
      "source": [
        "import seaborn as sns\n",
        "import matplotlib.pyplot as plt\n",
        "\n",
        "# Sample data\n",
        "titanic = sns.load_dataset('titanic')"
      ]
    },
    {
      "cell_type": "code",
      "execution_count": null,
      "id": "d92b815e",
      "metadata": {
        "id": "d92b815e"
      },
      "outputs": [],
      "source": [
        "# Creating a bar plot\n",
        "sns.barplot(x='class', y='survived', data=titanic)\n",
        "plt.title('Survival Rate by Class')\n",
        "plt.show()"
      ]
    },
    {
      "cell_type": "code",
      "source": [
        "titanic.head()"
      ],
      "metadata": {
        "id": "1r8vW2LTtKrc"
      },
      "id": "1r8vW2LTtKrc",
      "execution_count": null,
      "outputs": []
    },
    {
      "cell_type": "code",
      "source": [
        "ti = titanic[titanic['class'] == 'First']"
      ],
      "metadata": {
        "id": "esjs6ouBsxLI"
      },
      "id": "esjs6ouBsxLI",
      "execution_count": null,
      "outputs": []
    },
    {
      "cell_type": "code",
      "source": [
        "ti['survived'].sum()/len(ti)"
      ],
      "metadata": {
        "id": "oVd_Ga1XtAW0"
      },
      "id": "oVd_Ga1XtAW0",
      "execution_count": null,
      "outputs": []
    },
    {
      "cell_type": "code",
      "source": [],
      "metadata": {
        "id": "4Hnz3CEVPYlR"
      },
      "id": "4Hnz3CEVPYlR",
      "execution_count": null,
      "outputs": []
    },
    {
      "cell_type": "markdown",
      "id": "6af2261e",
      "metadata": {
        "id": "6af2261e"
      },
      "source": [
        "\n",
        "**2. Box Plots:**  Box plots provide a visual summary of the central tendency, dispersion, and skewness of the data, and can also highlight outliers."
      ]
    },
    {
      "cell_type": "code",
      "execution_count": null,
      "id": "bfc4e18f",
      "metadata": {
        "id": "bfc4e18f"
      },
      "outputs": [],
      "source": [
        "# Creating a box plot\n",
        "sns.boxplot(x='class', y='age', data=titanic)\n",
        "plt.title('Age Distribution by Class')\n",
        "plt.show()"
      ]
    },
    {
      "cell_type": "markdown",
      "id": "e2ca22e7",
      "metadata": {
        "id": "e2ca22e7"
      },
      "source": [
        "\n",
        "**3. Violin Plots:**  Violin plots combine features of box plots and density plots. They are useful for displaying the distribution of the data and its probability density."
      ]
    },
    {
      "cell_type": "code",
      "execution_count": null,
      "id": "06d5c67c",
      "metadata": {
        "id": "06d5c67c"
      },
      "outputs": [],
      "source": [
        "# Creating a violin plot\n",
        "sns.violinplot(x='class', y='age', data=titanic)\n",
        "plt.title('Age Distribution by Class')\n",
        "plt.show()"
      ]
    },
    {
      "cell_type": "markdown",
      "id": "7b50faf7",
      "metadata": {
        "id": "7b50faf7"
      },
      "source": [
        "\n",
        "### Understanding The Nuances Of Each Plot\n",
        "Bar Plots are best when you need to compare the quantity of categorical data across different categories.\n",
        "\n",
        "Box Plots are ideal for visualizing the distribution of data, making it easy to see the median, quartiles, and outliers.\n",
        "\n",
        "Violin Plots are useful when both the distribution of the data and the number of data points are of interest.\n",
        "\n",
        "\n",
        "### Customizing Categorical Plots For Better Insights\n",
        "**Seaborn allows extensive customization to make these plots more informative:**\n",
        "\n",
        "**Customizing Bar Plots:**  Add hue parameter for nested grouping, change bar colors, or add annotations to show the value on each bar.\n",
        "\n",
        "**Customizing Box Plots:**  Adjust whisker length, add swarm plots for individual data points, or change color palettes.\n",
        "\n",
        "**Customizing Violin Plots:**  Split the violins to compare distributions across a second categorical variable, adjust the bandwidth of the KDE, or combine with swarm plots.\n",
        "\n",
        "By customizing these plots, you can make your categorical data visualizations more intuitive and insightful, which is essential for effective data analysis.\n",
        "\n",
        "\n",
        "### Scatter Plots And Joint Plots\n",
        "In this section, we explore how to create and utilize scatter plots and joint plots using Seaborn, emphasizing their use in displaying relationships between two variables and visualizing their individual distributions.\n",
        "\n",
        "### Scatter Plots With Regression Lines\n",
        "Scatter plots are a fundamental tool in statistical analysis, allowing us to visualize the relationship between two continuous variables. Seaborn simplifies the process of adding regression lines to these plots, providing immediate insights into any linear relationships.\n",
        "\n",
        "### Creating A Scatter Plot With A Regression Line\n",
        "**To create a scatter plot with a regression line in Seaborn:**\n"
      ]
    },
    {
      "cell_type": "code",
      "execution_count": null,
      "id": "018c8a80",
      "metadata": {
        "id": "018c8a80"
      },
      "outputs": [],
      "source": [
        "import seaborn as sns\n",
        "import matplotlib.pyplot as plt\n",
        "\n",
        "# Loading example dataset\n",
        "data = sns.load_dataset('tips')\n",
        "\n",
        "# Creating the scatter plot\n",
        "sns.lmplot(x='total_bill', y='tip', data=data)\n",
        "\n",
        "# Adding plot title and labels\n",
        "plt.title('Scatter Plot with Regression Line')\n",
        "plt.xlabel('Total Bill')\n",
        "plt.ylabel('Tip')\n",
        "\n",
        "# Displaying the plot\n",
        "plt.show()"
      ]
    },
    {
      "cell_type": "markdown",
      "id": "fd0e7d74",
      "metadata": {
        "id": "fd0e7d74"
      },
      "source": [
        "\n",
        "This code will produce a scatter plot of total_bill against tip from the tips dataset, with a regression line fitted to the data.\n",
        "\n",
        "\n",
        "### Using Joint Plots To Explore Relationships And Distributions\n",
        "Joint plots are particularly useful for a comprehensive view of how two variables relate to each other and their individual distribution characteristics.\n",
        "\n",
        "**To create a joint plot in Seaborn:**"
      ]
    },
    {
      "cell_type": "code",
      "execution_count": null,
      "id": "70a9925d",
      "metadata": {
        "id": "70a9925d"
      },
      "outputs": [],
      "source": [
        "import seaborn as sns\n",
        "import matplotlib.pyplot as plt\n",
        "\n",
        "# Loading example dataset\n",
        "data = sns.load_dataset('tips')\n",
        "\n",
        "# Creating the joint plot\n",
        "sns.jointplot(x='total_bill', y='tip', data=data, kind='reg')\n",
        "\n",
        "# Adding a title\n",
        "plt.subplots_adjust(top=0.9)\n",
        "plt.suptitle('Joint Plot of Total Bill and Tip')\n",
        "\n",
        "# Displaying the plot\n",
        "plt.show()"
      ]
    },
    {
      "cell_type": "markdown",
      "id": "cab1a15c",
      "metadata": {
        "id": "cab1a15c"
      },
      "source": [
        "\n",
        "In this example, kind=’reg’ adds a linear regression fit to the scatter plot, providing an immediate understanding of the relationship between total_bill and tip. The histograms on the top and right show the distribution of each variable, respectively.\n",
        "\n",
        "### Insights From Scatter And Joint Plots\n",
        "**Scatter Plots:**  Ideal for observing the relationship between two continuous variables. The addition of a regression line helps in understanding the nature of their relationship, be it linear or non-linear.\n",
        "\n",
        "**Joint Plots:**  Extend the capabilities of scatter plots by including histograms, giving a more complete picture of the data. They are especially useful in exploratory data analysis to understand both relationships and distributions simultaneously.\n",
        "By mastering scatter and joint plots in Seaborn, you enhance your ability to conduct detailed exploratory analysis, uncovering insights that might be missed with simpler visualizations.\n",
        "\n",
        "\n",
        "### Pair Plots And Heatmaps\n",
        "Utilizing Pair Plots For Exploring Pairwise Relationships In A Dataset\n",
        "Pair plots are a comprehensive way to visualize the relationships between each pair of variables in a dataset. Seaborn’s pairplot function is a powerful tool for this purpose, providing a grid of Axes where each variable is shared across the y-axes in a single row and the x-axes in a single column.\n",
        "\n",
        "**The following Python code demonstrates how to create a pair plot using Seaborn:**"
      ]
    },
    {
      "cell_type": "code",
      "execution_count": null,
      "id": "730ea58f",
      "metadata": {
        "id": "730ea58f"
      },
      "outputs": [],
      "source": [
        "import seaborn as sns\n",
        "import matplotlib.pyplot as plt\n",
        "\n",
        "# Load a sample dataset\n",
        "iris = sns.load_dataset('iris')"
      ]
    },
    {
      "cell_type": "code",
      "source": [
        "iris.head()"
      ],
      "metadata": {
        "id": "UzzT-eVLd4ji"
      },
      "id": "UzzT-eVLd4ji",
      "execution_count": null,
      "outputs": []
    },
    {
      "cell_type": "code",
      "source": [
        "iris['species'].unique()"
      ],
      "metadata": {
        "id": "Snpa3ceheCWW"
      },
      "id": "Snpa3ceheCWW",
      "execution_count": null,
      "outputs": []
    },
    {
      "cell_type": "code",
      "execution_count": null,
      "id": "07e13acb",
      "metadata": {
        "id": "07e13acb"
      },
      "outputs": [],
      "source": [
        "# Create a pair plot\n",
        "sns.pairplot(iris, hue='species', markers=[\"o\", \"s\", \"D\"])\n",
        "plt.show()"
      ]
    },
    {
      "cell_type": "markdown",
      "source": [
        "sepal_length=4.5, sepal_width=3, petal_length=1.8, petal_width=0.7"
      ],
      "metadata": {
        "id": "2ZCxbCUNfCjE"
      },
      "id": "2ZCxbCUNfCjE"
    },
    {
      "cell_type": "code",
      "source": [
        "def firstpredict(pl):\n",
        "  if pl < 2:\n",
        "    return 1\n",
        "  elif pl < 5:\n",
        "    return 2\n",
        "  else:\n",
        "    return 3\n",
        "\n",
        "def secondpredict(pw):\n",
        "  if pw < 0.8:\n",
        "    return 1\n",
        "  elif pw < 1.7:\n",
        "    return 2\n",
        "  else:\n",
        "    return 3\n",
        "\n",
        "to_species = {1: \"setosa\", 2: \"versicolor\", 3: \"virginica\"}\n",
        "\n",
        "from_species = {\"setosa\": 1, \"versicolor\": 2, \"virginica\": 3}\n",
        "\n",
        "res = firstpredict(4.5)*0.4 + secondpredict(1.75)*0.6\n",
        "print(res)\n",
        "\n"
      ],
      "metadata": {
        "id": "J1Ug2dD3g_tI"
      },
      "id": "J1Ug2dD3g_tI",
      "execution_count": null,
      "outputs": []
    },
    {
      "cell_type": "markdown",
      "id": "bc97189e",
      "metadata": {
        "id": "bc97189e"
      },
      "source": [
        "\n",
        "In this example, iris is a pandas DataFrame. The hue parameter specifies which column in the DataFrame should be used for color encoding adding another dimension to the plot. This method allows for a quick and comprehensive exploration of the pairwise relationships in the dataset.\n",
        "\n",
        "\n",
        "### Heatmaps\n",
        "Generating Heatmaps For Visualizing Correlation Matrices And Complex Data Grids\n",
        "Heatmaps are an effective visualization tool for representing complex data matrices, especially useful for displaying correlation matrices. In Seaborn, creating a heatmap can help identify relationships between multiple variables easily.\n",
        "\n",
        "**A correlation matrix is a table showing correlation coefficients between variables. Each cell in the table shows the correlation between two variables. The value is in the range of -1 to 1. If two variables have high correlation, it indicates a strong relationship between them. Here’s a breakdown of what the correlation coefficients mean:**\n",
        "\n",
        "**Coefficient Value Close to +1:**  Indicates a strong positive relationship between the two variables. As one variable increases, the other variable tends to also increase.\n",
        "\n",
        "**Coefficient Value Close to -1:**  Indicates a strong negative relationship. As one variable increases, the other variable tends to decrease.\n",
        "\n",
        "**Coefficient Value Close to 0:**  Suggests a weak or no linear relationship between the variables.\n",
        "\n",
        "A correlation matrix is used to measure and display the degree of linear relationship between pairs of variables in a dataset. It helps in identifying how closely connected different variables are, aiding in understanding their relationships and dependencies.\n",
        "\n",
        "**To visualize a correlation matrix with a heatmap in Seaborn, you can use the following Python code:**"
      ]
    },
    {
      "cell_type": "code",
      "execution_count": null,
      "id": "1719e9f4",
      "metadata": {
        "id": "1719e9f4"
      },
      "outputs": [],
      "source": [
        "# Calculating the correlation matrix\n",
        "correlation_matrix = iris.corr()"
      ]
    },
    {
      "cell_type": "code",
      "execution_count": null,
      "id": "fdd5db54",
      "metadata": {
        "id": "fdd5db54"
      },
      "outputs": [],
      "source": [
        "# Create a heatmap\n",
        "sns.heatmap(correlation_matrix, annot=True, cmap='coolwarm')\n",
        "plt.title(\"Correlation Matrix Heatmap\")\n",
        "plt.show()"
      ]
    },
    {
      "cell_type": "markdown",
      "id": "5dd0b2be",
      "metadata": {
        "id": "5dd0b2be"
      },
      "source": [
        "The corr() method calculates the correlation matrix of the DataFrame, and the heatmap function in Seaborn is used to visualize this matrix. The annot=True argument annotates the heatmap with the correlation coefficients, and cmap='coolwarm'specifies the color palette used for visualization.\n",
        "\n",
        "Heatmaps are particularly useful for spotting patterns and understanding the strength and direction of the relationship between multiple variables, making them a key tool in exploratory data analysis.\n",
        "\n",
        "### Facet Grids And Pair Grids\n",
        "In this part of the lesson, we focus on two powerful aspects of Seaborn - Facet Grids and Pair Grids. These features allow for the creation of complex grid layouts that can be used to visualize data in detailed and structured ways.\n",
        "\n",
        "\n",
        "### Facet Grids\n",
        "Facet grids are an excellent way to explore and visualize data across multiple subplots. They allow you to create a grid of plots based on the values of certain variables, enabling a comprehensive comparison across different subsets of your dataset.\n",
        "\n",
        "To create a facet grid, Seaborn’s FacetGrid function is used. This function needs a DataFrame and the names of the variables that will form the rows and columns of the grid.\n",
        "Once the grid is set up, you can map different plot types to each facet.\n",
        "Example of Creating a Facet Grid"
      ]
    },
    {
      "cell_type": "code",
      "execution_count": null,
      "id": "0249b7ac",
      "metadata": {
        "id": "0249b7ac"
      },
      "outputs": [],
      "source": [
        "import seaborn as sns\n",
        "import matplotlib.pyplot as plt\n",
        "\n",
        "# Load a sample dataset\n",
        "data = sns.load_dataset(\"tips\")"
      ]
    },
    {
      "cell_type": "markdown",
      "id": "fb0315f0",
      "metadata": {
        "id": "fb0315f0"
      },
      "source": []
    },
    {
      "cell_type": "code",
      "execution_count": null,
      "id": "f9c63280",
      "metadata": {
        "id": "f9c63280"
      },
      "outputs": [],
      "source": [
        "# Create a facet grid\n",
        "g = sns.FacetGrid(data, col=\"time\", row=\"smoker\")\n",
        "g.map(sns.scatterplot, \"total_bill\", \"tip\")\n",
        "\n",
        "plt.show()"
      ]
    },
    {
      "cell_type": "markdown",
      "id": "8a98e11c",
      "metadata": {
        "id": "8a98e11c"
      },
      "source": [
        "\n",
        "In this example, total_bill vs. tip scatter plots are created for different times of the day and smoker/non-smoker categories.\n",
        "\n",
        "### Pair Grids\n",
        "Pair grids are another powerful feature in Seaborn used for complex pairwise relationship analysis. They are especially useful when you want to visualize the relationships between multiple variables in a dataset.\n",
        "\n",
        "PairGrid allows for much more customization compared to pairplot. You can control the kinds of plots to use in the diagonal, upper triangle, and lower triangle of the grid.\n",
        "It is a great tool for exploratory data analysis, letting you see both the distribution of single variables and relationships between two variables.\n",
        "\n",
        "Example of Creating a Custom Pair Grid"
      ]
    },
    {
      "cell_type": "code",
      "execution_count": null,
      "id": "414c5426",
      "metadata": {
        "id": "414c5426"
      },
      "outputs": [],
      "source": [
        "# Load the dataset\n",
        "iris = sns.load_dataset(\"iris\")\n",
        "\n",
        "# Create a pair grid\n",
        "g = sns.PairGrid(iris, hue=\"species\")"
      ]
    },
    {
      "cell_type": "code",
      "execution_count": null,
      "id": "2c156ef8",
      "metadata": {
        "id": "2c156ef8"
      },
      "outputs": [],
      "source": [
        "# Map different plots to different sections of the grid\n",
        "g.map_upper(sns.scatterplot)\n",
        "g.map_lower(sns.kdeplot, cmap=\"Blues_d\")\n",
        "g.map_diag(sns.histplot)"
      ]
    },
    {
      "cell_type": "code",
      "source": [
        "plt.show()"
      ],
      "metadata": {
        "id": "9qCmUBb7JUSF"
      },
      "id": "9qCmUBb7JUSF",
      "execution_count": null,
      "outputs": []
    },
    {
      "cell_type": "markdown",
      "id": "4c925f46",
      "metadata": {
        "id": "4c925f46"
      },
      "source": [
        "\n",
        "### Advanced Customization In Seaborn\n",
        "\n",
        "\n",
        "#### Adjusting Plot Aesthetics For Publication-Quality Graphics\n",
        "**Seaborn provides extensive customization options that allow you to create publication-quality graphics. Here are some ways to refine your plots:**\n",
        "\n",
        "**1. Setting the Context:**  Seaborn allows you to set the context with sns.set_context(), which can be ‘paper’, ‘notebook’, ‘talk’, or ‘poster’. This scales various elements of the figure to be appropriate for different presentation settings."
      ]
    },
    {
      "cell_type": "code",
      "execution_count": null,
      "id": "77080522",
      "metadata": {
        "id": "77080522"
      },
      "outputs": [],
      "source": [
        "sns.set_context('paper')  # Ideal for articles and reports"
      ]
    },
    {
      "cell_type": "markdown",
      "id": "79c7f144",
      "metadata": {
        "id": "79c7f144"
      },
      "source": [
        "**2. Customizing Style:**  With sns.set_style(), you can customize the background and axes of your plots. Styles include ‘darkgrid’, ‘whitegrid’, ‘dark’, ‘white’, and ‘ticks’."
      ]
    },
    {
      "cell_type": "code",
      "execution_count": null,
      "id": "2ee11579",
      "metadata": {
        "id": "2ee11579"
      },
      "outputs": [],
      "source": [
        "sns.set_style('whitegrid')"
      ]
    },
    {
      "cell_type": "markdown",
      "id": "793e63c4",
      "metadata": {
        "id": "793e63c4"
      },
      "source": [
        "**3. Scaling Plot Elements:**  Use sns.set() to globally configure the scale of plot elements, which is useful for tweaking the appearance of your graphics."
      ]
    },
    {
      "cell_type": "code",
      "execution_count": null,
      "id": "a2d8f0af",
      "metadata": {
        "id": "a2d8f0af"
      },
      "outputs": [],
      "source": [
        "sns.set(rc={\"figure.figsize\": (8, 4)})  # Custom figure size"
      ]
    },
    {
      "cell_type": "markdown",
      "id": "04dc2938",
      "metadata": {
        "id": "04dc2938"
      },
      "source": [
        "**4. Fine-tuning with Despine:**  Remove axes spines using sns.despine() for a cleaner look, especially useful in cases with a white background."
      ]
    },
    {
      "cell_type": "code",
      "execution_count": null,
      "id": "f3ddb24b",
      "metadata": {
        "id": "f3ddb24b"
      },
      "outputs": [],
      "source": [
        "sns.despine()"
      ]
    },
    {
      "cell_type": "markdown",
      "id": "1627fd23",
      "metadata": {
        "id": "1627fd23"
      },
      "source": [
        "\n",
        "#### Using Seaborn’s Themes And Color Palettes\n",
        "**Seaborn’s theming capabilities are one of its most powerful features:**\n",
        "\n",
        "**1. Themes:**  Use sns.set_theme() to quickly apply a default theme to your plots.\n",
        "\n",
        "sns.set_theme()\n",
        "\n",
        "**2. Color Palettes:**  Seaborn has a rich variety of color palettes. You can use functions like sns.color_palette() to customize the color scheme of your plots. Palettes can be qualitative, sequential, or diverging.\n",
        "\n",
        "sns.set_palette('pastel')\n",
        "\n",
        "**3. Palette Customization:**  Customize your own palettes using Seaborn’s functions like sns.light_palette() or sns.dark_palette().\n",
        "\n",
        "custom_palette = sns.light_palette(\"navy\", reverse=True)\n",
        "sns.set_palette(custom_palette)\n",
        "\n",
        "\n",
        "#### Customizing And Controlling The Layout Of Complex Plots\n",
        "**Managing complex plot layouts is simplified with Seaborn:**\n",
        "\n",
        "**1. Subplots:**  Create complex layouts with plt.subplots() and pass the axes objects to Seaborn plotting functions.\n",
        "\n",
        "fig, ax = plt.subplots(2, 2, figsize=(10, 8))\n",
        "sns.histplot(data=data, x='var1', ax=ax[0, 0])\n",
        "sns.boxplot(data=data, x='var2', ax=ax[0, 1])\n",
        "\n",
        "**2. FacetGrid:**  Use sns.FacetGrid() for creating a grid of plots based on a categorical variable.\n",
        "\n",
        "g = sns.FacetGrid(data, col='category', col_wrap=4)\n",
        "g.map(sns.histplot, 'value')\n",
        "\n",
        "**3. PairGrid:**  sns.PairGrid() is perfect for pairwise relationships in a dataset.\n",
        "\n",
        "g = sns.PairGrid(data)\n",
        "\n",
        "g.map_upper(sns.scatterplot)\n",
        "\n",
        "g.map_lower(sns.kdeplot)\n",
        "\n",
        "g.map_diag(sns.histplot)\n",
        "\n",
        "By mastering these advanced customization techniques, you can elevate your data visualizations to be both visually appealing and highly informative, suitable for professional publications and presentations.\n",
        "\n",
        "\n",
        "### Integrating Seaborn With Pandas\n",
        "\n",
        "\n",
        "#### Leveraging Pandas Data Structures For Seaborn Plots\n",
        "Seaborn is designed to work seamlessly with pandas DataFrames, allowing for straightforward integration of complex datasets into your visualizations. This compatibility is a significant advantage as it enables the direct use of DataFrame columns for plotting various types of visualizations.\n",
        "\n",
        "\n",
        "\n",
        "#### Using DataFrame Columns For Plotting\n",
        "**In Seaborn, you can directly reference pandas DataFrame columns to define the axes of your plots. This integration simplifies the process of creating plots from DataFrame data. For example:**"
      ]
    },
    {
      "cell_type": "code",
      "execution_count": null,
      "id": "34737515",
      "metadata": {
        "id": "34737515"
      },
      "outputs": [],
      "source": [
        "import seaborn as sns\n",
        "import pandas as pd\n",
        "\n",
        "# Load a sample dataset\n",
        "data = pd.read_csv('your_dataset.csv')\n",
        "\n",
        "# Simple scatter plot using DataFrame columns\n",
        "sns.scatterplot(x='column_x', y='column_y', data=data)"
      ]
    },
    {
      "cell_type": "markdown",
      "id": "78d14c0d",
      "metadata": {
        "id": "78d14c0d"
      },
      "source": [
        "\n",
        "Here, ‘column_x’ and ‘column_y’ are column names in the data DataFrame, and Seaborn uses these columns to plot the data points.\n",
        "Exploring Data with Seaborn’s Advanced Plots\n",
        "\n",
        "Seaborn’s advanced plotting functions, such as pairplot and jointplot, are particularly useful with pandas DataFrames. They provide insights into the relationships between multiple columns at once.\n",
        "\n",
        "**For instance, pairplot can be used to visualize pairwise relationships in a dataset:**"
      ]
    },
    {
      "cell_type": "code",
      "execution_count": null,
      "id": "728d89f2",
      "metadata": {
        "id": "728d89f2"
      },
      "outputs": [],
      "source": [
        "# Pairplot using the entire DataFrame\n",
        "sns.pairplot(data)"
      ]
    },
    {
      "cell_type": "markdown",
      "source": [
        "This function creates a grid of Axes such that each variable in data is shared across the y-axes across a single row and the x-axes across a single column."
      ],
      "metadata": {
        "id": "uMnTVEiNJkZM"
      },
      "id": "uMnTVEiNJkZM"
    },
    {
      "cell_type": "markdown",
      "id": "41e14bee",
      "metadata": {
        "id": "41e14bee"
      },
      "source": [
        "\n",
        "\n",
        "#### Using Seaborn Effectively With DataFrame Operations\n",
        "Combining pandas’ powerful data manipulation capabilities with Seaborn’s visualization tools can lead to more insightful analyses.\n",
        "Filtering and Plotting\n",
        "\n",
        "**You can filter or manipulate your DataFrame with pandas operations and then plot the resulting data. For example, if you want to visualize data that meets certain criteria:**"
      ]
    },
    {
      "cell_type": "code",
      "execution_count": null,
      "id": "00032861",
      "metadata": {
        "id": "00032861"
      },
      "outputs": [],
      "source": [
        "# Filtering the data\n",
        "filtered_data = data[data['column'] > threshold_value]\n",
        "\n",
        "# Visualizing the filtered data\n",
        "sns.histplot(filtered_data['relevant_column'])"
      ]
    },
    {
      "cell_type": "markdown",
      "id": "f94ac57a",
      "metadata": {
        "id": "f94ac57a"
      },
      "source": [
        "Grouping and Aggregation for Visualization\n",
        "\n",
        "**Pandas’ groupby and aggregation functions can be used to preprocess data for grouped visualizations in Seaborn:**"
      ]
    },
    {
      "cell_type": "code",
      "execution_count": null,
      "id": "bd3e6d42",
      "metadata": {
        "id": "bd3e6d42"
      },
      "outputs": [],
      "source": [
        "# Grouping and aggregating data\n",
        "grouped_data = data.groupby('grouping_column').mean()\n",
        "\n",
        "# Plotting the aggregated data\n",
        "sns.barplot(x=grouped_data.index, y='aggregated_column', data=grouped_data)"
      ]
    },
    {
      "cell_type": "markdown",
      "id": "307e4378",
      "metadata": {
        "id": "307e4378"
      },
      "source": [
        "\n",
        "In this case, the data is first grouped by ‘grouping_column’, and then the mean of each group is calculated. The resulting aggregated data is then visualized using a bar plot.\n",
        "\n",
        "\n",
        "\n",
        "**🚀 Challenge:**  Analyzing Sales Data With Seaborn And Pandas\n",
        "Objective Utilize Seaborn and pandas to analyze and visualize a real dataset named sales_data.csv containing sales information of a fictional company.\n",
        "\n",
        "**Task Overview:**\n",
        "\n",
        "**The dataset includes columns date, product, category, price, quantity, and revenue. You can find the dataset on the [GitHub repository of intern2grow](https:** //github.com/intern2grow/sales-data-analysis).\n",
        "\n",
        "Challenge Steps\n",
        "\n",
        "**1. Load and Inspect Data:**\n",
        "\n",
        "- Use pandas to load sales_data.csv.\n",
        "\n",
        "- Inspect the data to understand its structure.\n",
        "\n",
        "**2. Data Preprocessing:**\n",
        "\n",
        "- Handle missing values and convert data types as needed.\n",
        "\n",
        "**3. Sales Trends Over Time:**\n",
        "\n",
        "- Create a line plot showing the trend of total revenue over time.\n",
        "\n",
        "**4. Product Category Comparison:**\n",
        "\n",
        "- Generate a bar plot to compare the total revenue across different categories.\n",
        "\n",
        "**5. Relationship Between Price and Quantity Sold:**\n",
        "\n",
        "- Use a scatter plot to explore the relationship between price and quantity.\n",
        "\n",
        "**6. Product Performance Analysis:**\n",
        "\n",
        "- Employ a pairplot to investigate pairwise relationships involving price, quantity, and revenue.\n",
        "\n",
        "**7. Aggregated Category Insights:**\n",
        "\n",
        "- Aggregate data by category and calculate average price.\n",
        "\n",
        "- Visualize this using a suitable Seaborn plot."
      ]
    }
  ],
  "metadata": {
    "colab": {
      "provenance": []
    },
    "language_info": {
      "name": "python"
    },
    "kernelspec": {
      "name": "python3",
      "display_name": "Python 3"
    }
  },
  "nbformat": 4,
  "nbformat_minor": 5
}