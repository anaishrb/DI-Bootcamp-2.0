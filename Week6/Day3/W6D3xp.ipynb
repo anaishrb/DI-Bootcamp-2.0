{
  "nbformat": 4,
  "nbformat_minor": 0,
  "metadata": {
    "colab": {
      "provenance": []
    },
    "kernelspec": {
      "name": "python3",
      "display_name": "Python 3"
    },
    "language_info": {
      "name": "python"
    }
  },
  "cells": [
    {
      "cell_type": "code",
      "execution_count": 3,
      "metadata": {
        "colab": {
          "base_uri": "https://localhost:8080/"
        },
        "id": "6anmtzDG5Emc",
        "outputId": "4252b087-a1b7-412d-93a1-31fb91f406b6"
      },
      "outputs": [
        {
          "output_type": "stream",
          "name": "stdout",
          "text": [
            "=========================================\n",
            "Clustering package (:mod:`scipy.cluster`)\n",
            "=========================================\n",
            "\n",
            ".. currentmodule:: scipy.cluster\n",
            "\n",
            ".. toctree::\n",
            "   :hidden:\n",
            "\n",
            "   cluster.vq\n",
            "   cluster.hierarchy\n",
            "\n",
            "Clustering algorithms are useful in information theory, target detection,\n",
            "communications, compression, and other areas. The `vq` module only\n",
            "supports vector quantization and the k-means algorithms.\n",
            "\n",
            "The `hierarchy` module provides functions for hierarchical and\n",
            "agglomerative clustering.  Its features include generating hierarchical\n",
            "clusters from distance matrices,\n",
            "calculating statistics on clusters, cutting linkages\n",
            "to generate flat clusters, and visualizing clusters with dendrograms.\n",
            "In file: /usr/local/lib/python3.10/dist-packages/scipy/cluster/__init__.py\n",
            "\n",
            "\"\"\"\n",
            "=========================================\n",
            "Clustering package (:mod:`scipy.cluster`)\n",
            "=========================================\n",
            "\n",
            ".. currentmodule:: scipy.cluster\n",
            "\n",
            ".. toctree::\n",
            "   :hidden:\n",
            "\n",
            "   cluster.vq\n",
            "   cluster.hierarchy\n",
            "\n",
            "Clustering algorithms are useful in information theory, target detection,\n",
            "communications, compression, and other areas. The `vq` module only\n",
            "supports vector quantization and the k-means algorithms.\n",
            "\n",
            "The `hierarchy` module provides functions for hierarchical and\n",
            "agglomerative clustering.  Its features include generating hierarchical\n",
            "clusters from distance matrices,\n",
            "calculating statistics on clusters, cutting linkages\n",
            "to generate flat clusters, and visualizing clusters with dendrograms.\n",
            "\n",
            "\"\"\"\n",
            "__all__ = ['vq', 'hierarchy']\n",
            "\n",
            "from . import vq, hierarchy\n",
            "\n",
            "from scipy._lib._testutils import PytestTester\n",
            "test = PytestTester(__name__)\n",
            "del PytestTester\n",
            "\n"
          ]
        },
        {
          "output_type": "stream",
          "name": "stderr",
          "text": [
            "<ipython-input-3-e6c58b547d65>:4: DeprecationWarning: scipy.info is deprecated and will be removed in SciPy 2.0.0, use numpy.info instead\n",
            "  scipy.info(cluster)\n",
            "<ipython-input-3-e6c58b547d65>:5: DeprecationWarning: scipy.source is deprecated and will be removed in SciPy 2.0.0, use numpy.source instead\n",
            "  scipy.source(cluster)\n"
          ]
        }
      ],
      "source": [
        "import scipy\n",
        "from scipy import cluster\n",
        "import scipy\n",
        "scipy.info(cluster)\n",
        "scipy.source(cluster)\n",
        "from scipy import special\n",
        "import time\n",
        "import numpy as np\n",
        "from scipy import stats\n",
        "\n"
      ]
    },
    {
      "cell_type": "code",
      "source": [
        "#Exercice 2\n",
        "data = [12, 15, 13, 12, 18, 20, 22, 21]\n",
        "mean_data= stats.tmean(data)\n",
        "median_data = np.median(data)\n",
        "variance_data = stats.tvar(data)\n",
        "std_dev_data = stats.tstd(data)\n",
        "\n",
        "print(f\"Mean: {mean_data:.2f}\")\n",
        "print(f\"Median: {median_data:.2f}\")\n",
        "print(f\"Variance: {variance_data:.2f}\")\n",
        "print(f\"Standard Deviation: {std_dev_data:.2f}\")"
      ],
      "metadata": {
        "colab": {
          "base_uri": "https://localhost:8080/"
        },
        "id": "6nc0MTsdGlAa",
        "outputId": "6bbf8c65-f1aa-44e2-e39a-2beabfe5506e"
      },
      "execution_count": 6,
      "outputs": [
        {
          "output_type": "stream",
          "name": "stdout",
          "text": [
            "Mean: 16.62\n",
            "Median: 16.50\n",
            "Variance: 17.12\n",
            "Standard Deviation: 4.14\n"
          ]
        }
      ]
    },
    {
      "cell_type": "code",
      "source": [
        "#Exercice3\n",
        "import matplotlib.pyplot as plt\n",
        "from scipy.stats import norm\n",
        "\n",
        "mean = 50\n",
        "std_dev = 10\n",
        "data = np.random.normal(mean, std_dev, 1000)\n",
        "distribution = norm(loc=mean, scale=std_dev)\n",
        "\n",
        "plt.hist(data, bins=30, density=True, alpha=0.5, label='Generated Data', color='orange')\n",
        "plt.title('Normal Distribution with Mean=50, Std Dev=10')\n",
        "plt.xlabel('Value')\n",
        "plt.ylabel('Density')\n",
        "plt.legend()\n",
        "plt.grid(True)\n",
        "plt.tight_layout()\n",
        "plt.show()\n"
      ],
      "metadata": {
        "colab": {
          "base_uri": "https://localhost:8080/",
          "height": 487
        },
        "id": "_DyeybONHiCc",
        "outputId": "b4d865c0-3258-40e6-cc4c-2895cc0855ef"
      },
      "execution_count": 21,
      "outputs": [
        {
          "output_type": "display_data",
          "data": {
            "text/plain": [
              "<Figure size 640x480 with 1 Axes>"
            ],
            "image/png": "[encoded data removed]"
          },
          "metadata": {}
        }
      ]
    },
    {
      "cell_type": "code",
      "source": [
        "#Exercice4\n",
        "\n",
        "data1 = np.random.normal(loc=43, scale=8, size=100)\n",
        "data2 = np.random.normal(loc=55, scale=12, size=100)\n",
        "\n",
        "t_statistic, p_value = stats.ttest_ind(data1, data2)\n",
        "\n",
        "print(f\"T-Statistic: {t_statistic:.4f}\")\n",
        "print(f\"P-Value: {p_value:.4f}\")\n",
        "\n",
        "alpha = 0.05\n",
        "if p_value < alpha:\n",
        "    print(\"Reject the null hypothesis. There is a significant difference between the datasets.\")\n",
        "else:\n",
        "    print(\"Fail to reject the null hypothesis. There is no significant difference between the datasets.\")\n",
        "\n"
      ],
      "metadata": {
        "colab": {
          "base_uri": "https://localhost:8080/"
        },
        "id": "SsxbE2v1JP5E",
        "outputId": "950b94b1-b6b9-4c1b-d85c-24324a39141e"
      },
      "execution_count": 24,
      "outputs": [
        {
          "output_type": "stream",
          "name": "stdout",
          "text": [
            "T-Statistic: -5.2025\n",
            "P-Value: 0.0000\n",
            "Reject the null hypothesis. There is a significant difference between the datasets.\n"
          ]
        }
      ]
    },
    {
      "cell_type": "code",
      "source": [
        "#Exercice5\n",
        "from sklearn.datasets import load_iris\n",
        "import seaborn as sns\n",
        "import pandas as pd\n",
        "\n",
        "iris = sns.load_dataset('iris')\n",
        "\n",
        "print(iris.head())\n",
        "\n",
        "petal_length = iris['petal_length']\n",
        "\n",
        "mean = petal_length.mean()\n",
        "median = petal_length.median()\n",
        "variance = petal_length.var()\n",
        "std_dev = petal_length.std()\n",
        "\n",
        "print(f\"Mean: {mean:.4f}\")\n",
        "print(f\"Median: {median:.4f}\")\n",
        "print(f\"Variance: {variance:.4f}\")\n",
        "print(f\"Standard Deviation: {std_dev:.4f}\")\n",
        "\n"
      ],
      "metadata": {
        "colab": {
          "base_uri": "https://localhost:8080/"
        },
        "id": "HiEigiGzLvo4",
        "outputId": "31e55a1d-a97e-4dae-a0dd-7b5c4cd4a970"
      },
      "execution_count": 27,
      "outputs": [
        {
          "output_type": "stream",
          "name": "stdout",
          "text": [
            "   sepal_length  sepal_width  petal_length  petal_width species\n",
            "0           5.1          3.5           1.4          0.2  setosa\n",
            "1           4.9          3.0           1.4          0.2  setosa\n",
            "2           4.7          3.2           1.3          0.2  setosa\n",
            "3           4.6          3.1           1.5          0.2  setosa\n",
            "4           5.0          3.6           1.4          0.2  setosa\n",
            "Mean: 3.7580\n",
            "Median: 4.3500\n",
            "Variance: 3.1163\n",
            "Standard Deviation: 1.7653\n"
          ]
        }
      ]
    },
    {
      "cell_type": "code",
      "source": [
        "#Exercice6\n",
        "\n",
        "data = np.random.normal(0, 1, 1000)\n",
        "skewness = stats.skew(data)\n",
        "kurtosis = stats.kurtosis(data)\n",
        "print(f\"Skewness: {skewness:.4f}\")\n",
        "print(f\"Kurtosis: {kurtosis:.4f}\")"
      ],
      "metadata": {
        "colab": {
          "base_uri": "https://localhost:8080/"
        },
        "id": "NL98VQsHMpI9",
        "outputId": "9c6cf35e-0ad0-49c3-9690-1327d869c214"
      },
      "execution_count": 31,
      "outputs": [
        {
          "output_type": "stream",
          "name": "stdout",
          "text": [
            "Skewness: 0.0184\n",
            "Kurtosis: 0.3063\n"
          ]
        }
      ]
    }
  ]
}