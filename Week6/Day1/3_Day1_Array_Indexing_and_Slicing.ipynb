{
  "cells": [
    {
      "cell_type": "markdown",
      "id": "66179c7e",
      "metadata": {
        "id": "66179c7e"
      },
      "source": [
        "\n",
        "## 3. Array Indexing and Slicing\n",
        "\n",
        "### Basic Indexing and Slicing Techniques\n",
        "In NumPy, multidimensional arrays can be indexed using a tuple of integers or slices. This concept is crucial when working with data in multiple dimensions.\n",
        "\n",
        "- **Single Element Access:** To access a single element in a multidimensional array, you specify a tuple of indices corresponding to each dimension. For example, `array[i, j]` accesses the element at row `i` and column `j` in a 2D array.\n",
        "\n",
        "- **Row and Column Access:** To access an entire row or column, use a slice (`:`) for the dimension you want to include entirely. For example, `array[i, :]` gets the entire `i`th row, and `array[:, j]` gets the `j`th column.\n",
        "\n",
        "Let's see some examples:\n",
        "\n"
      ]
    },
    {
      "cell_type": "code",
      "source": [
        "# List indexing\n",
        "lis = [[1, 2, 3, 4],[1,2,3]]\n",
        "lis[0][1]"
      ],
      "metadata": {
        "colab": {
          "base_uri": "https://localhost:8080/"
        },
        "id": "H29dY-cx-lnZ",
        "outputId": "1589288b-2c6b-4e72-dec5-a9d0b161dde1"
      },
      "id": "H29dY-cx-lnZ",
      "execution_count": null,
      "outputs": [
        {
          "output_type": "execute_result",
          "data": {
            "text/plain": [
              "2"
            ]
          },
          "metadata": {},
          "execution_count": 6
        }
      ]
    },
    {
      "cell_type": "code",
      "execution_count": null,
      "id": "f0455702",
      "metadata": {
        "id": "f0455702",
        "colab": {
          "base_uri": "https://localhost:8080/"
        },
        "outputId": "f5e490ed-3457-4bf6-d7e3-a7f18f3e7f5b"
      },
      "outputs": [
        {
          "output_type": "stream",
          "name": "stdout",
          "text": [
            "Element at row 1, column 2: 6\n"
          ]
        }
      ],
      "source": [
        "import numpy as np\n",
        "\n",
        "# Example 2D array\n",
        "array_2d = np.array([[1, 2, 3], [4, 5, 6], [7, 8, 9]])\n",
        "\n",
        "# Accessing a single element\n",
        "print(\"Element at row 1, column 2:\", array_2d[1, 2])  # Output: 6"
      ]
    },
    {
      "cell_type": "code",
      "source": [
        "# List slicing\n",
        "li = [1, 2, 3, 4, 5, 6]\n",
        "li[1:3]"
      ],
      "metadata": {
        "colab": {
          "base_uri": "https://localhost:8080/"
        },
        "id": "2DQLWPrN_72j",
        "outputId": "d2064ada-87a1-4cc9-d763-806b1901cdb9"
      },
      "id": "2DQLWPrN_72j",
      "execution_count": null,
      "outputs": [
        {
          "output_type": "execute_result",
          "data": {
            "text/plain": [
              "[2, 3]"
            ]
          },
          "metadata": {},
          "execution_count": 8
        }
      ]
    },
    {
      "cell_type": "markdown",
      "id": "a640f539",
      "metadata": {
        "id": "a640f539"
      },
      "source": [
        "\n",
        "\n",
        "#### Comprehensive Teaching of Slicing\n",
        "\n",
        "Slicing in NumPy is a method to extract a portion of an array. It's similar to slicing in Python lists, but it extends to multiple dimensions.\n",
        "\n",
        "- **Syntax:** Slicing uses the colon (`:`) syntax, like `array[start:stop:step]`. If `start` or `stop` are omitted, they default to the beginning and end of the array, respectively. If `step` is omitted, it defaults to 1.\n",
        "\n",
        "- **Slicing in Multiple Dimensions:** In a 2D array, `array[i:j, k:l]` slices rows `i` to `j-1` and columns `k` to `l-1`.\n",
        "\n",
        "Here are some slicing examples:\n",
        "\n"
      ]
    },
    {
      "cell_type": "code",
      "execution_count": null,
      "id": "96a93ca2",
      "metadata": {
        "id": "96a93ca2",
        "colab": {
          "base_uri": "https://localhost:8080/"
        },
        "outputId": "b9156499-6e84-4e0d-d1e8-743106693e5e"
      },
      "outputs": [
        {
          "output_type": "stream",
          "name": "stdout",
          "text": [
            "Slice of the array: [[2 3]\n",
            " [5 6]]\n"
          ]
        }
      ],
      "source": [
        "# Example 2D array\n",
        "array_2d = np.array([[1, 2, 3], [4, 5, 6], [7, 8, 9]])\n",
        "\n",
        "# Slicing a portion of the array\n",
        "print(\"Slice of the array:\", array_2d[0:2, 1:3])  # Output: [[2 3] [5 6]]"
      ]
    },
    {
      "cell_type": "code",
      "execution_count": null,
      "id": "b92e0472",
      "metadata": {
        "id": "b92e0472"
      },
      "outputs": [],
      "source": [
        "# Creating a sample array\n",
        "array = np.array([10, 20, 30, 40, 50])\n",
        "\n",
        "# Indexing (accessing a single element)\n",
        "print(\"First element:\", array[0])\n",
        "\n",
        "# Slicing (accessing multiple elements)\n",
        "print(\"First three elements:\", array[:3])"
      ]
    },
    {
      "cell_type": "markdown",
      "id": "8f9cfe91",
      "metadata": {
        "id": "8f9cfe91"
      },
      "source": [
        "\n",
        "\n",
        "![indexing and slicing](https://drive.google.com/uc?id=1A5p76BgaczkPR7EN3uCpPpffQxNbQ-ld)\n",
        "\n",
        "### Advanced Indexing: Boolean and Fancy Indexing\n",
        "\n",
        "NumPy also supports advanced indexing techniques like boolean indexing and fancy indexing, which are powerful tools for data analysis.\n",
        "\n"
      ]
    },
    {
      "cell_type": "markdown",
      "id": "39e09f42",
      "metadata": {
        "id": "39e09f42"
      },
      "source": [
        "\n",
        "\n",
        "#### Note on Advanced Indexing and Shapes\n",
        "\n",
        "Advanced indexing techniques in NumPy, like boolean indexing, can return arrays of different shapes compared to the original array. For instance, boolean indexing often results in a 1D array, regardless of the original array's dimensions.\n",
        "\n",
        "Example of Boolean Indexing:\n",
        "\n"
      ]
    },
    {
      "cell_type": "code",
      "execution_count": null,
      "id": "a8d4f620",
      "metadata": {
        "id": "a8d4f620",
        "colab": {
          "base_uri": "https://localhost:8080/"
        },
        "outputId": "0ba18fa8-f140-40d9-85c9-4a4187466f54"
      },
      "outputs": [
        {
          "output_type": "stream",
          "name": "stdout",
          "text": [
            "[[1 2]\n",
            " [3 4]\n",
            " [5 6]]\n",
            "Result of Boolean Indexing: [4 5 6]\n"
          ]
        }
      ],
      "source": [
        "# Example array\n",
        "array = np.array([[1, 2], [3, 4], [5, 6]])\n",
        "print(array)\n",
        "# Boolean indexing\n",
        "result = array[array > 3]\n",
        "print(\"Result of Boolean Indexing:\", result)  # Output: [4 5 6], a 1D array"
      ]
    },
    {
      "cell_type": "code",
      "execution_count": null,
      "id": "59e71689",
      "metadata": {
        "id": "59e71689",
        "colab": {
          "base_uri": "https://localhost:8080/"
        },
        "outputId": "c2ec705f-2815-42d6-cf65-31eaceea13e1"
      },
      "outputs": [
        {
          "output_type": "stream",
          "name": "stdout",
          "text": [
            "Elements greater than 25: []\n",
            "Select specific elements: [[3 4]\n",
            " [5 6]]\n"
          ]
        }
      ],
      "source": [
        "# Boolean indexing\n",
        "print(\"Elements greater than 25:\", array[array > 25])\n",
        "\n",
        "# Fancy indexing (using a list of indices)\n",
        "print(\"Select specific elements:\", array[[1, 2]])"
      ]
    },
    {
      "cell_type": "code",
      "source": [
        "arr = np.array([1, 2, 3, 4, 5, 6, 7])\n",
        "print(arr[[2,5]])"
      ],
      "metadata": {
        "colab": {
          "base_uri": "https://localhost:8080/"
        },
        "id": "3nU93kXEJaXG",
        "outputId": "5b475b63-ef1a-4a46-cd0f-bf56731b1133"
      },
      "id": "3nU93kXEJaXG",
      "execution_count": null,
      "outputs": [
        {
          "output_type": "stream",
          "name": "stdout",
          "text": [
            "[3 6]\n"
          ]
        }
      ]
    },
    {
      "cell_type": "code",
      "source": [
        "array = np.array([[1, 2], [3, 4], [5, 6]])\n",
        "array[[1,2],[0,1]]"
      ],
      "metadata": {
        "colab": {
          "base_uri": "https://localhost:8080/"
        },
        "id": "PimB_a_gJxOb",
        "outputId": "8f4da1a3-33fa-4929-fe96-1ec1d82ce33a"
      },
      "id": "PimB_a_gJxOb",
      "execution_count": null,
      "outputs": [
        {
          "output_type": "execute_result",
          "data": {
            "text/plain": [
              "array([3, 6])"
            ]
          },
          "metadata": {},
          "execution_count": 23
        }
      ]
    },
    {
      "cell_type": "markdown",
      "id": "c74d3e74",
      "metadata": {
        "id": "c74d3e74"
      },
      "source": [
        "\n",
        "\n",
        "**Expected Output**:\n",
        "- Specific elements based on the given conditions in both boolean and fancy indexing.\n",
        "\n",
        "### Important Concepts\n",
        "\n",
        "- **Boolean Indexing**: This allows you to select elements from an array that meet certain conditions. It's like filtering based on array values.\n",
        "- **Fancy Indexing**: This involves passing an array of indices to access multiple array elements at once. It's useful for accessing non-adjacent elements.\n",
        "\n",
        "# Table for Indexing Types and Examples\n",
        "\n",
        "| Indexing Type | 1D Example | 2D Example | 3D Example |\n",
        "|---------------|------------|------------|------------|\n",
        "| Single Index | `array_1d[2]` | `array_2d[1, 0]` | `array_3d[0, 1, 1]` |\n",
        "| Slice | `array_1d[1:3]` | `array_2d[0:2, 1:3]` | `array_3d[0, 1:3, 1:3]` |\n",
        "| Boolean Indexing | `array_1d[array_1d > 2]` | `array_2d[array_2d % 2 == 0]` | `array_3d[array_3d < 5]` |\n",
        "| Fancy Indexing | `array_1d[[0, 3]]` | `array_2d[:, [1, 2]]` | `array_3d[[0, 1], [1], [1]]` |\n",
        "\n",
        "\n",
        "## Exercise: Practicing Indexing and Slicing\n",
        "\n",
        "1. **Basic Indexing**: Create an array of 10 elements and access the 5th element in it.\n",
        "2. **Basic Slicing**: From the same array, extract a slice containing the 3rd to the 8th elements.\n",
        "3. **Boolean Indexing**: Create an array of 6 random integers between 10 and 50. Print the elements that are greater than 30.\n",
        "4. **Fancy Indexing**: From the same array, use fancy indexing to access the 2nd, 4th, and 6th elements.\n",
        "\n",
        "**Expected Output**:\n",
        "- The 5th element of the first array.\n",
        "- A slice of the array showing elements from the 3rd to the 8th position.\n",
        "- Elements greater than 30 from the random array.\n",
        "- Selected elements (2nd, 4th, 6th) from the random array using fancy indexing.\n",
        "\n",
        "---\n",
        "\n",
        "\n"
      ]
    },
    {
      "cell_type": "code",
      "source": [
        "first = [1,3,4,2,3,4,3,2,3,4]\n",
        "print(first[4])\n",
        "print(first[2:8])\n",
        "\n",
        "third = np.random.randint(10, 50, 6)\n",
        "print(third)\n",
        "third[[1,3,5]]"
      ],
      "metadata": {
        "colab": {
          "base_uri": "https://localhost:8080/"
        },
        "id": "oFAfNzZ0GK-7",
        "outputId": "1a545a6e-ecf1-477b-fc10-a7711311ffbe"
      },
      "id": "oFAfNzZ0GK-7",
      "execution_count": null,
      "outputs": [
        {
          "output_type": "stream",
          "name": "stdout",
          "text": [
            "3\n",
            "[4, 2, 3, 4, 3, 2]\n",
            "[18 16 22 25 11 22]\n"
          ]
        },
        {
          "output_type": "execute_result",
          "data": {
            "text/plain": [
              "array([16, 25, 22])"
            ]
          },
          "metadata": {},
          "execution_count": 27
        }
      ]
    },
    {
      "cell_type": "markdown",
      "source": [
        "## Random Number Generation in Numpy\n",
        "We can easily create an array of random integers in a specific using Numpy with the function from the Numpy random module called randint:"
      ],
      "metadata": {
        "id": "OnhC9IWgG3Ru"
      },
      "id": "OnhC9IWgG3Ru"
    },
    {
      "cell_type": "code",
      "source": [
        "rand = np.random.randint(10, 50, 6)\n",
        "print(rand[rand>30])"
      ],
      "metadata": {
        "colab": {
          "base_uri": "https://localhost:8080/"
        },
        "id": "o3wfQU96G3jG",
        "outputId": "753452ee-4729-4256-ed23-783bd5c9f1f2"
      },
      "id": "o3wfQU96G3jG",
      "execution_count": null,
      "outputs": [
        {
          "output_type": "stream",
          "name": "stdout",
          "text": [
            "[44 49 37]\n"
          ]
        }
      ]
    },
    {
      "cell_type": "markdown",
      "source": [
        "### Random Permutations\n",
        "You can mix up an array using the numpy function random.permutation:"
      ],
      "metadata": {
        "id": "yXCv-HYDNbmV"
      },
      "id": "yXCv-HYDNbmV"
    },
    {
      "cell_type": "code",
      "source": [
        "x = np.array([1, 2, 3, 4, 5, 6, 7])\n",
        "new = np.random.permutation(x)\n",
        "new"
      ],
      "metadata": {
        "colab": {
          "base_uri": "https://localhost:8080/"
        },
        "id": "gznQVTC5Nr29",
        "outputId": "57acb20e-038c-4c4f-a792-b9203a9ae824"
      },
      "id": "gznQVTC5Nr29",
      "execution_count": null,
      "outputs": [
        {
          "output_type": "execute_result",
          "data": {
            "text/plain": [
              "array([3, 7, 1, 4, 6, 2, 5])"
            ]
          },
          "metadata": {},
          "execution_count": 30
        }
      ]
    },
    {
      "cell_type": "code",
      "source": [
        "two = np.array([[1,2], [3,4], [5,6]])\n",
        "np.random.permutation(two)"
      ],
      "metadata": {
        "colab": {
          "base_uri": "https://localhost:8080/"
        },
        "id": "VyIB9FrXO9GV",
        "outputId": "3ba741d3-9ceb-4e5d-e797-e89db2f7257f"
      },
      "id": "VyIB9FrXO9GV",
      "execution_count": null,
      "outputs": [
        {
          "output_type": "execute_result",
          "data": {
            "text/plain": [
              "array([[5, 6],\n",
              "       [1, 2],\n",
              "       [3, 4]])"
            ]
          },
          "metadata": {},
          "execution_count": 31
        }
      ]
    },
    {
      "cell_type": "markdown",
      "source": [
        "### Create a list of integers\n",
        "You can easily create a list of integers in a specific range in Numpy using the arrange function:"
      ],
      "metadata": {
        "id": "6miLV8UbNspa"
      },
      "id": "6miLV8UbNspa"
    },
    {
      "cell_type": "code",
      "source": [
        "x = np.arange(10)"
      ],
      "metadata": {
        "colab": {
          "base_uri": "https://localhost:8080/"
        },
        "id": "qd05_xMeN4jA",
        "outputId": "32e67795-6d9c-4b3c-aa0b-3076b503befe"
      },
      "id": "qd05_xMeN4jA",
      "execution_count": null,
      "outputs": [
        {
          "output_type": "execute_result",
          "data": {
            "text/plain": [
              "array([0, 1, 2, 3, 4, 5, 6, 7, 8, 9])"
            ]
          },
          "metadata": {},
          "execution_count": 25
        }
      ]
    },
    {
      "cell_type": "markdown",
      "source": [
        "\n",
        "# Changing the NumPy Array with Indexing and Slicing\n",
        "\n",
        "Modifying arrays using indexing and slicing is a key aspect of data manipulation in NumPy. This approach offers efficient and flexible ways to change array data.\n",
        "\n",
        "#### Basic Indexing for Modification\n",
        "Access individual elements or a series of elements in an array using their indices to modify them."
      ],
      "metadata": {
        "id": "-kJ92jerGJSr"
      },
      "id": "-kJ92jerGJSr"
    },
    {
      "cell_type": "code",
      "execution_count": null,
      "id": "76f1b1b8",
      "metadata": {
        "id": "76f1b1b8",
        "colab": {
          "base_uri": "https://localhost:8080/"
        },
        "outputId": "413ea9fe-849c-468e-b8ec-50bcdd2b4620"
      },
      "outputs": [
        {
          "output_type": "stream",
          "name": "stdout",
          "text": [
            "[ 1  2 10  4  5]\n"
          ]
        }
      ],
      "source": [
        "arr = np.array([1, 2, 3, 4, 5])\n",
        "arr[2] = 10  # Changing the third element\n",
        "print(arr)  # Output: [1, 2, 10, 4, 5]"
      ]
    },
    {
      "cell_type": "markdown",
      "id": "8ee9f2b1",
      "metadata": {
        "id": "8ee9f2b1"
      },
      "source": [
        "\n",
        "\n",
        "#### Slicing for Bulk Modifications\n",
        "Select and modify a subset of an array. Useful for bulk operations.\n",
        "\n"
      ]
    },
    {
      "cell_type": "code",
      "execution_count": null,
      "id": "e9d1b0c3",
      "metadata": {
        "id": "e9d1b0c3",
        "colab": {
          "base_uri": "https://localhost:8080/"
        },
        "outputId": "2db5ee7a-fe8b-4de1-912e-6b3e687623e7"
      },
      "outputs": [
        {
          "output_type": "stream",
          "name": "stdout",
          "text": [
            "[ 1 20 30 40  5]\n"
          ]
        }
      ],
      "source": [
        "arr[1:4] = [20, 30, 40]\n",
        "print(arr)  # Output: [1, 20, 30, 40, 5]"
      ]
    },
    {
      "cell_type": "markdown",
      "id": "74ca26f9",
      "metadata": {
        "id": "74ca26f9"
      },
      "source": [
        "\n",
        "\n",
        "#### Boolean Indexing for Conditional Modification\n",
        "Use boolean indexing for conditional selection and modification of elements.\n",
        "\n"
      ]
    },
    {
      "cell_type": "code",
      "execution_count": null,
      "id": "96754d2f",
      "metadata": {
        "id": "96754d2f",
        "colab": {
          "base_uri": "https://localhost:8080/"
        },
        "outputId": "fdd52863-ceb0-4a7c-914f-67b85348d44d"
      },
      "outputs": [
        {
          "output_type": "stream",
          "name": "stdout",
          "text": [
            "[ 1 20 30 40  5]\n",
            "[  1 100 100 100   5]\n"
          ]
        }
      ],
      "source": [
        "print(arr)\n",
        "arr[arr > 10] = 100\n",
        "print(arr)  # Output: [1, 100, 100, 100, 5]"
      ]
    },
    {
      "cell_type": "markdown",
      "id": "10eb169f",
      "metadata": {
        "id": "10eb169f"
      },
      "source": [
        "\n",
        "\n",
        "#### Advanced Indexing Techniques\n",
        "Modify elements in non-adjacent positions or follow a specific pattern.\n",
        "\n"
      ]
    },
    {
      "cell_type": "code",
      "execution_count": null,
      "id": "46d0a3d9",
      "metadata": {
        "id": "46d0a3d9"
      },
      "outputs": [],
      "source": [
        "arr[np.array([1, 3])] = 500\n",
        "print(arr)  # Output: [1, 500, 100, 500, 5]"
      ]
    },
    {
      "cell_type": "markdown",
      "id": "d54b240c",
      "metadata": {
        "id": "d54b240c"
      },
      "source": [
        "\n",
        "\n",
        "#### Impact of Slicing on Original Array\n",
        "Slicing creates a view, not a copy. Modifications through a slice affect the original array.\n",
        "\n"
      ]
    },
    {
      "cell_type": "code",
      "execution_count": null,
      "id": "0a25a8bb",
      "metadata": {
        "id": "0a25a8bb"
      },
      "outputs": [],
      "source": [
        "sub_arr = arr[1:3]\n",
        "sub_arr[0] = 600\n",
        "print(arr)  # Output: [1, 600, 100, 500, 5]"
      ]
    },
    {
      "cell_type": "code",
      "source": [
        "# # Making a copy of an array\n",
        "a = np.array([1,2,3,4])\n",
        "# b = a.copy()\n",
        "b = np.array(a)\n",
        "b[0] = 10\n",
        "print(a, b)"
      ],
      "metadata": {
        "colab": {
          "base_uri": "https://localhost:8080/"
        },
        "id": "pqL-vvJPRpr5",
        "outputId": "d1691e3a-5aee-41ed-a432-28b4ce6e733e"
      },
      "id": "pqL-vvJPRpr5",
      "execution_count": null,
      "outputs": [
        {
          "output_type": "stream",
          "name": "stdout",
          "text": [
            "[1 2 3 4] [10  2  3  4]\n"
          ]
        }
      ]
    },
    {
      "cell_type": "markdown",
      "id": "854d825e",
      "metadata": {
        "id": "854d825e"
      },
      "source": [
        "\n",
        "\n",
        "### Exercises on Indexing and Slicing for Array Modification\n",
        "\n",
        "After learning about array indexing and slicing, it's important to practice these concepts. Here are some exercises to help solidify your understanding:\n",
        "\n",
        "1. **Modifying Specific Elements**:\n",
        "   Create an array with values from 1 to 10. Change the value of the fifth element to 50.\n",
        "\n",
        "2. **Slicing and Modifying a Range**:\n",
        "   Given an array of 10 elements, modify the elements from index 3 to 7 to be their negative equivalent.\n",
        "\n",
        "3. **Conditional Modification with Boolean Indexing**:\n",
        "   Create an array with 20 random integers between 1 and 100. Set all values greater than 50 to -1.\n",
        "\n",
        "4. **Advanced Indexing Modification**:\n",
        "   Given a 2D array of shape (5, 5), modify the elements in the diagonal to be twice their original value.\n",
        "\n",
        "5. **Understanding Slicing Impact**:\n",
        "   Create an array of 10 elements. Slice the array from index 2 to 5, and modify the first element of the slice. Observe the change in the original array.\n"
      ]
    },
    {
      "cell_type": "code",
      "source": [
        "x = np.arange(1,11)\n",
        "x[4] = 50\n",
        "x[3:8] = x[3:8] * -1"
      ],
      "metadata": {
        "id": "WOiYDTwBV1iM"
      },
      "id": "WOiYDTwBV1iM",
      "execution_count": null,
      "outputs": []
    },
    {
      "cell_type": "code",
      "source": [
        "y = np.random.randint(1,100,20)\n",
        "print(y)\n",
        "y[y>50] = -1\n",
        "y"
      ],
      "metadata": {
        "colab": {
          "base_uri": "https://localhost:8080/"
        },
        "id": "bqazFKYgWU6K",
        "outputId": "b429e441-0018-4d87-edaf-e64e987b8ef1"
      },
      "id": "bqazFKYgWU6K",
      "execution_count": null,
      "outputs": [
        {
          "output_type": "stream",
          "name": "stdout",
          "text": [
            "[37 26 39 40 84 58 33 51 38 67 30 94  7 41 65 30 30 66  4 44]\n"
          ]
        },
        {
          "output_type": "execute_result",
          "data": {
            "text/plain": [
              "array([37, 26, 39, 40, -1, -1, 33, -1, 38, -1, 30, -1,  7, 41, -1, 30, 30,\n",
              "       -1,  4, 44])"
            ]
          },
          "metadata": {},
          "execution_count": 51
        }
      ]
    },
    {
      "cell_type": "code",
      "source": [
        "two = np.arange(25).reshape((5,5))\n",
        "two"
      ],
      "metadata": {
        "colab": {
          "base_uri": "https://localhost:8080/"
        },
        "id": "BdWqbwKEWi5F",
        "outputId": "f9094394-4371-49b0-cffe-655d28f6401b"
      },
      "id": "BdWqbwKEWi5F",
      "execution_count": null,
      "outputs": [
        {
          "output_type": "execute_result",
          "data": {
            "text/plain": [
              "array([[ 0,  1,  2,  3,  4],\n",
              "       [ 5,  6,  7,  8,  9],\n",
              "       [10, 11, 12, 13, 14],\n",
              "       [15, 16, 17, 18, 19],\n",
              "       [20, 21, 22, 23, 24]])"
            ]
          },
          "metadata": {},
          "execution_count": 52
        }
      ]
    },
    {
      "cell_type": "code",
      "source": [
        "two[[np.arange(5)],[np.arange(5)]] = two[[np.arange(5)],[np.arange(5)]] * 2"
      ],
      "metadata": {
        "id": "D8AWeSuOWuzO"
      },
      "id": "D8AWeSuOWuzO",
      "execution_count": null,
      "outputs": []
    },
    {
      "cell_type": "code",
      "source": [
        "two"
      ],
      "metadata": {
        "colab": {
          "base_uri": "https://localhost:8080/"
        },
        "id": "LwT7zI8CW6Lt",
        "outputId": "14c21a9f-4be6-4fd6-86e1-08c529d67307"
      },
      "id": "LwT7zI8CW6Lt",
      "execution_count": null,
      "outputs": [
        {
          "output_type": "execute_result",
          "data": {
            "text/plain": [
              "array([[ 0,  1,  2,  3,  4],\n",
              "       [ 5, 12,  7,  8,  9],\n",
              "       [10, 11, 24, 13, 14],\n",
              "       [15, 16, 17, 36, 19],\n",
              "       [20, 21, 22, 23, 48]])"
            ]
          },
          "metadata": {},
          "execution_count": 55
        }
      ]
    },
    {
      "cell_type": "code",
      "source": [
        "origin = np.arange(10)\n",
        "origin"
      ],
      "metadata": {
        "colab": {
          "base_uri": "https://localhost:8080/"
        },
        "id": "eN2rZyr5W_of",
        "outputId": "b027a181-39d4-4099-892d-97664d16831d"
      },
      "id": "eN2rZyr5W_of",
      "execution_count": null,
      "outputs": [
        {
          "output_type": "execute_result",
          "data": {
            "text/plain": [
              "array([0, 1, 2, 3, 4, 5, 6, 7, 8, 9])"
            ]
          },
          "metadata": {},
          "execution_count": 57
        }
      ]
    },
    {
      "cell_type": "code",
      "source": [
        "slic = origin[2:5]\n",
        "slic[0] = 99\n",
        "print(origin)\n",
        "print(slic)"
      ],
      "metadata": {
        "colab": {
          "base_uri": "https://localhost:8080/"
        },
        "id": "ox28FbNjXMH7",
        "outputId": "fda4f399-7a16-4320-a8fe-8054ec55e2c0"
      },
      "id": "ox28FbNjXMH7",
      "execution_count": null,
      "outputs": [
        {
          "output_type": "stream",
          "name": "stdout",
          "text": [
            "[ 0  1 99  3  4  5  6  7  8  9]\n",
            "[99  3  4]\n"
          ]
        }
      ]
    },
    {
      "cell_type": "code",
      "source": [],
      "metadata": {
        "id": "D7gRmiEnXYUf"
      },
      "id": "D7gRmiEnXYUf",
      "execution_count": null,
      "outputs": []
    }
  ],
  "metadata": {
    "language_info": {
      "name": "python"
    },
    "colab": {
      "provenance": []
    },
    "kernelspec": {
      "name": "python3",
      "display_name": "Python 3"
    }
  },
  "nbformat": 4,
  "nbformat_minor": 5
}