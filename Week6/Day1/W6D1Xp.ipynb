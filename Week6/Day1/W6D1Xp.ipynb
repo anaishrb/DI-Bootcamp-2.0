{
  "nbformat": 4,
  "nbformat_minor": 0,
  "metadata": {
    "colab": {
      "provenance": []
    },
    "kernelspec": {
      "name": "python3",
      "display_name": "Python 3"
    },
    "language_info": {
      "name": "python"
    }
  },
  "cells": [
    {
      "cell_type": "code",
      "execution_count": 1,
      "metadata": {
        "id": "iDV2fPFq78sp"
      },
      "outputs": [],
      "source": [
        "import numpy as np\n"
      ]
    },
    {
      "cell_type": "code",
      "source": [
        "#Exercice 1\n",
        "array_1d = np.array([0, 1, 2, 3, 4, 5, 6, 7, 8, 9])\n",
        "print(\"1D Array:\", array_1d)\n"
      ],
      "metadata": {
        "colab": {
          "base_uri": "https://localhost:8080/"
        },
        "id": "xK9m-PVr8B9p",
        "outputId": "302855ac-d2cf-4300-e372-5d8a543cc1ac"
      },
      "execution_count": 5,
      "outputs": [
        {
          "output_type": "stream",
          "name": "stdout",
          "text": [
            "1D Array: [0 1 2 3 4 5 6 7 8 9]\n"
          ]
        }
      ]
    },
    {
      "cell_type": "code",
      "source": [
        "#Exercice 2\n",
        "my_list = [3.14, 2.17, 0, 1, 2]\n",
        "\n",
        "array = np.array(my_list)\n",
        "\n",
        "array = array.astype(int)\n",
        "\n",
        "print(array)\n"
      ],
      "metadata": {
        "colab": {
          "base_uri": "https://localhost:8080/"
        },
        "id": "kmz0BdKS-AP8",
        "outputId": "6e4b1f5e-37bf-4f25-8375-1115537badf5"
      },
      "execution_count": 7,
      "outputs": [
        {
          "output_type": "stream",
          "name": "stdout",
          "text": [
            "[3 2 0 1 2]\n"
          ]
        }
      ]
    },
    {
      "cell_type": "code",
      "source": [
        "#Exercice3\n",
        "array_3 = np.arange(1, 10).reshape(3, 3)\n",
        "\n",
        "print(array_3)"
      ],
      "metadata": {
        "colab": {
          "base_uri": "https://localhost:8080/"
        },
        "id": "gmJEkT4x_f6W",
        "outputId": "2c339433-3fee-4fa1-d142-bdd2ce0e1a15"
      },
      "execution_count": 10,
      "outputs": [
        {
          "output_type": "stream",
          "name": "stdout",
          "text": [
            "[[1 2 3]\n",
            " [4 5 6]\n",
            " [7 8 9]]\n"
          ]
        }
      ]
    },
    {
      "cell_type": "code",
      "source": [
        "#Exercise4\n",
        "\n",
        "random_values = np.random.rand(4, 5)\n",
        "array_2d = random_values.reshape(4, 5)\n",
        "\n",
        "print(array_2d)"
      ],
      "metadata": {
        "colab": {
          "base_uri": "https://localhost:8080/"
        },
        "id": "ZsptMZA7BgA3",
        "outputId": "0354c457-b032-439d-ac27-1ec62e20ff93"
      },
      "execution_count": 12,
      "outputs": [
        {
          "output_type": "stream",
          "name": "stdout",
          "text": [
            "[[0.83236587 0.75056456 0.68821323 0.61221078 0.3105686 ]\n",
            " [0.85228142 0.16304033 0.65775999 0.02857633 0.90380581]\n",
            " [0.88170287 0.17627295 0.1641314  0.9919353  0.64502712]\n",
            " [0.06026292 0.71261568 0.48258344 0.94048423 0.3104877 ]]\n"
          ]
        }
      ]
    },
    {
      "cell_type": "code",
      "source": [
        "#Exercise 5\n",
        "given_array = np.array([\n",
        "    [0, 1, 2, 3, 4],\n",
        "    [20, 21, 22, 23, 24],\n",
        "    [40, 41, 42, 43, 44]\n",
        "])\n",
        "second_row = given_array[1]\n",
        "\n",
        "print(second_row)\n"
      ],
      "metadata": {
        "colab": {
          "base_uri": "https://localhost:8080/"
        },
        "id": "TGAMGB5kCPMr",
        "outputId": "48578e52-1b24-49f9-e8b3-51a48bc60372"
      },
      "execution_count": 14,
      "outputs": [
        {
          "output_type": "stream",
          "name": "stdout",
          "text": [
            "[20 21 22 23 24]\n"
          ]
        }
      ]
    },
    {
      "cell_type": "code",
      "source": [
        "#Exercice6\n",
        "array_1 = np.array([0, 1, 2, 3, 4, 5, 6, 7, 8, 9])\n",
        "reversed_array = array_1[::-1]\n",
        "print(reversed_array)\n"
      ],
      "metadata": {
        "colab": {
          "base_uri": "https://localhost:8080/"
        },
        "id": "rAjK5dh6LYQ2",
        "outputId": "a760dc0f-94e0-4a57-f736-2350d9338854"
      },
      "execution_count": 19,
      "outputs": [
        {
          "output_type": "stream",
          "name": "stdout",
          "text": [
            "[9 8 7 6 5 4 3 2 1 0]\n"
          ]
        }
      ]
    },
    {
      "cell_type": "code",
      "source": [
        "#Exercise7\n",
        "matrix = np.identity(4)\n",
        "\n",
        "print(matrix)"
      ],
      "metadata": {
        "colab": {
          "base_uri": "https://localhost:8080/"
        },
        "id": "y7mqe5I8MR1i",
        "outputId": "89553e0d-9e14-4989-ed16-b5f0cee4c9d1"
      },
      "execution_count": 23,
      "outputs": [
        {
          "output_type": "stream",
          "name": "stdout",
          "text": [
            "[[1. 0. 0. 0.]\n",
            " [0. 1. 0. 0.]\n",
            " [0. 0. 1. 0.]\n",
            " [0. 0. 0. 1.]]\n"
          ]
        }
      ]
    },
    {
      "cell_type": "code",
      "source": [
        "#Exercise8\n",
        "array_x = np.array([1, 2, 3, 4, 5, 6, 7, 8, 9])\n",
        "\n",
        "print(\"Sum:\", np.sum(array_x))\n",
        "print(\"Average:\", np.mean(array_x))\n",
        "\n"
      ],
      "metadata": {
        "colab": {
          "base_uri": "https://localhost:8080/"
        },
        "id": "8pYu0QQqQyT7",
        "outputId": "4b4cb123-9c7d-4bb4-f01d-2a378a80eb8e"
      },
      "execution_count": 30,
      "outputs": [
        {
          "output_type": "stream",
          "name": "stdout",
          "text": [
            "Sum: 45\n",
            "Average: 5.0\n"
          ]
        }
      ]
    },
    {
      "cell_type": "code",
      "source": [
        "#Exercise 9\n",
        "array = np.arange(1, 21).reshape(4, 5)\n",
        "print(array)"
      ],
      "metadata": {
        "colab": {
          "base_uri": "https://localhost:8080/"
        },
        "id": "pU-RTgImYpEx",
        "outputId": "11739115-7852-4ff1-c805-c0e4b8aba11a"
      },
      "execution_count": 33,
      "outputs": [
        {
          "output_type": "stream",
          "name": "stdout",
          "text": [
            "[[ 1  2  3  4  5]\n",
            " [ 6  7  8  9 10]\n",
            " [11 12 13 14 15]\n",
            " [16 17 18 19 20]]\n"
          ]
        }
      ]
    },
    {
      "cell_type": "code",
      "source": [
        "#Exercise 10\n"
      ],
      "metadata": {
        "id": "h8xICBmgsZNs"
      },
      "execution_count": null,
      "outputs": []
    },
    {
      "cell_type": "code",
      "source": [
        "array = np.array([1, 2, 3, 4, 5, 6, 7, 8, 9, 10])\n",
        "odd_numbers = array[array % 2 != 0]\n",
        "print(odd_numbers)"
      ],
      "metadata": {
        "colab": {
          "base_uri": "https://localhost:8080/"
        },
        "id": "-74Of9B6WcNK",
        "outputId": "44429ce2-b2d2-4fa5-ff47-801c5bbd843f"
      },
      "execution_count": 36,
      "outputs": [
        {
          "output_type": "stream",
          "name": "stdout",
          "text": [
            "[1 3 5 7 9]\n"
          ]
        }
      ]
    }
  ]
}