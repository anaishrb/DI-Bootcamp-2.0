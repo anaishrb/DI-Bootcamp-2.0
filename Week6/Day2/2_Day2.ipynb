{
  "cells": [
    {
      "cell_type": "markdown",
      "id": "7ff983ba",
      "metadata": {
        "id": "7ff983ba"
      },
      "source": [
        "# Advanced Statistical Functions\n",
        "\n",
        "### Hypothesis Testing\n",
        "\n",
        "**What is Hypothesis Testing?**\n",
        "Hypothesis testing is a statistical method used to determine the likelihood of a hypothesis being true based on sample data. It involves making an initial assumption (the null hypothesis) and testing this assumption to infer about a population.\n",
        "\n",
        "**Example of Hypothesis Testing:**\n",
        "\n",
        "Consider a company claims that their new product increases the average duration of customer engagement on their platform from 15 minutes to 20 minutes. To test this claim, a sample of 30 customers is observed.\n",
        "\n",
        "**Null Hypothesis (H0):** The average engagement duration is 15 minutes.\n",
        "**Alternative Hypothesis (H1):** The average engagement duration is more than 15 minutes.\n",
        "\n",
        "**Importance and Usage:**\n",
        "- Hypothesis testing is vital in research for validating theories and results.\n",
        "- Commonly used in fields like science, economics, and medicine to draw conclusions from data.\n",
        "\n",
        "**How to Conduct Hypothesis Testing:**\n",
        "1. Define Null and Alternative Hypotheses.\n",
        "2. Choose a significance level (alpha, typically 0.05).\n",
        "3. Calculate the test statistic and p-value from the sample data.\n",
        "4. Compare the p-value with the alpha level to accept or reject the Null Hypothesis.\n",
        "\n",
        "**Python Code for Hypothesis Testing:**\n"
      ]
    },
    {
      "cell_type": "code",
      "execution_count": null,
      "id": "c11dfdde",
      "metadata": {
        "id": "c11dfdde"
      },
      "outputs": [],
      "source": [
        "import numpy as np\n",
        "from scipy import stats\n",
        "\n",
        "# Sample data (engagement time in minutes)\n",
        "sample_data = np.array([...])  # Example data\n",
        "\n",
        "# Performing a one-sample t-test\n",
        "t_statistic, p_value = stats.ttest_1samp(sample_data, 15)\n",
        "\n",
        "# Interpreting the result\n",
        "alpha = 0.05  # Significance level\n",
        "if p_value < alpha:\n",
        "    print(\"Reject the null hypothesis\")\n",
        "else:\n",
        "    print(\"Fail to reject the null hypothesis\")\n"
      ]
    },
    {
      "cell_type": "markdown",
      "id": "c97eec90",
      "metadata": {
        "id": "c97eec90"
      },
      "source": [
        "\n",
        "### Variance\n",
        "\n",
        "**What is Variance?**\n",
        "Variance measures how much the values in a dataset vary from the mean. It's a key concept in probability and statistics, indicating the degree of spread or dispersion in the data.\n",
        "\n",
        "**Importance and Example:**\n",
        "- Understanding variance helps in assessing risk, quality control, and variability in data.\n",
        "- Example: In finance, high variance in the return of an investment indicates higher risk.\n",
        "\n",
        "**Example of Variance:**\n",
        "\n",
        "Consider an investment portfolio with annual returns over the past 5 years as follows: 8%, 12%, -5%, 10%, 7%.\n",
        "\n",
        "**Python Code for Variance Calculation:**\n"
      ]
    },
    {
      "cell_type": "code",
      "execution_count": null,
      "id": "60c2c453",
      "metadata": {
        "id": "60c2c453"
      },
      "outputs": [],
      "source": [
        "import numpy as np\n",
        "\n",
        "# Annual returns of the investment\n",
        "returns = np.array([0.08, 0.12, -0.05, 0.10, 0.07])\n",
        "\n",
        "# Calculating variance\n",
        "variance = np.var(returns)\n",
        "print(\"Variance of the investment returns:\", variance)\n"
      ]
    },
    {
      "cell_type": "markdown",
      "id": "41dbc04e",
      "metadata": {
        "id": "41dbc04e"
      },
      "source": [
        "\n",
        "![Alt text](../media/2_variance.png)\n",
        "\n",
        "### Skewness and Kurtosis\n",
        "\n",
        "**What is Skewness?**\n",
        "Skewness measures the asymmetry of the probability distribution of a real-valued random variable. Positive skew indicates a tail on the right side of the distribution, and negative skew indicates a tail on the left.\n",
        "\n",
        "**What is Kurtosis?**\n",
        "Kurtosis measures the \"tailedness\" of the distribution. High kurtosis means more of the variance is due to infrequent extreme deviations, as opposed to frequent modestly sized deviations.\n",
        "\n",
        "**Real-World Example for Skewness and Kurtosis:**\n",
        "\n",
        "Consider a dataset representing the heights of adult males in a certain region. We assume that the height distribution is normally distributed.\n",
        "\n",
        "**Python Code for Calculation:**\n"
      ]
    },
    {
      "cell_type": "code",
      "execution_count": null,
      "id": "d8d091c1",
      "metadata": {
        "id": "d8d091c1"
      },
      "outputs": [],
      "source": [
        "import numpy as np\n",
        "from scipy.stats import skew, kurtosis\n",
        "\n",
        "# Example dataset (heights in cm)\n",
        "heights = np.array([...])  # Example data\n",
        "\n",
        "# Calculating skewness and kurtosis\n",
        "skewness = skew(heights)\n",
        "kurtosis_value = kurtosis(heights)\n",
        "\n",
        "print(\"Skewness:\", skewness)\n",
        "print(\"Kurtosis:\", kurtosis_value)\n"
      ]
    },
    {
      "cell_type": "markdown",
      "id": "55977ca3",
      "metadata": {
        "id": "55977ca3"
      },
      "source": [
        "\n",
        "**Usage:**\n",
        "- Skewness and kurtosis are used in data analysis to understand the shape and extremities of data distribution.\n",
        "\n",
        "![Alt text](../media/2_skewness.jpg)\n",
        "![Alt text](../media/2_Kurtosis.jpg)\n",
        "\n",
        "### Probability Distributions\n",
        "\n",
        "Utilizing NumPy's random module, we can simulate a variety of probability distributions. This is crucial in statistical modeling and hypothesis testing.\n",
        "\n",
        "#### Simulating a Normal Distribution\n"
      ]
    },
    {
      "cell_type": "code",
      "execution_count": null,
      "id": "28994865",
      "metadata": {
        "id": "28994865"
      },
      "outputs": [],
      "source": [
        "import numpy as np\n",
        "import matplotlib.pyplot as plt\n",
        "\n",
        "# Generate a normal distribution\n",
        "mean = 0\n",
        "std_dev = 1\n",
        "samples = np.random.normal(mean, std_dev, 1000)\n",
        "\n",
        "# Plotting the distribution\n",
        "plt.hist(samples, bins=30, density=True)\n",
        "plt.title(\"Normal Distribution\")\n",
        "plt.xlabel(\"Value\")\n",
        "plt.ylabel(\"Frequency\")\n",
        "plt.show()\n"
      ]
    },
    {
      "cell_type": "markdown",
      "id": "98fa44bc",
      "metadata": {
        "id": "98fa44bc"
      },
      "source": [
        "\n",
        "### Statistical Sampling\n",
        "\n",
        "Statistical sampling involves\n",
        "\n",
        " selecting a subset of data from a larger dataset. NumPy provides tools for both random sampling and data shuffling.\n",
        "\n",
        "#### Random Sampling\n"
      ]
    },
    {
      "cell_type": "code",
      "execution_count": null,
      "id": "3930fbc4",
      "metadata": {
        "id": "3930fbc4"
      },
      "outputs": [],
      "source": [
        "# Random sampling from an array\n",
        "data = np.arange(10)\n",
        "sample = np.random.choice(data, size=5, replace=False)\n",
        "print(\"Random Sample:\", sample)\n"
      ]
    },
    {
      "cell_type": "markdown",
      "id": "fb8d94f5",
      "metadata": {
        "id": "fb8d94f5"
      },
      "source": [
        "\n",
        "#### Data Shuffling\n"
      ]
    },
    {
      "cell_type": "code",
      "execution_count": null,
      "id": "486cc0a6",
      "metadata": {
        "id": "486cc0a6"
      },
      "outputs": [],
      "source": [
        "# Shuffling data\n",
        "np.random.shuffle(data)\n",
        "print(\"Shuffled Data:\", data)\n"
      ]
    },
    {
      "cell_type": "markdown",
      "id": "ae53f532",
      "metadata": {
        "id": "ae53f532"
      },
      "source": [
        "\n",
        "### Descriptive Statistics\n",
        "\n",
        "NumPy offers functions to calculate descriptive statistics, providing insights into the central tendency, variability, and shape of dataset’s distribution.\n",
        "\n",
        "#### Calculating Variance, Skewness, and Kurtosis\n"
      ]
    },
    {
      "cell_type": "code",
      "execution_count": null,
      "id": "e3170ed9",
      "metadata": {
        "id": "e3170ed9"
      },
      "outputs": [],
      "source": [
        "# Variance\n",
        "variance = np.var(samples)\n",
        "print(\"Variance:\", variance)\n",
        "\n",
        "# Skewness and Kurtosis require scipy\n",
        "from scipy.stats import skew, kurtosis\n",
        "print(\"Skewness:\", skew(samples))\n",
        "print(\"Kurtosis:\", kurtosis(samples))\n"
      ]
    },
    {
      "cell_type": "markdown",
      "id": "51b806a5",
      "metadata": {
        "id": "51b806a5"
      },
      "source": [
        "\n",
        "**Expected Outputs**:\n",
        "- Plot of the normal distribution.\n",
        "- A random sample from the array.\n",
        "- Shuffled version of the original array.\n",
        "- Calculated variance, skewness, and kurtosis of the distribution.\n",
        "\n",
        "---\n",
        "\n",
        "### Exercise\n",
        "\n",
        "1. **Sampling and Shuffling Data**: Perform random sampling on a dataset, followed by shuffling the sampled data.\n",
        "2. **Compute Descriptive Statistics**: Calculate mean, median, variance, skewness, and kurtosis of a randomly generated dataset.\n",
        "\n",
        "**Expected Outputs**:\n",
        "- A randomly sampled subset and its shuffled version.\n",
        "- Calculated mean, median, variance, skewness, and kurtosis of the dataset.\n",
        "\n",
        "---\n"
      ]
    }
  ],
  "metadata": {
    "colab": {
      "provenance": []
    }
  },
  "nbformat": 4,
  "nbformat_minor": 5
}