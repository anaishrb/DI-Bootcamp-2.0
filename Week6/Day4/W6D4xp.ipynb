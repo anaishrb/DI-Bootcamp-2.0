{
  "nbformat": 4,
  "nbformat_minor": 0,
  "metadata": {
    "colab": {
      "provenance": []
    },
    "kernelspec": {
      "name": "python3",
      "display_name": "Python 3"
    },
    "language_info": {
      "name": "python"
    }
  },
  "cells": [
    {
      "cell_type": "code",
      "execution_count": 11,
      "metadata": {
        "id": "tYgLNjzR5Pi1"
      },
      "outputs": [],
      "source": [
        "import numpy as np\n",
        "from scipy import stats\n",
        "import pandas as pd\n"
      ]
    },
    {
      "cell_type": "code",
      "source": [
        "import numpy as np\n",
        "from sklearn.linear_model import LinearRegression\n",
        "\n",
        "#Exercice1\n",
        "house_sizes = np.array([50, 70, 80, 100, 120]).reshape(-1, 1)\n",
        "house_prices = np.array([150000, 200000, 210000, 250000, 280000])\n",
        "model = LinearRegression()\n",
        "\n",
        "model.fit(house_sizes, house_prices)\n",
        "\n",
        "slope = model.coef_[0]\n",
        "intercept = model.intercept_\n",
        "\n",
        "print(\"Slope:\", slope)\n",
        "print(\"Intercept:\", intercept)\n",
        "\n",
        "predicted_price_90_sqm = model.predict([[90]])\n",
        "print(\"Predicted price for a house of 90 square meters:\", predicted_price_90_sqm[0])\n",
        "\n",
        "# The slope represents the change in house price for a change in the house size.\n",
        "# if the size of the house increases by 1m, the price is expected to increase by the slope value.\n"
      ],
      "metadata": {
        "colab": {
          "base_uri": "https://localhost:8080/"
        },
        "id": "ztQ713MV5faP",
        "outputId": "013edc6e-4e63-4d7a-fa36-92b1b191cb10"
      },
      "execution_count": 5,
      "outputs": [
        {
          "output_type": "stream",
          "name": "stdout",
          "text": [
            "Slope: 1828.7671232876708\n",
            "Intercept: 64383.56164383565\n",
            "Predicted price for a house of 90 square meters: 228972.60273972602\n"
          ]
        }
      ]
    },
    {
      "cell_type": "code",
      "source": [
        "#Exercice2\n",
        "\n",
        "fertilizer_1 = [5, 6, 7, 6, 5]\n",
        "fertilizer_2 = [7, 8, 7, 9, 8]\n",
        "fertilizer_3 = [4, 5, 4, 3, 4]\n",
        "f_value, p_value = stats.f_oneway(fertilizer_1, fertilizer_2, fertilizer_3)\n",
        "print(\"F-value:\", f_value)\n",
        "print(\"P-value:\", p_value)\n",
        "\n",
        "#the P-value is less than the significance level (0.05), so at least one pair of fertilizers has significantly different effects on plant growth.\n"
      ],
      "metadata": {
        "colab": {
          "base_uri": "https://localhost:8080/"
        },
        "id": "kqFkn8CiesX4",
        "outputId": "122c3ec6-f0f5-46f9-a35b-857a630beed4"
      },
      "execution_count": 6,
      "outputs": [
        {
          "output_type": "stream",
          "name": "stdout",
          "text": [
            "F-value: 28.52631578947368\n",
            "P-value: 2.7542672098048448e-05\n"
          ]
        }
      ]
    },
    {
      "cell_type": "code",
      "source": [
        "#Exercice 3\n",
        "n, p = 10, 0.5\n",
        "binom_dist = stats.binom(n, p)\n",
        "print(\"PMF at 5 successes of heads in 10 coin flips:\", binom_dist.pmf(5))"
      ],
      "metadata": {
        "colab": {
          "base_uri": "https://localhost:8080/"
        },
        "id": "AWTlQsuSgV6Q",
        "outputId": "c3c6c178-45bf-400a-c799-7d88466efd5e"
      },
      "execution_count": 10,
      "outputs": [
        {
          "output_type": "stream",
          "name": "stdout",
          "text": [
            "PMF at 5 successes of heads in 10 coin flips: 0.24609375000000003\n"
          ]
        }
      ]
    },
    {
      "cell_type": "code",
      "source": [
        "#Exercice 4\n",
        "from scipy.stats import pearsonr\n",
        "from scipy.stats import spearmanr\n",
        "\n",
        "data = pd.DataFrame({'age': [23, 25, 30, 35, 40], 'income': [35000, 40000, 50000, 60000, 70000]})\n",
        "corr, _ = pearsonr(data['age'], data['income'])\n",
        "print(f'Pearson Correlation Coefficient: {corr:.2f}')\n",
        "\n",
        "corr, _ = spearmanr(data['age'], data['income'])\n",
        "print(f'Spearman Rank Correlation: {corr:.2f}')"
      ],
      "metadata": {
        "colab": {
          "base_uri": "https://localhost:8080/"
        },
        "id": "GccPkN9hv_nW",
        "outputId": "847d3586-45aa-467c-f5ba-cda4de8b46e6"
      },
      "execution_count": 15,
      "outputs": [
        {
          "output_type": "stream",
          "name": "stdout",
          "text": [
            "Pearson Correlation Coefficient: 1.00\n",
            "Spearman Rank Correlation: 1.00\n"
          ]
        }
      ]
    },
    {
      "cell_type": "code",
      "source": [
        "#Exercice5\n",
        "import matplotlib.pyplot as plt\n",
        "plt.scatter(data['age'], data['income'])\n",
        "plt.title('Age vs. Income')\n",
        "plt.xlabel('Age')\n",
        "plt.ylabel('Income')\n",
        "plt.show()"
      ],
      "metadata": {
        "colab": {
          "base_uri": "https://localhost:8080/",
          "height": 472
        },
        "id": "sXPvhV6Eyk4k",
        "outputId": "411afee4-4dc3-4809-e91d-0f8601e63483"
      },
      "execution_count": 19,
      "outputs": [
        {
          "output_type": "display_data",
          "data": {
            "text/plain": [
              "<Figure size 640x480 with 1 Axes>"
            ],
            "image/png": "[encoded data removed]"
          },
          "metadata": {}
        }
      ]
    }
  ]
}