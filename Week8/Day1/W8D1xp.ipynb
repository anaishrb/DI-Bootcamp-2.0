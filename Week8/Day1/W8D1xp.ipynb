{
  "nbformat": 4,
  "nbformat_minor": 0,
  "metadata": {
    "colab": {
      "provenance": []
    },
    "kernelspec": {
      "name": "python3",
      "display_name": "Python 3"
    },
    "language_info": {
      "name": "python"
    }
  },
  "cells": [
    {
      "cell_type": "code",
      "execution_count": 8,
      "metadata": {
        "id": "3lxxgfQ29GhY"
      },
      "outputs": [],
      "source": [
        "#Exercise 1\n",
        "import pandas as pd\n",
        "df = pd.read_csv('diabetes_prediction_dataset.csv')\n"
      ]
    },
    {
      "cell_type": "markdown",
      "source": [],
      "metadata": {
        "id": "FBtUg-_DB4b7"
      }
    },
    {
      "cell_type": "code",
      "source": [
        "print(df.head())\n",
        "\n",
        "print(\"\\nDataset Information:\")\n",
        "print(df.info())\n",
        "\n",
        "print(\"\\nDataset Statistics:\")\n",
        "print(df.describe())\n",
        "\n",
        "print(\"\\nMissing Values:\")\n",
        "print(df.isnull().sum())\n"
      ],
      "metadata": {
        "colab": {
          "base_uri": "https://localhost:8080/"
        },
        "id": "PLQq7Uzj-Euv",
        "outputId": "b8a0487c-4614-4fe9-f32a-fada8235a37b"
      },
      "execution_count": 11,
      "outputs": [
        {
          "output_type": "stream",
          "name": "stdout",
          "text": [
            "   gender   age  hypertension  heart_disease  ...    bmi  HbA1c_level  blood_glucose_level  diabetes\n",
            "0  Female  80.0             0              1  ...  25.19          6.6                  140         0\n",
            "1  Female  54.0             0              0  ...  27.32          6.6                   80         0\n",
            "2    Male  28.0             0              0  ...  27.32          5.7                  158         0\n",
            "3  Female  36.0             0              0  ...  23.45          5.0                  155         0\n",
            "4    Male  76.0             1              1  ...  20.14          4.8                  155         0\n",
            "\n",
            "[5 rows x 9 columns]\n",
            "\n",
            "Dataset Information:\n",
            "<class 'pandas.core.frame.DataFrame'>\n",
            "RangeIndex: 100000 entries, 0 to 99999\n",
            "Data columns (total 9 columns):\n",
            " #   Column               Non-Null Count   Dtype  \n",
            "---  ------               --------------   -----  \n",
            " 0   gender               100000 non-null  object \n",
            " 1   age                  100000 non-null  float64\n",
            " 2   hypertension         100000 non-null  int64  \n",
            " 3   heart_disease        100000 non-null  int64  \n",
            " 4   smoking_history      100000 non-null  object \n",
            " 5   bmi                  100000 non-null  float64\n",
            " 6   HbA1c_level          100000 non-null  float64\n",
            " 7   blood_glucose_level  100000 non-null  int64  \n",
            " 8   diabetes             100000 non-null  int64  \n",
            "dtypes: float64(3), int64(4), object(2)\n",
            "memory usage: 6.9+ MB\n",
            "None\n",
            "\n",
            "Dataset Statistics:\n",
            "                 age  hypertension  ...  blood_glucose_level       diabetes\n",
            "count  100000.000000  100000.00000  ...        100000.000000  100000.000000\n",
            "mean       41.885856       0.07485  ...           138.058060       0.085000\n",
            "std        22.516840       0.26315  ...            40.708136       0.278883\n",
            "min         0.080000       0.00000  ...            80.000000       0.000000\n",
            "25%        24.000000       0.00000  ...           100.000000       0.000000\n",
            "50%        43.000000       0.00000  ...           140.000000       0.000000\n",
            "75%        60.000000       0.00000  ...           159.000000       0.000000\n",
            "max        80.000000       1.00000  ...           300.000000       1.000000\n",
            "\n",
            "[8 rows x 7 columns]\n",
            "\n",
            "Missing Values:\n",
            "gender                 0\n",
            "age                    0\n",
            "hypertension           0\n",
            "heart_disease          0\n",
            "smoking_history        0\n",
            "bmi                    0\n",
            "HbA1c_level            0\n",
            "blood_glucose_level    0\n",
            "diabetes               0\n",
            "dtype: int64\n"
          ]
        }
      ]
    },
    {
      "cell_type": "code",
      "source": [
        "\n",
        "positive_cases = df['diabetes'].sum()\n",
        "negative_cases = len(df) - positive_cases\n",
        "print(f\"Number of Positive Cases: {positive_cases}\")\n",
        "print(f\"Number of Negative Cases: {negative_cases}\")"
      ],
      "metadata": {
        "colab": {
          "base_uri": "https://localhost:8080/"
        },
        "id": "buSS9bMr_oh-",
        "outputId": "14c2e01c-ee68-4be7-825f-e51dbf93bf3c"
      },
      "execution_count": 15,
      "outputs": [
        {
          "output_type": "stream",
          "name": "stdout",
          "text": [
            "Number of Positive Cases: 8500\n",
            "Number of Negative Cases: 91500\n"
          ]
        }
      ]
    },
    {
      "cell_type": "code",
      "source": [
        "from sklearn.model_selection import train_test_split\n",
        "X = df.drop('diabetes', axis=1)\n",
        "y = df['diabetes']\n",
        "\n",
        "X_train, X_test, y_train, y_test = train_test_split(X, y, test_size=0.3, random_state=42)\n",
        "\n",
        "print(\"Training set shape:\", X_train.shape, y_train.shape)\n",
        "print(\"Testing set shape:\", X_test.shape, y_test.shape)"
      ],
      "metadata": {
        "colab": {
          "base_uri": "https://localhost:8080/"
        },
        "id": "KWo5euOR__Pn",
        "outputId": "7e395c4f-169c-471f-e596-9459ddd9d737"
      },
      "execution_count": 19,
      "outputs": [
        {
          "output_type": "stream",
          "name": "stdout",
          "text": [
            "Training set shape: (70000, 8) (70000,)\n",
            "Testing set shape: (30000, 8) (30000,)\n"
          ]
        }
      ]
    },
    {
      "cell_type": "markdown",
      "source": [
        "Exercise 2\n",
        "\n",
        "We will use Logistic Regression: Predicting yes/no outcomes, cause this is a binary classification problem (yes or no prediction as if someone has diabete or not)"
      ],
      "metadata": {
        "id": "UOhXcXfvB5zG"
      }
    },
    {
      "cell_type": "code",
      "source": [
        "from sklearn.preprocessing import StandardScaler\n",
        "\n",
        "numeric_cols = X_train.select_dtypes(include=['float64', 'int64']).columns\n",
        "\n",
        "scaler = StandardScaler()\n",
        "\n",
        "X_train[numeric_cols] = scaler.fit_transform(X_train[numeric_cols])\n",
        "X_test[numeric_cols] = scaler.transform(X_test[numeric_cols])\n"
      ],
      "metadata": {
        "id": "pn-Twjq9CV8B"
      },
      "execution_count": 22,
      "outputs": []
    },
    {
      "cell_type": "code",
      "source": [
        "#Exercise 3\n",
        "\n",
        "import numpy as np\n",
        "import matplotlib.pyplot as plt\n",
        "from sklearn.linear_model import LogisticRegression\n",
        "from sklearn.model_selection import train_test_split\n",
        "from sklearn.preprocessing import StandardScaler, OneHotEncoder\n",
        "from sklearn.compose import ColumnTransformer\n",
        "from sklearn.pipeline import Pipeline\n",
        "\n",
        "numeric_cols = X.select_dtypes(include=['float64', 'int64']).columns\n",
        "categorical_cols = ['gender', 'smoking_history']\n",
        "\n",
        "# Create transformers for numeric and categorical features\n",
        "numeric_transformer = StandardScaler()\n",
        "categorical_transformer = OneHotEncoder()\n",
        "\n",
        "# Create a preprocessor to apply transformations\n",
        "preprocessor = ColumnTransformer(\n",
        "    transformers=[\n",
        "        ('num', numeric_transformer, numeric_cols),\n",
        "        ('cat', categorical_transformer, categorical_cols)\n",
        "    ])\n",
        "\n",
        "model = Pipeline(steps=[('preprocessor', preprocessor),\n",
        "                        ('classifier', LogisticRegression())])\n",
        "\n",
        "model.fit(X_train, y_train)\n",
        "\n",
        "# Make predictions on the test set\n",
        "y_pred = model.predict(X_test)"
      ],
      "metadata": {
        "id": "zFDyOnmJClpW"
      },
      "execution_count": 29,
      "outputs": []
    },
    {
      "cell_type": "code",
      "source": [
        "import matplotlib.pyplot as plt\n",
        "import seaborn as sns\n",
        "from sklearn.metrics import accuracy_score, confusion_matrix, classification_report, precision_recall_fscore_support\n",
        "\n",
        "y_pred = model.predict(X_test)\n",
        "\n",
        "accuracy = accuracy_score(y_test, y_pred)\n",
        "print(f'Model Accuracy: {accuracy * 100:.2f}%')\n",
        "\n",
        "cm = confusion_matrix(y_test, y_pred)\n",
        "plt.figure(figsize=(8, 6))\n",
        "sns.heatmap(cm, annot=True, fmt='d', cmap='Blues', cbar=False,\n",
        "            xticklabels=['Negative', 'Positive'], yticklabels=['Negative', 'Positive'])\n",
        "plt.xlabel('Predicted')\n",
        "plt.ylabel('Actual')\n",
        "plt.title('Confusion Matrix')\n",
        "plt.show()\n",
        "\n",
        "class_report = classification_report(y_test, y_pred, target_names=['Negative', 'Positive'])\n",
        "print(\"Classification Report:\\n\", class_report)\n",
        "\n",
        "precision, recall, fscore, _ = precision_recall_fscore_support(y_test, y_pred, average='binary')\n",
        "plt.figure(figsize=(8, 4))\n",
        "sns.barplot(x=['Precision', 'Recall', 'F1-Score'], y=[precision, recall, fscore], palette='viridis')\n",
        "plt.title('Precision, Recall, F1-Score')\n",
        "plt.show()\n"
      ],
      "metadata": {
        "colab": {
          "base_uri": "https://localhost:8080/",
          "height": 1000
        },
        "id": "b4lstImzFFhe",
        "outputId": "d3c6ac76-5f94-4a2e-ef2f-5d591c1e1897"
      },
      "execution_count": 34,
      "outputs": [
        {
          "output_type": "stream",
          "name": "stdout",
          "text": [
            "Model Accuracy: 95.93%\n"
          ]
        },
        {
          "output_type": "display_data",
          "data": {
            "text/plain": [
              "<Figure size 800x600 with 1 Axes>"
            ],
            "image/png": "[encoded data removed]"
          },
          "metadata": {}
        },
        {
          "output_type": "stream",
          "name": "stdout",
          "text": [
            "Classification Report:\n",
            "               precision    recall  f1-score   support\n",
            "\n",
            "    Negative       0.97      0.99      0.98     27453\n",
            "    Positive       0.86      0.62      0.72      2547\n",
            "\n",
            "    accuracy                           0.96     30000\n",
            "   macro avg       0.91      0.80      0.85     30000\n",
            "weighted avg       0.96      0.96      0.96     30000\n",
            "\n"
          ]
        },
        {
          "output_type": "display_data",
          "data": {
            "text/plain": [
              "<Figure size 800x400 with 1 Axes>"
            ],
            "image/png": "[encoded data removed]"
          },
          "metadata": {}
        }
      ]
    },
    {
      "cell_type": "code",
      "source": [],
      "metadata": {
        "colab": {
          "base_uri": "https://localhost:8080/",
          "height": 242
        },
        "id": "alCQ9uQqGtAE",
        "outputId": "9bd02f0a-0831-4281-d5e7-8319b223573c"
      },
      "execution_count": 50,
      "outputs": [
        {
          "output_type": "error",
          "ename": "NameError",
          "evalue": "name 'X_train_scaled' is not defined",
          "traceback": [
            "\u001b[0;31m---------------------------------------------------------------------------\u001b[0m",
            "\u001b[0;31mNameError\u001b[0m                                 Traceback (most recent call last)",
            "\u001b[0;32m<ipython-input-50-0f1a0d99aef1>\u001b[0m in \u001b[0;36m<cell line: 7>\u001b[0;34m()\u001b[0m\n\u001b[1;32m      5\u001b[0m \u001b[0;34m\u001b[0m\u001b[0m\n\u001b[1;32m      6\u001b[0m \u001b[0;31m# Fit the model on the training data\u001b[0m\u001b[0;34m\u001b[0m\u001b[0;34m\u001b[0m\u001b[0m\n\u001b[0;32m----> 7\u001b[0;31m \u001b[0mmodel\u001b[0m\u001b[0;34m.\u001b[0m\u001b[0mfit\u001b[0m\u001b[0;34m(\u001b[0m\u001b[0mX_train_scaled\u001b[0m\u001b[0;34m,\u001b[0m \u001b[0my_train\u001b[0m\u001b[0;34m)\u001b[0m\u001b[0;34m\u001b[0m\u001b[0;34m\u001b[0m\u001b[0m\n\u001b[0m\u001b[1;32m      8\u001b[0m \u001b[0;34m\u001b[0m\u001b[0m\n\u001b[1;32m      9\u001b[0m \u001b[0;31m# Make predictions\u001b[0m\u001b[0;34m\u001b[0m\u001b[0;34m\u001b[0m\u001b[0m\n",
            "\u001b[0;31mNameError\u001b[0m: name 'X_train_scaled' is not defined"
          ]
        }
      ]
    },
    {
      "cell_type": "code",
      "source": [],
      "metadata": {
        "id": "tUJdjm51JOBs"
      },
      "execution_count": null,
      "outputs": []
    }
  ]
}