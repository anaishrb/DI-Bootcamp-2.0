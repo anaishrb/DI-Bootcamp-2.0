{
  "nbformat": 4,
  "nbformat_minor": 0,
  "metadata": {
    "colab": {
      "provenance": []
    },
    "kernelspec": {
      "name": "python3",
      "display_name": "Python 3"
    },
    "language_info": {
      "name": "python"
    }
  },
  "cells": [
    {
      "cell_type": "code",
      "execution_count": 14,
      "metadata": {
        "id": "TMpALLPDN85y"
      },
      "outputs": [],
      "source": [
        "import pandas as pd\n",
        "df = pd.read_csv('Iris.csv')"
      ]
    },
    {
      "cell_type": "markdown",
      "source": [
        "Choice: Decision Tree\n",
        "\n",
        "Dataset Size: The Iris dataset is small (150 samples) with only four features, making it suitable for simpler models.\n",
        "Decision Trees provide clear and interpretable rules for classification, which can help understand the factors contributing to iris species classification.\n",
        "\n",
        "Decision Trees are efficient and do not require a lot of resources for training and prediction.\n"
      ],
      "metadata": {
        "id": "QUwmG_uHR37u"
      }
    },
    {
      "cell_type": "code",
      "source": [
        "import hashlib\n",
        "\n",
        "def anonymize_species(dataframe):\n",
        "    dataframe['Anonymized_Species'] = dataframe['Species'].apply(lambda x: hashlib.sha256(x.encode()).hexdigest())\n",
        "\n",
        "    dataframe.drop(columns=['Species'], inplace=True)\n",
        "\n",
        "    return dataframe"
      ],
      "metadata": {
        "id": "ZXYIUn5rSA9W"
      },
      "execution_count": 2,
      "outputs": []
    },
    {
      "cell_type": "code",
      "source": [
        "data = anonymize_species(df)\n",
        "\n",
        "print(data.head())"
      ],
      "metadata": {
        "colab": {
          "base_uri": "https://localhost:8080/"
        },
        "id": "xJKnJ3T9ST5B",
        "outputId": "f7ab1601-ce4b-4920-d554-e40c33d6eb76"
      },
      "execution_count": 3,
      "outputs": [
        {
          "output_type": "stream",
          "name": "stdout",
          "text": [
            "   Id  SepalLengthCm  SepalWidthCm  PetalLengthCm  PetalWidthCm  \\\n",
            "0   1            5.1           3.5            1.4           0.2   \n",
            "1   2            4.9           3.0            1.4           0.2   \n",
            "2   3            4.7           3.2            1.3           0.2   \n",
            "3   4            4.6           3.1            1.5           0.2   \n",
            "4   5            5.0           3.6            1.4           0.2   \n",
            "\n",
            "                                  Anonymized_Species  \n",
            "0  232df5210712987992fd1445b9c338f2ad60fa3235795a...  \n",
            "1  232df5210712987992fd1445b9c338f2ad60fa3235795a...  \n",
            "2  232df5210712987992fd1445b9c338f2ad60fa3235795a...  \n",
            "3  232df5210712987992fd1445b9c338f2ad60fa3235795a...  \n",
            "4  232df5210712987992fd1445b9c338f2ad60fa3235795a...  \n"
          ]
        }
      ]
    },
    {
      "cell_type": "code",
      "source": [
        "mean_sepal_length = df['SepalLengthCm'].mean()\n",
        "print(f\"Mean Sepal Length for All Iris Species: {mean_sepal_length:.2f}\")\n",
        "\n",
        "# Calculate the median sepal length for setosa iris species\n",
        "setosa_median_sepal_length = df[df['Species'] == 'Iris-setosa']['SepalLengthCm'].median()\n",
        "print(f\"Median Sepal Length for Setosa Iris Species: {setosa_median_sepal_length:.2f}\")\n",
        "\n",
        "# Calculate the mean petal width for versicolor iris species\n",
        "versicolor_mean_petal_width = df[df['Species'] == 'Iris-versicolor']['PetalWidthCm'].mean()\n",
        "print(f\"Mean Petal Width for Versicolor Iris Species: {versicolor_mean_petal_width:.2f}\")\n",
        "\n",
        "# Calculate the median petal length for virginica iris species\n",
        "virginica_median_petal_length = df[df['Species'] == 'Iris-virginica']['PetalLengthCm'].median()\n",
        "print(f\"Median Petal Length for Virginica Iris Species: {virginica_median_petal_length:.2f}\")\n",
        "\n",
        "# Analyze petal length variations\n",
        "petal_length_variations = df.groupby('Species')['PetalLengthCm'].var()\n",
        "print(\"Petal Length Variations by Species:\")\n",
        "print(petal_length_variations)"
      ],
      "metadata": {
        "colab": {
          "base_uri": "https://localhost:8080/"
        },
        "id": "LBY1f04TSlz7",
        "outputId": "ac55de27-28db-494d-b3c5-db00a1eca9f5"
      },
      "execution_count": 15,
      "outputs": [
        {
          "output_type": "stream",
          "name": "stdout",
          "text": [
            "Mean Sepal Length for All Iris Species: 5.84\n",
            "Median Sepal Length for Setosa Iris Species: 5.00\n",
            "Mean Petal Width for Versicolor Iris Species: 1.33\n",
            "Median Petal Length for Virginica Iris Species: 5.55\n",
            "Petal Length Variations by Species:\n",
            "Species\n",
            "Iris-setosa        0.030106\n",
            "Iris-versicolor    0.220816\n",
            "Iris-virginica     0.304588\n",
            "Name: PetalLengthCm, dtype: float64\n"
          ]
        }
      ]
    },
    {
      "cell_type": "markdown",
      "source": [
        "ChatGPT Limitations: It's crucial to understand the limitations of ChatGPT in data analysis. ChatGPT relies on text-based input and may not have access to specific data sources or libraries. Additionally, it might generate responses based on patterns in the training data rather than true understanding.\n",
        "\n",
        "When working with real datasets, ensure that you comply with data privacy regulations and ethical considerations. Anonymize or de-identify sensitive information as needed.\n",
        "\n",
        "While ChatGPT can provide insights, it's advisable to cross-verify critical analysis results with domain experts or perform additional validation to ensure accuracy.\n",
        "In conclusion, ChatGPT can be a valuable asset in data analysis, but it should be used as a complementary tool alongside traditional data analysis techniques and domain expertise.\n",
        "\n",
        "Understanding its capabilities and limitations, along with good data practices, is essential for making informed decisions based on data analysis results.\n",
        "\n",
        "\n",
        "\n",
        "\n"
      ],
      "metadata": {
        "id": "8lsuii3nVw_x"
      }
    }
  ]
}