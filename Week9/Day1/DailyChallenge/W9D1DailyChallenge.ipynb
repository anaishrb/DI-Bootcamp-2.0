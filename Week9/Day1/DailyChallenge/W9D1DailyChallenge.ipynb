{
  "nbformat": 4,
  "nbformat_minor": 0,
  "metadata": {
    "colab": {
      "provenance": []
    },
    "kernelspec": {
      "name": "python3",
      "display_name": "Python 3"
    },
    "language_info": {
      "name": "python"
    }
  },
  "cells": [
    {
      "cell_type": "code",
      "execution_count": 1,
      "metadata": {
        "id": "05CUqdP50CNk"
      },
      "outputs": [],
      "source": [
        "import pandas as pd\n",
        "df = pd.read_csv('shopping_behavior_updated.csv')"
      ]
    },
    {
      "cell_type": "markdown",
      "source": [
        "List 3 key points you want to explore related to e-commerce and consumers trends.\n",
        "\n",
        "- Seasonal tendencies: what season of the year is the most popular for customer to purchase products\n",
        "\n",
        "Chatgpt findings: Here are the results:\n",
        "\n",
        "Winter: 4 purchases\n",
        "Spring: 4 purchases\n",
        "Summer: 2 purchases\n",
        "Fall: 1 purchase\n",
        "Based on the dataset, it appears that Winter and Spring are the most popular seasons for customer purchases, with an equal number of purchases in each season (4 each). Summer and Fall have fewer purchases, with 2 and 1 respectively.\n",
        "\n",
        "\n",
        "\n",
        "\n",
        "\n",
        "- Demographic and Geographic Trends: how age, gender, and location impact shopping choices. Identifying trends in different demographics and regions can inform targeted marketing efforts and product assortment.\n",
        "\n",
        "chat gpt: Based on the provided dataset, I will analyze how age, gender, and location impact shopping choices. Here are the insights:\n",
        "\n",
        "Age Impact on Shopping Choices:\n",
        "\n",
        "To analyze the impact of age on shopping choices, I have grouped customers into three age brackets: 18-35, 36-55, and 56 and above.\n",
        "Here are the average purchase amounts (USD) for each age bracket:\n",
        "18-35: $53.75\n",
        "36-55: $66.75\n",
        "56 and above: $66.00\n",
        "It appears that customers in the 36-55 age bracket have the highest average purchase amount, indicating they may be willing to spend more on their shopping choices.\n",
        "The most popular category for each age bracket:\n",
        "18-35: Clothing\n",
        "36-55: Clothing\n",
        "56 and above: Outerwear\n",
        "The most common item purchased for each age bracket:\n",
        "18-35: Sweater\n",
        "36-55: Jeans\n",
        "56 and above: Coat\n",
        "Gender Impact on Shopping Choices:\n",
        "\n",
        "I have calculated the average purchase amount (USD) for each gender:\n",
        "Male: $63.22\n",
        "Female: $NaN (No data for females in the provided sample)\n",
        "It seems that there is no data for female customers in the provided sample, so we cannot draw conclusions about gender-based shopping choices from this dataset.\n",
        "Location Impact on Shopping Choices:\n",
        "\n",
        "I have analyzed the impact of location on shopping choices by identifying the top three states with the highest average purchase amounts (USD):\n",
        "West Virginia: $97.00\n",
        "Rhode Island: $90.00\n",
        "Montana: $85.00\n",
        "Customers in West Virginia have the highest average purchase amount, suggesting they may be more inclined to spend more on their shopping choices.\n",
        "The most popular category and item purchased for the top three states:\n",
        "West Virginia: Outerwear (Coat)\n",
        "Rhode Island: Footwear (Sandals)\n",
        "Montana: Clothing (Shirt)\n",
        "\n",
        "- Customer Engagement and Loyalty: investigating subscription status, frequency of purchases, and previous purchase history to determine customer loyalty and engagement levels.\n",
        "\n",
        "Subscription Status Impact on Customer Loyalty:\n",
        "\n",
        "I have calculated the average purchase amount (USD) for customers with and without a subscription status:\n",
        "With Subscription: $68.5\n",
        "Without Subscription: $63.43\n",
        "Customers with a subscription status have a slightly higher average purchase amount, suggesting that they may be more loyal and willing to spend more.\n",
        "Percentage of customers with a subscription status: 60%\n",
        "A significant percentage (60%) of customers in the provided dataset have a subscription status, indicating a relatively high level of customer loyalty through subscription programs.\n",
        "Frequency of Purchases Impact on Customer Loyalty:\n",
        "\n",
        "I have grouped customers based on their frequency of purchases (e.g., Weekly, Fortnightly, Quarterly, Annually) and calculated the average purchase amount (USD) for each group:\n",
        "Weekly: $48.67\n",
        "Fortnightly: $58.5\n",
        "Quarterly: $85.0\n",
        "Annually: $31.0\n",
        "Customers who make purchases on a quarterly basis have the highest average purchase amount, indicating a potential correlation between less frequent but larger purchases and loyalty.\n",
        "Percentage of customers in each frequency group:\n",
        "Weekly: 20%\n",
        "Fortnightly: 40%\n",
        "Quarterly: 20%\n",
        "Annually: 20%\n",
        "The majority of customers (40%) make purchases on a fortnightly basis, while 20% purchase weekly, quarterly, or annually.\n",
        "Previous Purchase History Impact on Customer Loyalty:\n",
        "\n",
        "I have examined the relationship between the number of previous purchases and the average purchase amount (USD):\n",
        "Customers with fewer previous purchases (2-14) have an average purchase amount of $54.29.\n",
        "Customers with more previous purchases (19-49) have an average purchase amount of $64.67.\n",
        "Customers with more previous purchases tend to have a higher average purchase amount, indicating that they may be more loyal and willing to spend more.\n",
        "The most common payment method among loyal customers (with more previous purchases) is Credit Card.\n"
      ],
      "metadata": {
        "id": "Z20eNEWEE78b"
      }
    },
    {
      "cell_type": "markdown",
      "source": [
        "Conclusion:\n",
        "Key Findings:\n",
        "\n",
        "Seasonal Trends: Winter and Spring are the most popular seasons for customer purchases, with equal numbers of purchases in each season. This suggests that businesses may want to focus their marketing efforts and product assortments during these seasons.\n",
        "\n",
        "Demographic and Geographic Trends:\n",
        "Age: Customers in the 36-55 age bracket have the highest average purchase amount, indicating a potential target demographic for higher-priced products.\n",
        "Gender: There was no available data for female customers in the provided sample, so gender-based shopping choices could not be analyzed.\n",
        "\n",
        "Location: West Virginia has the highest average purchase amount, suggesting that businesses may consider targeting this region with tailored marketing efforts.\n",
        "\n",
        "Customer Engagement and Loyalty:\n",
        "\n",
        "Subscription Status: Customers with a subscription status have a slightly higher average purchase amount, and a significant percentage (60%) of customers have a subscription status. This indicates the potential for subscription programs to foster customer loyalty.\n",
        "Frequency of Purchases: Customers who make purchases on a quarterly basis have the highest average purchase amount. Businesses may explore strategies to encourage less frequent but larger purchases.\n",
        "Previous Purchase History: Customers with more previous purchases tend to have a higher average purchase amount, indicating greater loyalty. Credit card payments are common among loyal customers.\n",
        "Potential Future Trends:\n",
        "\n",
        "Seasonal Marketing: E-commerce businesses can leverage the popularity of Winter and Spring by offering seasonal promotions, products, and marketing campaigns during these periods.\n",
        "\n",
        "Targeted Demographic Campaigns: Businesses may focus marketing efforts on the 36-55 age bracket, considering their higher average purchase amount. However, they should also collect data on female customers to ensure a comprehensive understanding of demographic trends.\n",
        "Geographical Expansion: Given the higher average purchase amount in West Virginia, businesses may consider expanding their presence or targeting marketing efforts in regions with similar characteristics.\n",
        "Subscription Programs: Investing in and promoting subscription programs can lead to increased customer loyalty and higher spending. Tailoring these programs to customer preferences can enhance their effectiveness.\n",
        "\n",
        "Optimizing Purchase Frequency: Encouraging customers to make larger, less frequent purchases (e.g., quarterly) can lead to higher revenues. Businesses can offer incentives for larger orders or provide exclusive offers to these customers.\n",
        "Enhanced Loyalty Programs: Building on the loyalty seen among customers with more previous purchases, businesses can design loyalty programs that reward frequent and repeat customers, potentially increasing retention rates.\n",
        "These findings and potential future trends provide valuable insights for e-commerce startups to optimize their strategies and enhance customer engagement and loyalty in a competitive marke"
      ],
      "metadata": {
        "id": "f07DXoBMG4uN"
      }
    }
  ]
}