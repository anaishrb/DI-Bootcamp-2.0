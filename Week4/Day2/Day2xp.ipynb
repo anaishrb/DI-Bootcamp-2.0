{
  "nbformat": 4,
  "nbformat_minor": 0,
  "metadata": {
    "colab": {
      "provenance": [],
      "toc_visible": true
    },
    "kernelspec": {
      "name": "python3",
      "display_name": "Python 3"
    },
    "language_info": {
      "name": "python"
    }
  },
  "cells": [
    {
      "cell_type": "code",
      "execution_count": null,
      "metadata": {
        "id": "0SpPem5RYerG"
      },
      "outputs": [],
      "source": []
    },
    {
      "cell_type": "markdown",
      "source": [
        "Ex1 🇰\n",
        "A company’s financial reports stored in an Excel file. : structured\n",
        "Photographs uploaded to a social media platform. : unstructured\n",
        "A collection of news articles on a website. : unstructured\n",
        "Inventory data in a relational database. : structured\n",
        "Recorded interviews from a market research study. : unstructured"
      ],
      "metadata": {
        "id": "EMzA1a3gYg6P"
      }
    },
    {
      "cell_type": "markdown",
      "source": [
        "Instructions\n",
        "\n",
        "For each of the following unstructured data sources, propose a method to convert it into structured data. Explain your reasoning.\n",
        "- A series of blog posts about travel experiences. : use of natural language processing\n",
        "- Audio recordings of customer service calls. : Speech-to-Text Transcription\n",
        "- Handwritten notes from a brainstorming session. : Optical Character Recognition (OCR), Categorization\n",
        "- A video tutorial on cooking. : video transcription"
      ],
      "metadata": {
        "id": "Kat7-0EyY1wn"
      }
    },
    {
      "cell_type": "markdown",
      "source": [
        "exercice 3:\n",
        "You have access to various data sources, including\n",
        "- transaction records (structured), use to analyze sales patterns, what products are more popular, organizing supply and demand\n",
        "- customer feedback comments (unstrstructured): improving products based on customers feedbacks, use of NLP\n",
        "- social media posts about your brand (unstructrued) : understanding the global opinion about your brand and know what to make better to acquire more customers\n",
        "- employee work schedules(structured) : use for efficient shift and staff schedule"
      ],
      "metadata": {
        "id": "NfoRLskCZiCM"
      }
    },
    {
      "cell_type": "code",
      "source": [
        "!pip install Faker\n",
        "from faker import Faker\n",
        "import numpy as np\n",
        "import pandas as pd\n",
        "\n",
        "fake = Faker()\n",
        "\n",
        "names = [fake.name() for _ in range(100)]\n",
        "addresses = [fake.address() for _ in range(100)]\n",
        "emails = [fake.email() for _ in range(100)]\n",
        "\n",
        "ages = np.random.randint(20, 61, size=100)\n",
        "\n",
        "income_levels = np.random.randint(30000, 100000, size=100)\n",
        "\n",
        "data = {\n",
        "    'Name': names,\n",
        "    'Address': addresses,\n",
        "    'Email': emails,\n",
        "    'Age': ages,\n",
        "    'Income': income_levels\n",
        "}\n",
        "df = pd.DataFrame(data)\n",
        "\n",
        "print(df.head(10))\n"
      ],
      "metadata": {
        "colab": {
          "base_uri": "https://localhost:8080/"
        },
        "id": "2Jq_MI-Uam3F",
        "outputId": "32ad8629-c913-4201-94ed-9c853bc1c0b0"
      },
      "execution_count": 5,
      "outputs": [
        {
          "output_type": "stream",
          "name": "stdout",
          "text": [
            "Requirement already satisfied: Faker in /usr/local/lib/python3.10/dist-packages (21.0.0)\n",
            "Requirement already satisfied: python-dateutil>=2.4 in /usr/local/lib/python3.10/dist-packages (from Faker) (2.8.2)\n",
            "Requirement already satisfied: six>=1.5 in /usr/local/lib/python3.10/dist-packages (from python-dateutil>=2.4->Faker) (1.16.0)\n",
            "              Name                                            Address  \\\n",
            "0     David Gordon          556 Thomas Garden\\nSouth Brenda, GA 22199   \n",
            "1    Jill Marshall     5187 Browning Port\\nPort Williamport, SC 24117   \n",
            "2      Chad Franco  6804 Robert Mountains Suite 122\\nNew Jessica, ...   \n",
            "3      Paul Taylor  48053 Sandoval Inlet Suite 227\\nJeremyport, UT...   \n",
            "4  Johnathan White  830 Michael Corners Apt. 028\\nNorth Robertbury...   \n",
            "5       Lynn Watts          1430 Melanie Garden\\nAndrewside, GA 02511   \n",
            "6         Jay Cobb          06068 Stevens Fields\\nWest Seth, CO 54518   \n",
            "7     Derrick Rose            979 Singh Springs\\nDavidmouth, OK 66140   \n",
            "8   Katherine Lamb    081 Amy Summit Suite 469\\nRobinsonton, DE 54724   \n",
            "9   Danielle Smith  8786 Anderson Lock Suite 871\\nSouth Robert, PW...   \n",
            "\n",
            "                         Email  Age  Income  \n",
            "0    ramosvirginia@example.net   37   98039  \n",
            "1        melinda31@example.com   47   36463  \n",
            "2        maryortiz@example.com   58   80746  \n",
            "3       ncervantes@example.org   59   94414  \n",
            "4     normanolivia@example.net   56   81016  \n",
            "5          jmercer@example.org   28   82604  \n",
            "6  mitchelljessica@example.com   54   59432  \n",
            "7     wilsonthomas@example.com   43   51531  \n",
            "8    wilsonwilliam@example.org   43   38941  \n",
            "9   mcgeealexander@example.org   52   40192  \n"
          ]
        }
      ]
    }
  ]
}