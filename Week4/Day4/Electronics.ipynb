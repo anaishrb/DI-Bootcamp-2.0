{
  "nbformat": 4,
  "nbformat_minor": 0,
  "metadata": {
    "colab": {
      "provenance": []
    },
    "kernelspec": {
      "name": "python3",
      "display_name": "Python 3"
    },
    "language_info": {
      "name": "python"
    }
  },
  "cells": [
    {
      "cell_type": "code",
      "execution_count": null,
      "metadata": {
        "colab": {
          "base_uri": "https://localhost:8080/"
        },
        "id": "r7oeErZeltqL",
        "outputId": "38aa5cd9-2d43-4b4f-fda8-7500fc804e59"
      },
      "outputs": [
        {
          "output_type": "stream",
          "name": "stdout",
          "text": [
            "              Name   Age Product Purchased  Price        Date Warranty\n",
            "0     Thomas Baker  70.0            Laptop  800.0  2022-02-09  3 years\n",
            "1    Sarah Johnson  48.0            Camera  700.0         NaN  2 years\n",
            "2     James Wilson  66.0          E-reader  250.0  2022-01-13  3 years\n",
            "3    Michael Brown  48.0          Speakers  150.0  2022-09-29  2 years\n",
            "4    Barbara Jones  40.0        Headphones  100.0  2022-01-09   1 year\n",
            "5    Margaret King  23.0            Tablet  400.0  2022-11-09      NaN\n",
            "6      Joseph Hall  57.0        Headphones    NaN  2022-03-21  2 years\n",
            "7      Carol White  30.0               NaN  100.0  2022-10-09   1 year\n",
            "8   William Taylor  48.0        Headphones  100.0  2022-02-27  3 years\n",
            "9      Maria Lewis  63.0          E-reader  250.0  2022-02-04  3 years\n",
            "10        John Doe   NaN            Camera  700.0  2022-07-05  3 years\n",
            "11  Jennifer Clark  32.0            Laptop  800.0  2022-04-06   1 year\n",
            "12   Barbara Jones  23.0        Headphones  100.0  2022-04-06  2 years\n",
            "13    David Walker  37.0            Laptop  800.0  2022-03-06   1 year\n",
            "14   Michael Brown  56.0          E-reader  250.0  2022-12-07  2 years\n",
            "15     Maria Lewis  24.0            Camera  700.0  2022-04-03   1 year\n",
            "16             NaN  38.0        Smartwatch  250.0  2022-10-24  2 years\n",
            "17     Joseph Hall  53.0        Headphones  100.0  2022-08-15  3 years\n",
            "18  Jennifer Clark  21.0            Tablet  400.0  2022-03-07   1 year\n",
            "19   Michael Brown  48.0            Camera  700.0  2022-08-07  3 years\n"
          ]
        }
      ],
      "source": [
        "import pandas as pd\n",
        "import random\n",
        "import numpy as np\n",
        "from datetime import timedelta, date\n",
        "\n",
        "# Function to generate random dates\n",
        "def random_dates(start_date, end_date, n=10):\n",
        "    start = pd.to_datetime(start_date)\n",
        "    end = pd.to_datetime(end_date)\n",
        "    return [(start + timedelta(days=random.randint(0, int((end - start).days)))).strftime('%Y-%m-%d') for _ in range(n)]\n",
        "\n",
        "# Sample data\n",
        "names = [\"John Doe\", \"Jane Smith\", \"Emily Davis\", \"Michael Brown\", \"Sarah Johnson\",\n",
        "         \"William Taylor\", \"Olivia Martin\", \"James Wilson\", \"Linda Thomas\", \"Barbara Jones\",\n",
        "         \"Robert Harris\", \"Jennifer Clark\", \"Maria Lewis\", \"David Walker\", \"Susan Lee\",\n",
        "         \"Joseph Hall\", \"Margaret King\", \"Thomas Baker\", \"Carol White\", \"Sarah Young\"]\n",
        "\n",
        "# Define 8 unique products\n",
        "products = [\"Laptop\", \"Smartphone\", \"Headphones\", \"Tablet\", \"Camera\",\n",
        "            \"Smartwatch\", \"Speakers\", \"E-reader\"]\n",
        "\n",
        "# Define realistic prices for each product\n",
        "product_prices = {\n",
        "    \"Laptop\": 800,\n",
        "    \"Smartphone\": 600,\n",
        "    \"Headphones\": 100,\n",
        "    \"Tablet\": 400,\n",
        "    \"Camera\": 700,\n",
        "    \"Smartwatch\": 250,\n",
        "    \"Speakers\": 150,\n",
        "    \"E-reader\": 250\n",
        "}\n",
        "\n",
        "purchases = random.choices(products, k=20)\n",
        "\n",
        "# Create a DataFrame\n",
        "data = {\n",
        "    \"Name\": random.choices(names, k=20),\n",
        "    \"Age\": random.choices(range(18, 71), k=20),\n",
        "    \"Product Purchased\": purchases,\n",
        "    \"Price\": [product_prices[product] for product in purchases],  # Match price to product\n",
        "    \"Date\": random_dates(\"2022-01-01\", \"2022-12-31\", 20),\n",
        "}\n",
        "\n",
        "# Add warranty data\n",
        "warranty_options = [\"1 year\", \"2 years\", \"3 years\", \"N/A\"]\n",
        "\n",
        "warranty = random.choices(warranty_options, k=20)\n",
        "# Replace \"N/A\" with NaN\n",
        "warranty = [np.nan if w == \"N/A\" else w for w in warranty]\n",
        "\n",
        "data[\"Warranty\"] = warranty\n",
        "\n",
        "\n",
        "# Creating a DataFrame\n",
        "df = pd.DataFrame(data)\n",
        "\n",
        "# Add a few Nan values\n",
        "for _ in range(5):\n",
        "    row = random.randint(0, len(df) - 1)\n",
        "    col = random.choice(df.columns)\n",
        "    df.at[row, col] = np.nan\n",
        "# Display the DataFrame\n",
        "print(df)\n"
      ]
    },
    {
      "cell_type": "markdown",
      "source": [
        "* Remove years from warranty column - make it an integer, to allow us to graph/measure the data in that column.\n",
        "* Fill in missing prices based on similar/identical products (Product and Price)\n",
        "* Maybe find missing ages based on Name of customer. If not, fill with median age.\n",
        "* (Potentially drop rows with missing names. Based on the specific)\n",
        "* Fill in missing waranties with 0."
      ],
      "metadata": {
        "id": "2L-pJTqgwfot"
      }
    },
    {
      "cell_type": "code",
      "source": [],
      "metadata": {
        "id": "aw-yNAfglvXK"
      },
      "execution_count": null,
      "outputs": []
    }
  ]
}