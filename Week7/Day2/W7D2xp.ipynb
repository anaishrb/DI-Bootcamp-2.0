{
  "nbformat": 4,
  "nbformat_minor": 0,
  "metadata": {
    "colab": {
      "provenance": []
    },
    "kernelspec": {
      "name": "python3",
      "display_name": "Python 3"
    },
    "language_info": {
      "name": "python"
    }
  },
  "cells": [
    {
      "cell_type": "code",
      "source": [
        "#Exercice 1\n",
        "html_content = '''\n",
        "<!DOCTYPE html>\n",
        "<html lang=\"en\">\n",
        "<head>\n",
        "  <meta charset=\"UTF-8\">\n",
        "  <title>Data Type Variables</title>\n",
        "</head>\n",
        "<body>\n",
        "  <script>\n",
        "    // Declare variables of different data types\n",
        "    let myString = \"Hello, JavaScript!\"; // String\n",
        "    let myNumber = 42;                  // Number\n",
        "    let myBoolean = true;               // Boolean\n",
        "    let myUndefined;                    // Undefined\n",
        "    let myNull = null;                  // Null\n",
        "\n",
        "    // Log variables and their types to the console\n",
        "    console.log(myString, typeof myString);\n",
        "    console.log(myNumber, typeof myNumber);\n",
        "    console.log(myBoolean, typeof myBoolean);\n",
        "    console.log(myUndefined, typeof myUndefined);\n",
        "    console.log(myNull, typeof myNull);\n",
        "  </script>\n",
        "</body>\n",
        "</html>\n",
        "'''\n"
      ],
      "metadata": {
        "id": "YrTViaGN2zEz"
      },
      "execution_count": null,
      "outputs": []
    },
    {
      "cell_type": "code",
      "source": [
        "#Exercice 3\n",
        "!pip3 install selenium\n",
        "!pip3 install chromedriver-autoinstaller\n"
      ],
      "metadata": {
        "colab": {
          "base_uri": "https://localhost:8080/"
        },
        "id": "7CiAp73i84wI",
        "outputId": "69075d86-428c-41bd-8e7f-e10a9c5cc015"
      },
      "execution_count": null,
      "outputs": [
        {
          "output_type": "stream",
          "name": "stdout",
          "text": [
            "Requirement already satisfied: selenium in /usr/local/lib/python3.10/dist-packages (4.16.0)\n",
            "Requirement already satisfied: urllib3[socks]<3,>=1.26 in /usr/local/lib/python3.10/dist-packages (from selenium) (2.0.7)\n",
            "Requirement already satisfied: trio~=0.17 in /usr/local/lib/python3.10/dist-packages (from selenium) (0.23.2)\n",
            "Requirement already satisfied: trio-websocket~=0.9 in /usr/local/lib/python3.10/dist-packages (from selenium) (0.11.1)\n",
            "Requirement already satisfied: certifi>=2021.10.8 in /usr/local/lib/python3.10/dist-packages (from selenium) (2023.11.17)\n",
            "Requirement already satisfied: attrs>=20.1.0 in /usr/local/lib/python3.10/dist-packages (from trio~=0.17->selenium) (23.1.0)\n",
            "Requirement already satisfied: sortedcontainers in /usr/local/lib/python3.10/dist-packages (from trio~=0.17->selenium) (2.4.0)\n",
            "Requirement already satisfied: idna in /usr/local/lib/python3.10/dist-packages (from trio~=0.17->selenium) (3.6)\n",
            "Requirement already satisfied: outcome in /usr/local/lib/python3.10/dist-packages (from trio~=0.17->selenium) (1.3.0.post0)\n",
            "Requirement already satisfied: sniffio>=1.3.0 in /usr/local/lib/python3.10/dist-packages (from trio~=0.17->selenium) (1.3.0)\n",
            "Requirement already satisfied: exceptiongroup in /usr/local/lib/python3.10/dist-packages (from trio~=0.17->selenium) (1.2.0)\n",
            "Requirement already satisfied: wsproto>=0.14 in /usr/local/lib/python3.10/dist-packages (from trio-websocket~=0.9->selenium) (1.2.0)\n",
            "Requirement already satisfied: pysocks!=1.5.7,<2.0,>=1.5.6 in /usr/local/lib/python3.10/dist-packages (from urllib3[socks]<3,>=1.26->selenium) (1.7.1)\n",
            "Requirement already satisfied: h11<1,>=0.9.0 in /usr/local/lib/python3.10/dist-packages (from wsproto>=0.14->trio-websocket~=0.9->selenium) (0.14.0)\n",
            "Collecting chromedriver-autoinstaller\n",
            "  Using cached chromedriver_autoinstaller-0.6.3-py3-none-any.whl (7.6 kB)\n",
            "Requirement already satisfied: packaging>=23.1 in /usr/local/lib/python3.10/dist-packages (from chromedriver-autoinstaller) (23.2)\n",
            "Installing collected packages: chromedriver-autoinstaller\n",
            "Successfully installed chromedriver-autoinstaller-0.6.3\n"
          ]
        }
      ]
    },
    {
      "cell_type": "code",
      "source": [
        "from bs4 import BeautifulSoup\n",
        "from selenium import webdriver\n",
        "from selenium.webdriver.common.keys import Keys\n",
        "from selenium.webdriver.common.by import By\n",
        "from selenium.webdriver.support.ui import WebDriverWait\n",
        "from selenium.webdriver.support import expected_conditions as EC\n",
        "import pprint\n",
        "\n",
        "options = webdriver.ChromeOptions()\n",
        "options.add_argument('--headless')  # Run Chrome in headless mode\n",
        "options.add_argument(\"--no-sandbox\")  # Bypass OS security model\n",
        "options.add_argument(\"--disable-dev-shm-usage\")  # Overcome limited resource problems\n",
        "driver = webdriver.Chrome(options=options)\n",
        "\n",
        "url = 'https://www.rottentomatoes.com/browse/movies_in_theaters/critics:certified_fresh'\n",
        "\n",
        "driver.get(url)\n",
        "\n",
        "html_content = driver.page_source\n",
        "\n",
        "soup = BeautifulSoup(html_content, 'html.parser')\n",
        "movie_titles = soup.find_all('a', class_='unstyled articleLink')\n",
        "\n",
        "for title in movie_titles:\n",
        "    print(title.text.strip())\n"
      ],
      "metadata": {
        "id": "WeQkrP6n9Dbk"
      },
      "execution_count": null,
      "outputs": []
    },
    {
      "cell_type": "code",
      "source": [
        "for title in \"discovery_header\":\n",
        "    print(title)\n",
        "\n",
        "movie_containers = soup.find_all('div', class_='movie_info')\n",
        "for container in movie_containers:\n",
        "    title = container.find('h3', class_='movieTitle').get_text(strip=True)\n",
        "    score = container.find('span', class_='tMeterScore').get_text(strip=True)\n",
        "    release_date = container.find('span', class_='release-date').get_text(strip=True)\n",
        "\n",
        "    print(f\"Title: {title}\\nScore: {score}\\nRelease Date: {release_date}\\n\")\n",
        "\n",
        "\n",
        "\n",
        "soup = BeautifulSoup(html_content, 'html.parser')\n",
        "\n",
        "movie_titles = soup.find_all('a', class_='unstyled articleLink')\n",
        "\n",
        "movie_items = soup.find_all('tr', class_='table__row')\n",
        "\n",
        "for item in movie_items:\n",
        "    title = item.find('a', class_='unstyled articleLink')\n",
        "    if title:\n",
        "        movie_title = title.text.strip()\n",
        "        score = item.find('span', class_='tMeterScore')\n",
        "        movie_score = score.text.strip() if score else 'N/A'\n",
        "        date = item.find('td', class_='table__item--date')\n",
        "        release_date = date.text.strip() if date else 'N/A'\n",
        "\n",
        "        print(f\"Title: {movie_title}, Score: {movie_score}, Release Date: {release_date}\")\n",
        "\n",
        "if movie_titles:\n",
        "    for title in movie_titles:\n",
        "        print(title.text.strip())\n",
        "else:\n",
        "    print(\"No movie titles found.\")\n",
        "\n",
        "driver.quit()"
      ],
      "metadata": {
        "colab": {
          "base_uri": "https://localhost:8080/"
        },
        "id": "bqxskv6xA3dy",
        "outputId": "9c3fccb1-3a12-493d-9de5-4cb0d5a5bb8c"
      },
      "execution_count": null,
      "outputs": [
        {
          "output_type": "stream",
          "name": "stderr",
          "text": [
            "WARNING:urllib3.connectionpool:Retrying (Retry(total=2, connect=None, read=None, redirect=None, status=None)) after connection broken by 'NewConnectionError('<urllib3.connection.HTTPConnection object at 0x7ea6a6f07c10>: Failed to establish a new connection: [Errno 111] Connection refused')': /session/e040f7f73dd56495f16fefbb51a6ce3d\n",
            "WARNING:urllib3.connectionpool:Retrying (Retry(total=1, connect=None, read=None, redirect=None, status=None)) after connection broken by 'NewConnectionError('<urllib3.connection.HTTPConnection object at 0x7ea6a6f07e80>: Failed to establish a new connection: [Errno 111] Connection refused')': /session/e040f7f73dd56495f16fefbb51a6ce3d\n",
            "WARNING:urllib3.connectionpool:Retrying (Retry(total=0, connect=None, read=None, redirect=None, status=None)) after connection broken by 'NewConnectionError('<urllib3.connection.HTTPConnection object at 0x7ea6a6f07040>: Failed to establish a new connection: [Errno 111] Connection refused')': /session/e040f7f73dd56495f16fefbb51a6ce3d\n"
          ]
        },
        {
          "output_type": "stream",
          "name": "stdout",
          "text": [
            "d\n",
            "i\n",
            "s\n",
            "c\n",
            "o\n",
            "v\n",
            "e\n",
            "r\n",
            "y\n",
            "_\n",
            "h\n",
            "e\n",
            "a\n",
            "d\n",
            "e\n",
            "r\n",
            "No movie titles found.\n"
          ]
        }
      ]
    },
    {
      "cell_type": "code",
      "source": [
        "from selenium import webdriver\n",
        "from selenium.webdriver.common.by import By\n",
        "from selenium.webdriver.support.ui import WebDriverWait\n",
        "from selenium.webdriver.support import expected_conditions as EC\n",
        "from bs4 import BeautifulSoup\n",
        "import time\n",
        "\n",
        "# Set up the WebDriver (Chrome in this example)\n",
        "options = webdriver.ChromeOptions()\n",
        "options.add_argument('--headless')  # Run Chrome in headless mode\n",
        "options.add_argument(\"--no-sandbox\")  # Bypass OS security model\n",
        "options.add_argument(\"--disable-dev-shm-usage\")  # Overcome limited resource problems\n",
        "driver = webdriver.Chrome(options=options)\n",
        "\n",
        "# URL of the BBC Technology News section\n",
        "url = 'https://www.bbc.com/news/technology'\n",
        "\n",
        "# Navigate to the Technology News section\n",
        "driver.get(url)\n",
        "\n",
        "\n",
        "# Get the HTML content after it's dynamically loaded\n",
        "html_content = driver.page_source\n",
        "\n",
        "# Use BeautifulSoup to parse the HTML content\n",
        "soup = BeautifulSoup(html_content, 'html.parser')\n",
        "\n",
        "# Find news article titles and publication dates\n",
        "articles = soup.find_all('div', class_='gs-c-promo')\n",
        "\n",
        "# Extract article titles and publication dates\n",
        "for article in articles:\n",
        "    article_title = article.find('h3', class_='gs-c-promo-heading__title').text.strip()\n",
        "    publication_date = article.find('time', class_='gs-o-bullet__text').text.strip()\n",
        "    print(f\"Title: {article_title}, Date: {publication_date}\")\n",
        "\n",
        "# Close the browser\n",
        "driver.quit()\n"
      ],
      "metadata": {
        "id": "bOjJ1YI4D3E1"
      },
      "execution_count": null,
      "outputs": []
    },
    {
      "cell_type": "code",
      "source": [],
      "metadata": {
        "id": "tQoX2M6zHCMV"
      },
      "execution_count": null,
      "outputs": []
    }
  ]
}