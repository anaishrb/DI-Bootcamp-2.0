{
  "nbformat": 4,
  "nbformat_minor": 0,
  "metadata": {
    "colab": {
      "provenance": []
    },
    "kernelspec": {
      "name": "python3",
      "display_name": "Python 3"
    },
    "language_info": {
      "name": "python"
    }
  },
  "cells": [
    {
      "cell_type": "code",
      "execution_count": 7,
      "metadata": {
        "colab": {
          "base_uri": "https://localhost:8080/"
        },
        "id": "a3wcmxweds8l",
        "outputId": "58e6bf68-41b5-450a-c502-33ba1b94b5e9"
      },
      "outputs": [
        {
          "output_type": "stream",
          "name": "stdout",
          "text": [
            "       age          workclass  fnlwgt    education  education-num  \\\n",
            "0       39          State-gov   77516    Bachelors             13   \n",
            "1       50   Self-emp-not-inc   83311    Bachelors             13   \n",
            "2       38            Private  215646      HS-grad              9   \n",
            "3       53            Private  234721         11th              7   \n",
            "4       28            Private  338409    Bachelors             13   \n",
            "...    ...                ...     ...          ...            ...   \n",
            "32556   27            Private  257302   Assoc-acdm             12   \n",
            "32557   40            Private  154374      HS-grad              9   \n",
            "32558   58            Private  151910      HS-grad              9   \n",
            "32559   22            Private  201490      HS-grad              9   \n",
            "32560   52       Self-emp-inc  287927      HS-grad              9   \n",
            "\n",
            "            marital-status          occupation    relationship    race  \\\n",
            "0            Never-married        Adm-clerical   Not-in-family   White   \n",
            "1       Married-civ-spouse     Exec-managerial         Husband   White   \n",
            "2                 Divorced   Handlers-cleaners   Not-in-family   White   \n",
            "3       Married-civ-spouse   Handlers-cleaners         Husband   Black   \n",
            "4       Married-civ-spouse      Prof-specialty            Wife   Black   \n",
            "...                    ...                 ...             ...     ...   \n",
            "32556   Married-civ-spouse        Tech-support            Wife   White   \n",
            "32557   Married-civ-spouse   Machine-op-inspct         Husband   White   \n",
            "32558              Widowed        Adm-clerical       Unmarried   White   \n",
            "32559        Never-married        Adm-clerical       Own-child   White   \n",
            "32560   Married-civ-spouse     Exec-managerial            Wife   White   \n",
            "\n",
            "           sex  capital-gain  capital-loss  hours-per-week  native-country  \\\n",
            "0         Male          2174             0              40   United-States   \n",
            "1         Male             0             0              13   United-States   \n",
            "2         Male             0             0              40   United-States   \n",
            "3         Male             0             0              40   United-States   \n",
            "4       Female             0             0              40            Cuba   \n",
            "...        ...           ...           ...             ...             ...   \n",
            "32556   Female             0             0              38   United-States   \n",
            "32557     Male             0             0              40   United-States   \n",
            "32558   Female             0             0              40   United-States   \n",
            "32559     Male             0             0              20   United-States   \n",
            "32560   Female         15024             0              40   United-States   \n",
            "\n",
            "       income  \n",
            "0       <=50K  \n",
            "1       <=50K  \n",
            "2       <=50K  \n",
            "3       <=50K  \n",
            "4       <=50K  \n",
            "...       ...  \n",
            "32556   <=50K  \n",
            "32557    >50K  \n",
            "32558   <=50K  \n",
            "32559   <=50K  \n",
            "32560    >50K  \n",
            "\n",
            "[32561 rows x 15 columns]\n"
          ]
        }
      ],
      "source": [
        "from typing_extensions import dataclass_transform\n",
        "file_path = 'adult.data'\n",
        "column_names = ['age', 'workclass', 'fnlwgt', 'education', 'education-num', 'marital-status', 'occupation', 'relationship', 'race', 'sex', 'capital-gain', 'capital-loss', 'hours-per-week', 'native-country', 'income']\n",
        "data = pd.read_csv(file_path, names=column_names, na_values=' ?')\n",
        "df = pd.DataFrame(data)\n",
        "\n",
        "print(df)"
      ]
    },
    {
      "cell_type": "code",
      "source": [
        "from sklearn.preprocessing import MinMaxScaler\n",
        "\n",
        "# Select appropriate numerical features for normalization\n",
        "numerical_features = ['age', 'education-num', 'capital-gain', 'capital-loss', 'hours-per-week']\n",
        "\n",
        "# Apply Min-Max scaling\n",
        "scaler_minmax = MinMaxScaler()\n",
        "data_minmax = data.copy()\n",
        "data_minmax[numerical_features] = scaler_minmax.fit_transform(data_minmax[numerical_features])\n",
        "\n",
        "\n",
        "print(data_minmax)\n"
      ],
      "metadata": {
        "colab": {
          "base_uri": "https://localhost:8080/"
        },
        "id": "fbp4ti9KfV1x",
        "outputId": "da130b69-7304-46de-879f-c41a9374ea9a"
      },
      "execution_count": 10,
      "outputs": [
        {
          "output_type": "stream",
          "name": "stdout",
          "text": [
            "            age          workclass  fnlwgt    education  education-num  \\\n",
            "0      0.301370          State-gov   77516    Bachelors       0.800000   \n",
            "1      0.452055   Self-emp-not-inc   83311    Bachelors       0.800000   \n",
            "2      0.287671            Private  215646      HS-grad       0.533333   \n",
            "3      0.493151            Private  234721         11th       0.400000   \n",
            "4      0.150685            Private  338409    Bachelors       0.800000   \n",
            "...         ...                ...     ...          ...            ...   \n",
            "32556  0.136986            Private  257302   Assoc-acdm       0.733333   \n",
            "32557  0.315068            Private  154374      HS-grad       0.533333   \n",
            "32558  0.561644            Private  151910      HS-grad       0.533333   \n",
            "32559  0.068493            Private  201490      HS-grad       0.533333   \n",
            "32560  0.479452       Self-emp-inc  287927      HS-grad       0.533333   \n",
            "\n",
            "            marital-status          occupation    relationship    race  \\\n",
            "0            Never-married        Adm-clerical   Not-in-family   White   \n",
            "1       Married-civ-spouse     Exec-managerial         Husband   White   \n",
            "2                 Divorced   Handlers-cleaners   Not-in-family   White   \n",
            "3       Married-civ-spouse   Handlers-cleaners         Husband   Black   \n",
            "4       Married-civ-spouse      Prof-specialty            Wife   Black   \n",
            "...                    ...                 ...             ...     ...   \n",
            "32556   Married-civ-spouse        Tech-support            Wife   White   \n",
            "32557   Married-civ-spouse   Machine-op-inspct         Husband   White   \n",
            "32558              Widowed        Adm-clerical       Unmarried   White   \n",
            "32559        Never-married        Adm-clerical       Own-child   White   \n",
            "32560   Married-civ-spouse     Exec-managerial            Wife   White   \n",
            "\n",
            "           sex  capital-gain  capital-loss  hours-per-week  native-country  \\\n",
            "0         Male      0.021740           0.0        0.397959   United-States   \n",
            "1         Male      0.000000           0.0        0.122449   United-States   \n",
            "2         Male      0.000000           0.0        0.397959   United-States   \n",
            "3         Male      0.000000           0.0        0.397959   United-States   \n",
            "4       Female      0.000000           0.0        0.397959            Cuba   \n",
            "...        ...           ...           ...             ...             ...   \n",
            "32556   Female      0.000000           0.0        0.377551   United-States   \n",
            "32557     Male      0.000000           0.0        0.397959   United-States   \n",
            "32558   Female      0.000000           0.0        0.397959   United-States   \n",
            "32559     Male      0.000000           0.0        0.193878   United-States   \n",
            "32560   Female      0.150242           0.0        0.397959   United-States   \n",
            "\n",
            "       income  \n",
            "0       <=50K  \n",
            "1       <=50K  \n",
            "2       <=50K  \n",
            "3       <=50K  \n",
            "4       <=50K  \n",
            "...       ...  \n",
            "32556   <=50K  \n",
            "32557    >50K  \n",
            "32558   <=50K  \n",
            "32559   <=50K  \n",
            "32560    >50K  \n",
            "\n",
            "[32561 rows x 15 columns]\n"
          ]
        }
      ]
    },
    {
      "cell_type": "code",
      "source": [
        "import matplotlib.pyplot as plt\n",
        "\n",
        "plt.figure(figsize=(10, 4))\n",
        "\n",
        "# Before normalization\n",
        "plt.subplot(1, 2, 1)\n",
        "plt.hist(data['age'], bins=20)\n",
        "plt.title('Before Normalization (Age)')\n",
        "plt.xlabel('Age')\n",
        "plt.ylabel('Frequency')\n",
        "\n",
        "# After Min-Max scaling\n",
        "plt.subplot(1, 2, 2)\n",
        "plt.hist(data_minmax['age'], bins=20)\n",
        "plt.title('After Min-Max Scaling (Age)')\n",
        "plt.xlabel('Scaled Age')\n",
        "plt.ylabel('Frequency')\n",
        "\n",
        "plt.tight_layout()\n",
        "plt.show()"
      ],
      "metadata": {
        "colab": {
          "base_uri": "https://localhost:8080/",
          "height": 270
        },
        "id": "m7RTDa7bg0aQ",
        "outputId": "2034ce77-b0a2-40ee-b973-5b29fbf3d84d"
      },
      "execution_count": 11,
      "outputs": [
        {
          "output_type": "display_data",
          "data": {
            "text/plain": [
              "<Figure size 1000x400 with 2 Axes>"
            ],
            "image/png": "[encoded data removed]"
          },
          "metadata": {}
        }
      ]
    },
    {
      "cell_type": "code",
      "source": [
        "import pandas as pd"
      ],
      "metadata": {
        "id": "hx81Zml6ecxr"
      },
      "execution_count": 1,
      "outputs": []
    },
    {
      "cell_type": "code",
      "source": [
        "outliers = {}\n",
        "for feature in numerical_features:\n",
        "    Q1 = data[feature].quantile(0.25)\n",
        "    Q3 = data[feature].quantile(0.75)\n",
        "    IQR = Q3 - Q1\n",
        "\n",
        "    lower_bound = Q1 - 1.5 * IQR\n",
        "    upper_bound = Q3 + 1.5 * IQR\n",
        "\n",
        "    outliers[feature] = data[(data[feature] < lower_bound) | (data[feature] > upper_bound)]\n",
        "\n",
        "for feature, outlier_data in outliers.items():\n",
        "    print(f\"Outliers in '{feature}': {len(outlier_data)}\")\n",
        "\n",
        "capping_bounds = {\n",
        "    'age': [18, 80],\n",
        "    'education-num': [0, 20],  #\n",
        "}\n",
        "\n",
        "# Apply capping to the dataset\n",
        "for feature, bounds in capping_bounds.items():\n",
        "    data[feature] = data[feature].apply(lambda x: bounds[1] if x > bounds[1] else bounds[0] if x < bounds[0] else x)\n",
        "\n",
        ""
      ],
      "metadata": {
        "colab": {
          "base_uri": "https://localhost:8080/"
        },
        "id": "4etxnJ2gg5kH",
        "outputId": "9c42ed34-1a38-4a2e-f19b-e063f77057a0"
      },
      "execution_count": 13,
      "outputs": [
        {
          "output_type": "stream",
          "name": "stdout",
          "text": [
            "Outliers in 'age': 143\n",
            "Outliers in 'education-num': 1198\n",
            "Outliers in 'capital-gain': 2712\n",
            "Outliers in 'capital-loss': 1519\n",
            "Outliers in 'hours-per-week': 9008\n"
          ]
        }
      ]
    }
  ]
}