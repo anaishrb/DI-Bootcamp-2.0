{
  "nbformat": 4,
  "nbformat_minor": 0,
  "metadata": {
    "colab": {
      "provenance": []
    },
    "kernelspec": {
      "name": "python3",
      "display_name": "Python 3"
    },
    "language_info": {
      "name": "python"
    }
  },
  "cells": [
    {
      "cell_type": "code",
      "execution_count": null,
      "metadata": {
        "id": "E91AhtPnscho"
      },
      "outputs": [],
      "source": [
        "#Exercise 1"
      ]
    },
    {
      "cell_type": "markdown",
      "source": [
        "1. Problem Statement:\n",
        "\n",
        "The goal of this project is to build a machine learning model that predicts the likelihood of loan default for loan applicants. We will use historical loan data and applicant details, so that the model can assist financial institutions in assessing credit risk and making informed decisions to minimize defaults.\n",
        "\n",
        "2. Types of data needed - Features:\n",
        "\n",
        "- Applicant Details (age, gender, contact)\n",
        "- Work details (Revenue of the applicant, occupation)\n",
        "- Financial history\n",
        "- Tax payment accuracy\n",
        "- Loan history (was he subject to loan defautl in the past\n",
        "- Work sector (is this sector more likely to default loan, is it an unstable sector...)\n",
        "- Work status (independant/long term contract…)\n",
        "- local economic factors\n",
        "- asset owned by the applicant\n",
        "\n",
        "3. Sources for data collection\n",
        "\n",
        "- financial insitutions record (bank, customer databases, loan payment records)\n",
        "- Public data for market and local trend\n",
        "- financial website providing in time market data, interest rate etc...\n",
        "- companies & fintech specialized in financial loan support...\n",
        "\n",
        "\n"
      ],
      "metadata": {
        "id": "6LYtv-rCsgGG"
      }
    },
    {
      "cell_type": "markdown",
      "source": [
        "Exercise 2\n",
        "\n",
        "From a given dataset (assume columns like age, income, loan amount, repayment history, credit score, etc.), identify which features might be most relevant for predicting loan defaults.\n",
        "Justify your choice of features:\n",
        "\n",
        "age: it is possible to predict what range of age is more likely to have defautl payment (ex, after 50, it is hard to get a loan because banks are afraid that your job is not stable anymore and you get retired soon so less money etc...)\n",
        "\n",
        "income/loan amount: how much of his income he can use to refund a loan, needs to be balanced\n",
        "\n",
        "tax payment accuracy: was the applicant ever late to pay tax\n",
        "\n",
        "asset owned by the applicant: does he have any asset he can use to refund the loan if there is a default\n",
        "\n",
        "work status: is he in a stable situation or is he likely to get fired or unemployed easily\n",
        "\n",
        "etc...\n"
      ],
      "metadata": {
        "id": "lnC3srVcy2YX"
      }
    },
    {
      "cell_type": "markdown",
      "source": [
        "Exercise 3:\n",
        "\n",
        "Outline the steps to evaluate the model’s performance, mentioning specific metrics (like accuracy, precision, recall) that would be relevant for this problem:\n",
        "\n",
        "- Calculate the True Positives (TP), True Negatives (TN), False Positives (FP), and False Negatives (FN) using loan defautl predictions and history\n",
        "\n",
        "- Accuracy: Calculate the overall accuracy of the model, representing the ratio of correctly predicted outcomes to the total number of predictions.\n",
        "\n",
        "- Precision : The proportion of true positive predictions among all positive predictions. Important when the cost of a false positive is high => perfect for the loan prediction model\n",
        "\n",
        "- Recall (Sensitivity) : The proportion of actual positive cases that were correctly identified.\n",
        "\n",
        "- F1-Score : The harmonic mean of precision and recall. Useful when seeking a balance between precision and recall, especially in uneven class distribution scenarios. => relevant for loan prediciton model, because the causes of default can be unpredictable.\n",
        "\n"
      ],
      "metadata": {
        "id": "5rvAFJ8cz6eV"
      }
    },
    {
      "cell_type": "markdown",
      "source": [
        "Exercise 4\n",
        "\n",
        "For each of these scenario, decide which type of machine learning would be most suitable. Explain.\n",
        "\n",
        "- Predicting Stock Prices : predict future prices => supervised learning, historical stock prices and relevant financial data can be used to predict future stock prices.\n",
        "\n",
        "- Organizing a Library of Books : group books into genres or categories based on similarities. => unsupervised learning\n",
        "\n",
        "- Program a robot to navigate and find the shortest path in a maze => reinforcement learning, the robot is learning by the feedback of the environment."
      ],
      "metadata": {
        "id": "7eDTVX0f21Y0"
      }
    },
    {
      "cell_type": "markdown",
      "source": [
        "Exercise 5\n",
        "\n",
        "1. Supervised model: Classification Model\n",
        "\n",
        "Predicting Stock Prices\n",
        "Use metrics like: Use metrics such as accuracy, precision, recall, and F1-score for evaluation.\n",
        "\n",
        "Cross-Validation: Perform k-fold cross-validation to ensure robustness.\n",
        "\n",
        "Challenge : Overfitting or underfitting may affect model generalization.\n",
        "Choosing the right hyperparameters can impact model performance.\n",
        "\n",
        "2. Unsupervised model: group Books into Genres or Categories Based on Similarities\n",
        "\n",
        "Unsupervised learning methods help discover patterns and group similar items without labeled data. We can consider features like book genres, authors, topics, writing styles, and reader reviews, clustering algorithms can group books into clusters based on similarities in these features.\n",
        "\n",
        "elbow Method: Use the elbow method to determine the optimal number of clusters by plotting inertia vs. number of clusters.\n",
        "\n",
        "3. Reinforcement Learning - Program a Robot to Navigate in a Maze\n",
        "\n",
        "Cumulative Reward: Assess the total reward accumulated by the robot as it navigates the maze over multiple trials.\n",
        "\n",
        "Exploration vs. Exploitation: Evaluate the balance between exploration (trying new paths) and exploitation (choosing learned optimal paths).\n",
        "\n",
        "Challenge: Defining appropriate rewards that encourage the robot to find the shortest path without getting stuck.\n"
      ],
      "metadata": {
        "id": "U8iYYflp52DP"
      }
    }
  ]
}