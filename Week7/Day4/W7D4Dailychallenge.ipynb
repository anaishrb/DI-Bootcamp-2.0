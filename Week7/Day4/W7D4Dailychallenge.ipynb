{
  "nbformat": 4,
  "nbformat_minor": 0,
  "metadata": {
    "colab": {
      "provenance": []
    },
    "kernelspec": {
      "name": "python3",
      "display_name": "Python 3"
    },
    "language_info": {
      "name": "python"
    }
  },
  "cells": [
    {
      "cell_type": "code",
      "execution_count": null,
      "metadata": {
        "id": "qecr0KvQN60M"
      },
      "outputs": [],
      "source": []
    },
    {
      "cell_type": "markdown",
      "source": [
        "Write a brief summary explaining the basics of Machine Learning and why it is important for data analysts.\n",
        "\n",
        "Machine learning is important for data analysts because it helps make predictions about a given situation, or dataset. Based on previous facts from the past, you can predict a specific task in the future.\n",
        "It is important to know how to use predictive models to improve our skills as data analysts, and help a company make predictions for x dataset we will be working on.\n"
      ],
      "metadata": {
        "id": "jslLhf0ZONFp"
      }
    },
    {
      "cell_type": "markdown",
      "source": [
        "Discuss the applications of Machine Learning across different industries, providing at least three specific examples.\n",
        "\n",
        "Health care: based on previous patients and diseases they had; it can predict and automate diagnostic tests.\n",
        "\n",
        "Fraud detection: detest suspicious activities and prevent fraud\n",
        "\n",
        "Education: make individual learning more efficient by implementing automated grading and evaluation."
      ],
      "metadata": {
        "id": "KXYDirmEOvDM"
      }
    },
    {
      "cell_type": "markdown",
      "source": [
        "Create a section in your document that clearly differentiates between Supervised, Unsupervised, and Reinforcement Learning.\n",
        "\n",
        "Supervised Learning\n",
        "\n",
        "The algorithm learns from a labeled dataset which means that we know the output of the input in advance.\n",
        "ex : learn to recognize is x object appears in y image or not.\n",
        "\n",
        "Unsupervised Learning\n",
        "It involves training the algorithm with data that is neither classified nor labeled. It means pointing similarities between groups or features.\n",
        "\n",
        "Reinforcement Learning\n",
        "\n",
        "It is about taking suitable actions to maximize reward in a particular situation.\n",
        "By rewarding the robot for example everytime he is doing a correct action => similar to educating animals and giving them treats for a good behavior."
      ],
      "metadata": {
        "id": "GMF04jRmPVIz"
      }
    },
    {
      "cell_type": "markdown",
      "source": [
        "Describe the process of developing a machine learning model. Focus on three main stages: Feature Selection, Model Selection, and Model Evaluation.\n",
        "\n",
        "feature selection involves identifying and choosing the most relevant and informative features from the dataset that contribute significantly to the model's predictive power.\n",
        "\n",
        "Model Selection involves choosing an appropriate machine learning algorithm or model architecture that suits the best the dataset and problem characteristics.\n",
        "\n",
        "Model evaluation is the process of assessing the performance of the chosen machine learning model using various metrics to ensure its reliability and effectiveness. Some are more suitable for a given problem, but it's recommended to test them all for a more precise result."
      ],
      "metadata": {
        "id": "SdVW6nFJQAEi"
      }
    }
  ]
}