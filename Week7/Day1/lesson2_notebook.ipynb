{
  "cells": [
    {
      "cell_type": "code",
      "execution_count": null,
      "metadata": {
        "id": "UZtBxcTn7s90"
      },
      "outputs": [],
      "source": [
        "from bs4 import BeautifulSoup\n",
        "html = \"\"\"\n",
        "    <html>\n",
        "     <head>\n",
        "         <title>2020 Oscar nominees and winners</title>\n",
        "     </head>\n",
        "     <body>\n",
        "         <h1 id=\"oscar_title\">Oscars 2020</h1>\n",
        "         <p>The biggest cinema awards ceremony took place in February. This year's highlights were:</p>\n",
        "         <ul class=\"highlights\">\n",
        "             <li>Joker</li>\n",
        "             <li>1917</li>\n",
        "             <li>Once Upon a Time in Hollywood</li>\n",
        "             <li>The Irishman</li>\n",
        "         </ul>\n",
        "         <p>See the winners of 3 categories below.</p>\n",
        "         <div>\n",
        "             <div class=\"best-film-category\">\n",
        "                 <h2>Category: best film</h2>\n",
        "                 <ul>\n",
        "                     <li>Ford vs Ferrari</li>\n",
        "                     <li>The Irishman</li>\n",
        "                     <li>JoJo Rabbit</li>\n",
        "                     <li>Joker</li>\n",
        "                     <li>Little Women</li>\n",
        "                     <li>Marriage Story</li>\n",
        "                     <li>1917</li>\n",
        "                     <li>Once Upon a Time in Hollywood</li>\n",
        "                     <li class=\"winner\">Parasite <strong>[WINNER]</strong></li>\n",
        "                 </ul>\n",
        "             </div>\n",
        "             <br>\n",
        "             <div class=\"best-actor-category\">\n",
        "                 <h2>Category: best actor</h2>\n",
        "                 <ul>\n",
        "                     <li>Antonio Banderas - Pain and Glory</li>\n",
        "                     <li>Leonardo DiCaprio - Once Upon a Time In... Hollywood</li>\n",
        "                     <li>Adam Driver - Marriage Story</li>\n",
        "                     <li class=\"winner\">Joaquin Phoenix - Joker <strong>[WINNER]</strong></li>\n",
        "                     <li>Jonathan Price - The Two Popes</li>\n",
        "                 </ul>\n",
        "             </div>\n",
        "             <br>\n",
        "             <div class=\"best-actress-category\">\n",
        "                 <h2>Category: best actress</h2>\n",
        "                 <ul>\n",
        "                     <li>Cythia Erivo - Harriet</li>\n",
        "                     <li>Scarlett Johansson - Marriage Story</li>\n",
        "                     <li>Saoirse Ronan - Little Women</li>\n",
        "                     <li>Charlize Theron - The Scandal</li>\n",
        "                     <li class=\"winner\">Renée Zellweger - Judy: Far Over the Rainbow <strong>[WINNER]</strong></li>\n",
        "                 </ul>\n",
        "             </div>\n",
        "         </div>\n",
        "     </body>\n",
        "</html>\"\"\""
      ]
    },
    {
      "cell_type": "code",
      "execution_count": null,
      "metadata": {
        "id": "ToiZPwjY7s94"
      },
      "outputs": [],
      "source": [
        "soup = BeautifulSoup(html, 'html.parser')"
      ]
    },
    {
      "cell_type": "code",
      "execution_count": null,
      "metadata": {
        "id": "fnuaWnOf7s94",
        "outputId": "d3ea4de9-1c24-4506-8562-aa729ff4bf96"
      },
      "outputs": [
        {
          "name": "stdout",
          "output_type": "stream",
          "text": [
            "<html>\n",
            " <head>\n",
            "  <title>\n",
            "   2020 Oscar nominees and winners\n",
            "  </title>\n",
            " </head>\n",
            " <body>\n",
            "  <h1>\n",
            "   Oscars 2020\n",
            "  </h1>\n",
            "  <p>\n",
            "   The biggest cinema awards ceremony took place in February. This year's highlights were:\n",
            "  </p>\n",
            "  <ul class=\"highlights\">\n",
            "   <li>\n",
            "    Joker\n",
            "   </li>\n",
            "   <li>\n",
            "    1917\n",
            "   </li>\n",
            "   <li>\n",
            "    Once Upon a Time in Hollywood\n",
            "   </li>\n",
            "   <li>\n",
            "    The Irishman\n",
            "   </li>\n",
            "  </ul>\n",
            "  <p>\n",
            "   See the winners of 3 categories below.\n",
            "  </p>\n",
            "  <div>\n",
            "   <div class=\"best-film-category\">\n",
            "    <h2>\n",
            "     Category: best film\n",
            "    </h2>\n",
            "    <ul>\n",
            "     <li>\n",
            "      Ford vs Ferrari\n",
            "     </li>\n",
            "     <li>\n",
            "      The Irishman\n",
            "     </li>\n",
            "     <li>\n",
            "      JoJo Rabbit\n",
            "     </li>\n",
            "     <li>\n",
            "      Joker\n",
            "     </li>\n",
            "     <li>\n",
            "      Little Women\n",
            "     </li>\n",
            "     <li>\n",
            "      Marriage Story\n",
            "     </li>\n",
            "     <li>\n",
            "      1917\n",
            "     </li>\n",
            "     <li>\n",
            "      Once Upon a Time in Hollywood\n",
            "     </li>\n",
            "     <li class=\"winner\">\n",
            "      Parasite\n",
            "      <strong>\n",
            "       [WINNER]\n",
            "      </strong>\n",
            "     </li>\n",
            "    </ul>\n",
            "   </div>\n",
            "   <br/>\n",
            "   <div class=\"best-actor-category\">\n",
            "    <h2>\n",
            "     Category: best actor\n",
            "    </h2>\n",
            "    <ul>\n",
            "     <li>\n",
            "      Antonio Banderas - Pain and Glory\n",
            "     </li>\n",
            "     <li>\n",
            "      Leonardo DiCaprio - Once Upon a Time In... Hollywood\n",
            "     </li>\n",
            "     <li>\n",
            "      Adam Driver - Marriage Story\n",
            "     </li>\n",
            "     <li class=\"winner\">\n",
            "      Joaquin Phoenix - Joker\n",
            "      <strong>\n",
            "       [WINNER]\n",
            "      </strong>\n",
            "     </li>\n",
            "     <li>\n",
            "      Jonathan Price - The Two Popes\n",
            "     </li>\n",
            "    </ul>\n",
            "   </div>\n",
            "   <br/>\n",
            "   <div class=\"best-actress-category\">\n",
            "    <h2>\n",
            "     Category: best actress\n",
            "    </h2>\n",
            "    <ul>\n",
            "     <li>\n",
            "      Cythia Erivo - Harriet\n",
            "     </li>\n",
            "     <li>\n",
            "      Scarlett Johansson - Marriage Story\n",
            "     </li>\n",
            "     <li>\n",
            "      Saoirse Ronan - Little Women\n",
            "     </li>\n",
            "     <li>\n",
            "      Charlize Theron - The Scandal\n",
            "     </li>\n",
            "     <li class=\"winner\">\n",
            "      Renée Zellweger - Judy: Far Over the Rainbow\n",
            "      <strong>\n",
            "       [WINNER]\n",
            "      </strong>\n",
            "     </li>\n",
            "    </ul>\n",
            "   </div>\n",
            "  </div>\n",
            " </body>\n",
            "</html>\n",
            "\n"
          ]
        }
      ],
      "source": [
        "print(soup.prettify())"
      ]
    },
    {
      "cell_type": "code",
      "execution_count": null,
      "metadata": {
        "id": "9IkMerI77s95",
        "outputId": "88d667cd-a207-4572-9083-b63c9bf1cf77"
      },
      "outputs": [
        {
          "name": "stdout",
          "output_type": "stream",
          "text": [
            "<title>2020 Oscar nominees and winners</title>\n"
          ]
        }
      ],
      "source": [
        "print(soup.title)"
      ]
    },
    {
      "cell_type": "code",
      "execution_count": null,
      "metadata": {
        "id": "7Kp7lpUU7s97",
        "outputId": "2b869063-feed-4a9f-9184-ec3d5e46aea5"
      },
      "outputs": [
        {
          "name": "stdout",
          "output_type": "stream",
          "text": [
            "2020 Oscar nominees and winners\n"
          ]
        }
      ],
      "source": [
        "print(soup.title.get_text())"
      ]
    },
    {
      "cell_type": "code",
      "execution_count": null,
      "metadata": {
        "id": "rAwfOsLe7s99",
        "outputId": "2f566476-71cf-4273-88f5-6612929b7a29"
      },
      "outputs": [
        {
          "name": "stdout",
          "output_type": "stream",
          "text": [
            "None\n"
          ]
        }
      ],
      "source": [
        "print(soup.h3)"
      ]
    },
    {
      "cell_type": "code",
      "execution_count": null,
      "metadata": {
        "id": "nIAY7C3y7s9-",
        "outputId": "763b8342-1504-404d-fb5c-20f567dd4094"
      },
      "outputs": [
        {
          "name": "stdout",
          "output_type": "stream",
          "text": [
            "<li>Joker</li>\n"
          ]
        }
      ],
      "source": [
        "print(soup.ul.li)"
      ]
    },
    {
      "cell_type": "code",
      "execution_count": null,
      "metadata": {
        "id": "PY5_hPaH7s9-"
      },
      "outputs": [],
      "source": [
        "h2 = soup.find_all(\"h2\")"
      ]
    },
    {
      "cell_type": "code",
      "execution_count": null,
      "metadata": {
        "id": "4EUhH3PI7s9-",
        "outputId": "e8b5e647-bf46-44e1-c4f5-d14f9bccdca6"
      },
      "outputs": [
        {
          "data": {
            "text/plain": [
              "[<h2>Category: best film</h2>,\n",
              " <h2>Category: best actor</h2>,\n",
              " <h2>Category: best actress</h2>]"
            ]
          },
          "execution_count": 26,
          "metadata": {},
          "output_type": "execute_result"
        }
      ],
      "source": [
        "h2"
      ]
    },
    {
      "cell_type": "code",
      "execution_count": null,
      "metadata": {
        "id": "80ptU1kg7s9_",
        "outputId": "fda4f416-d070-434f-eeeb-f7ba2d5bbec1"
      },
      "outputs": [
        {
          "data": {
            "text/plain": [
              "[<li>Joker</li>,\n",
              " <li>1917</li>,\n",
              " <li>Once Upon a Time in Hollywood</li>,\n",
              " <li>The Irishman</li>,\n",
              " <h2>Category: best film</h2>,\n",
              " <li>Ford vs Ferrari</li>,\n",
              " <li>The Irishman</li>,\n",
              " <li>JoJo Rabbit</li>,\n",
              " <li>Joker</li>,\n",
              " <li>Little Women</li>,\n",
              " <li>Marriage Story</li>,\n",
              " <li>1917</li>,\n",
              " <li>Once Upon a Time in Hollywood</li>,\n",
              " <li class=\"winner\">Parasite <strong>[WINNER]</strong></li>,\n",
              " <h2>Category: best actor</h2>,\n",
              " <li>Antonio Banderas - Pain and Glory</li>,\n",
              " <li>Leonardo DiCaprio - Once Upon a Time In... Hollywood</li>,\n",
              " <li>Adam Driver - Marriage Story</li>,\n",
              " <li class=\"winner\">Joaquin Phoenix - Joker <strong>[WINNER]</strong></li>,\n",
              " <li>Jonathan Price - The Two Popes</li>,\n",
              " <h2>Category: best actress</h2>,\n",
              " <li>Cythia Erivo - Harriet</li>,\n",
              " <li>Scarlett Johansson - Marriage Story</li>,\n",
              " <li>Saoirse Ronan - Little Women</li>,\n",
              " <li>Charlize Theron - The Scandal</li>,\n",
              " <li class=\"winner\">Renée Zellweger - Judy: Far Over the Rainbow <strong>[WINNER]</strong></li>]"
            ]
          },
          "execution_count": 27,
          "metadata": {},
          "output_type": "execute_result"
        }
      ],
      "source": [
        "soup.find_all([\"h2\", \"li\"])"
      ]
    },
    {
      "cell_type": "code",
      "execution_count": null,
      "metadata": {
        "id": "CUmDaf8u7s9_",
        "outputId": "46e95f46-4fe8-406b-85fc-107aac204dc3"
      },
      "outputs": [
        {
          "name": "stderr",
          "output_type": "stream",
          "text": [
            "C:\\Users\\COM\\AppData\\Local\\Temp\\ipykernel_16240\\335918586.py:1: DeprecationWarning: The 'text' argument to find()-type methods is deprecated. Use 'string' instead.\n",
            "  soup.find_all('li', text=\"Scarlett Johansson - Marriage Story\")\n"
          ]
        },
        {
          "data": {
            "text/plain": [
              "[<li>Scarlett Johansson - Marriage Story</li>]"
            ]
          },
          "execution_count": 29,
          "metadata": {},
          "output_type": "execute_result"
        }
      ],
      "source": [
        "soup.find_all('li', text=\"Scarlett Johansson - Marriage Story\")"
      ]
    },
    {
      "cell_type": "code",
      "execution_count": null,
      "metadata": {
        "id": "WujR8FIy7s9_",
        "outputId": "9516e54d-81de-4407-fa14-ec7c0fe5460b"
      },
      "outputs": [
        {
          "data": {
            "text/plain": [
              "[<li>Cythia Erivo - Harriet</li>,\n",
              " <li>Scarlett Johansson - Marriage Story</li>,\n",
              " <li>Saoirse Ronan - Little Women</li>,\n",
              " <li>Charlize Theron - The Scandal</li>,\n",
              " <li class=\"winner\">Renée Zellweger - Judy: Far Over the Rainbow <strong>[WINNER]</strong></li>]"
            ]
          },
          "execution_count": 34,
          "metadata": {},
          "output_type": "execute_result"
        }
      ],
      "source": [
        "soup.find_all(class_='best-actress-category')[0].find_all('li')"
      ]
    },
    {
      "cell_type": "code",
      "execution_count": null,
      "metadata": {
        "id": "VID-76GP7s9_",
        "outputId": "e3edc691-de26-4909-98d5-b9386a42c3c7"
      },
      "outputs": [
        {
          "data": {
            "text/plain": [
              "<li>Cythia Erivo - Harriet</li>"
            ]
          },
          "execution_count": 35,
          "metadata": {},
          "output_type": "execute_result"
        }
      ],
      "source": [
        "first_actress = soup.find_all(class_='best-actress-category')[0].find_all('li')[0]\n",
        "first_actress"
      ]
    },
    {
      "cell_type": "code",
      "execution_count": null,
      "metadata": {
        "id": "URIShVlW7s-A",
        "outputId": "110b1e97-324f-4f6d-ff6e-7fa425da7805"
      },
      "outputs": [
        {
          "data": {
            "text/plain": [
              "'li'"
            ]
          },
          "execution_count": 41,
          "metadata": {},
          "output_type": "execute_result"
        }
      ],
      "source": [
        "first_actress.name"
      ]
    },
    {
      "cell_type": "code",
      "execution_count": null,
      "metadata": {
        "id": "S5Xh1NpJ7s-A",
        "outputId": "9866490a-2759-4aa1-9525-9f4b4104eb31"
      },
      "outputs": [
        {
          "name": "stdout",
          "output_type": "stream",
          "text": [
            "<!doctype html>\n",
            "<html lang=\"en\">\n",
            "  <head>\n",
            "    <meta charset=\"utf-8\">\n",
            "    <title>Countries of the Wor\n"
          ]
        }
      ],
      "source": [
        "import requests\n",
        "response = requests.get(\"https://www.scrapethissite.com/pages/simple/\")\n",
        "print(response.text[:100])\n",
        "websoup = BeautifulSoup(response.text, 'html.parser')"
      ]
    },
    {
      "cell_type": "code",
      "execution_count": null,
      "metadata": {
        "id": "zOzOr1aG7s-A"
      },
      "outputs": [],
      "source": [
        "websoup = BeautifulSoup(response.text, 'html.parser')"
      ]
    },
    {
      "cell_type": "code",
      "execution_count": null,
      "metadata": {
        "id": "tOKaevwK7s-B",
        "outputId": "c2a84270-b40a-4d7f-cbb3-738c17cd044f"
      },
      "outputs": [
        {
          "data": {
            "text/plain": [
              "<title>Countries of the World: A Simple Example | Scrape This Site | A public sandbox for learning web scraping</title>"
            ]
          },
          "execution_count": 45,
          "metadata": {},
          "output_type": "execute_result"
        }
      ],
      "source": [
        "websoup.title"
      ]
    },
    {
      "cell_type": "code",
      "execution_count": null,
      "metadata": {
        "id": "3synIgYt7s-B"
      },
      "outputs": [],
      "source": [
        "countries = websoup.find_all(class_=\"country-name\")"
      ]
    },
    {
      "cell_type": "code",
      "execution_count": null,
      "metadata": {
        "id": "U7G8vi-R7s-B"
      },
      "outputs": [],
      "source": [
        "countries = [country.get_text().strip() for country in countries]"
      ]
    },
    {
      "cell_type": "code",
      "execution_count": null,
      "metadata": {
        "id": "JQt1TzUr7s-B",
        "outputId": "4021b0d5-f727-488f-b8fc-20817ede8090"
      },
      "outputs": [
        {
          "data": {
            "text/plain": [
              "['Andorra',\n",
              " 'United Arab Emirates',\n",
              " 'Afghanistan',\n",
              " 'Antigua and Barbuda',\n",
              " 'Anguilla']"
            ]
          },
          "execution_count": 54,
          "metadata": {},
          "output_type": "execute_result"
        }
      ],
      "source": [
        "countries[:5]"
      ]
    },
    {
      "cell_type": "code",
      "execution_count": null,
      "metadata": {
        "id": "baSYSy8I7s-B"
      },
      "outputs": [],
      "source": [
        "import pandas as pd\n"
      ]
    },
    {
      "cell_type": "code",
      "execution_count": null,
      "metadata": {
        "id": "ir2a5RcW7s-B"
      },
      "outputs": [],
      "source": [
        "capitals = websoup.find_all(class_=\"country-capital\")\n",
        "capitals = [capital.get_text().strip() for capital in capitals]"
      ]
    },
    {
      "cell_type": "code",
      "execution_count": null,
      "metadata": {
        "id": "iWuubt6v7s-C",
        "outputId": "ec269f70-d4fd-49f9-d4ef-feb6822ae749"
      },
      "outputs": [
        {
          "data": {
            "text/plain": [
              "['Andorra la Vella', 'Abu Dhabi', 'Kabul', \"St. John's\", 'The Valley']"
            ]
          },
          "execution_count": 57,
          "metadata": {},
          "output_type": "execute_result"
        }
      ],
      "source": [
        "capitals[:5]"
      ]
    },
    {
      "cell_type": "code",
      "execution_count": null,
      "metadata": {
        "id": "gt7S_aFW7s-C"
      },
      "outputs": [],
      "source": [
        "populations = websoup.find_all(class_=\"country-population\")\n",
        "populations = [population.get_text().strip() for population in populations]"
      ]
    },
    {
      "cell_type": "code",
      "execution_count": null,
      "metadata": {
        "id": "eHbR64Iy7s-C",
        "outputId": "d39c0f48-2334-4a53-c7af-7bc2799f78cb"
      },
      "outputs": [
        {
          "data": {
            "text/plain": [
              "['84000', '4975593', '29121286', '86754', '13254']"
            ]
          },
          "execution_count": 59,
          "metadata": {},
          "output_type": "execute_result"
        }
      ],
      "source": [
        "populations[:5]"
      ]
    },
    {
      "cell_type": "code",
      "execution_count": null,
      "metadata": {
        "id": "ZDaRQ_LZ7s-C"
      },
      "outputs": [],
      "source": [
        "areas = websoup.find_all(class_=\"country-area\")\n",
        "areas = [area.get_text().strip() for area in areas]"
      ]
    },
    {
      "cell_type": "code",
      "execution_count": null,
      "metadata": {
        "id": "PThvX1ol7s-C"
      },
      "outputs": [],
      "source": [
        "data = pd.DataFrame({\n",
        "    \"Country\": countries,\n",
        "    \"Capital\": capitals,\n",
        "    \"Population\": populations,\n",
        "    \"Area\": areas\n",
        "})"
      ]
    },
    {
      "cell_type": "code",
      "execution_count": null,
      "metadata": {
        "id": "6jRF1pIA7s-D",
        "outputId": "5287a148-919a-4a5e-b023-05f2fc35ed67"
      },
      "outputs": [
        {
          "data": {
            "text/html": [
              "<div>\n",
              "<style scoped>\n",
              "    .dataframe tbody tr th:only-of-type {\n",
              "        vertical-align: middle;\n",
              "    }\n",
              "\n",
              "    .dataframe tbody tr th {\n",
              "        vertical-align: top;\n",
              "    }\n",
              "\n",
              "    .dataframe thead th {\n",
              "        text-align: right;\n",
              "    }\n",
              "</style>\n",
              "<table border=\"1\" class=\"dataframe\">\n",
              "  <thead>\n",
              "    <tr style=\"text-align: right;\">\n",
              "      <th></th>\n",
              "      <th>Country</th>\n",
              "      <th>Capital</th>\n",
              "      <th>Population</th>\n",
              "      <th>Area</th>\n",
              "    </tr>\n",
              "  </thead>\n",
              "  <tbody>\n",
              "    <tr>\n",
              "      <th>0</th>\n",
              "      <td>Andorra</td>\n",
              "      <td>Andorra la Vella</td>\n",
              "      <td>84000</td>\n",
              "      <td>468.0</td>\n",
              "    </tr>\n",
              "    <tr>\n",
              "      <th>1</th>\n",
              "      <td>United Arab Emirates</td>\n",
              "      <td>Abu Dhabi</td>\n",
              "      <td>4975593</td>\n",
              "      <td>82880.0</td>\n",
              "    </tr>\n",
              "    <tr>\n",
              "      <th>2</th>\n",
              "      <td>Afghanistan</td>\n",
              "      <td>Kabul</td>\n",
              "      <td>29121286</td>\n",
              "      <td>647500.0</td>\n",
              "    </tr>\n",
              "    <tr>\n",
              "      <th>3</th>\n",
              "      <td>Antigua and Barbuda</td>\n",
              "      <td>St. John's</td>\n",
              "      <td>86754</td>\n",
              "      <td>443.0</td>\n",
              "    </tr>\n",
              "    <tr>\n",
              "      <th>4</th>\n",
              "      <td>Anguilla</td>\n",
              "      <td>The Valley</td>\n",
              "      <td>13254</td>\n",
              "      <td>102.0</td>\n",
              "    </tr>\n",
              "  </tbody>\n",
              "</table>\n",
              "</div>"
            ],
            "text/plain": [
              "                Country           Capital Population      Area\n",
              "0               Andorra  Andorra la Vella      84000     468.0\n",
              "1  United Arab Emirates         Abu Dhabi    4975593   82880.0\n",
              "2           Afghanistan             Kabul   29121286  647500.0\n",
              "3   Antigua and Barbuda        St. John's      86754     443.0\n",
              "4              Anguilla        The Valley      13254     102.0"
            ]
          },
          "execution_count": 62,
          "metadata": {},
          "output_type": "execute_result"
        }
      ],
      "source": [
        "data.head()"
      ]
    },
    {
      "cell_type": "code",
      "execution_count": null,
      "metadata": {
        "id": "IEqPa-Ol7s-D"
      },
      "outputs": [],
      "source": []
    }
  ],
  "metadata": {
    "kernelspec": {
      "display_name": "Python 3",
      "language": "python",
      "name": "python3"
    },
    "language_info": {
      "codemirror_mode": {
        "name": "ipython",
        "version": 3
      },
      "file_extension": ".py",
      "mimetype": "text/x-python",
      "name": "python",
      "nbconvert_exporter": "python",
      "pygments_lexer": "ipython3",
      "version": "3.12.1"
    },
    "colab": {
      "provenance": []
    }
  },
  "nbformat": 4,
  "nbformat_minor": 0
}